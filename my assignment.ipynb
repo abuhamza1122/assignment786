{
 "cells": [
  {
   "cell_type": "markdown",
   "id": "9d495188",
   "metadata": {},
   "source": [
    "### 1) What is a vector?\n",
    "#### a quantity having direction as well as magnitude, especially as determining the position of one point in space relative to another."
   ]
  },
  {
   "cell_type": "markdown",
   "id": "edede997",
   "metadata": {},
   "source": [
    "### 2) How do you represent vectors using a Python list? Give an example.\n"
   ]
  },
  {
   "cell_type": "code",
   "execution_count": 3,
   "id": "1e55508d",
   "metadata": {},
   "outputs": [],
   "source": [
    "# You can represent vectors in Python using lists, where each element of the list corresponds to a component of the vector.\n",
    "#Here's an example of how to represent a 2D vector using a Python list:\n",
    "# Representing a 2D vector [x, y]\n",
    "vector_2d = [3, 4]  # This represents a 2D vector with x = 3 and y = 4\n"
   ]
  },
  {
   "cell_type": "markdown",
   "id": "27ec8e11",
   "metadata": {},
   "source": [
    "### 3) What is a dot product of two vectors?\n",
    "#### The dot product, also called scalar product, is a measure of how closely two vectors align, in terms of the directions they point."
   ]
  },
  {
   "cell_type": "markdown",
   "id": "288f8e14",
   "metadata": {},
   "source": [
    "### 4) Write a function to compute the dot product of two vectors.\n"
   ]
  },
  {
   "cell_type": "code",
   "execution_count": 4,
   "id": "02bcefeb",
   "metadata": {},
   "outputs": [
    {
     "name": "stdout",
     "output_type": "stream",
     "text": [
      "Dot Product: 26\n"
     ]
    }
   ],
   "source": [
    "def dot_product(vector1, vector2):\n",
    "    if len(vector1) != len(vector2):\n",
    "        raise ValueError(\"Vectors must have the same dimension for dot product calculation.\")\n",
    "    \n",
    "    result = sum(v1 * v2 for v1, v2 in zip(vector1, vector2))\n",
    "    return result\n",
    "\n",
    "# Example usage:\n",
    "vector1 = [3, 4, 5]\n",
    "vector2 = [1, 2, 3]\n",
    "\n",
    "result = dot_product(vector1, vector2)\n",
    "print(\"Dot Product:\", result)\n"
   ]
  },
  {
   "cell_type": "markdown",
   "id": "d9f5d218",
   "metadata": {},
   "source": [
    "### 5) what is numpy?\n",
    "#### NumPy is a Python library used for working with arrays."
   ]
  },
  {
   "cell_type": "markdown",
   "id": "4acc052b",
   "metadata": {},
   "source": [
    "### 6) How do you install Numpy?\n",
    "#### You have to write this in the command line \"pip install numpy\"\n"
   ]
  },
  {
   "cell_type": "markdown",
   "id": "5edbfbdc",
   "metadata": {},
   "source": [
    "### 7) How do you import the numpy module?\n",
    "#### import numpy"
   ]
  },
  {
   "cell_type": "markdown",
   "id": "eb333b84",
   "metadata": {},
   "source": [
    "### 8) What does it mean to import a module with an alias? Give an example.\n",
    "#### Import aliases are where you take your standard import, but instead of using a pre-defined name by the exporting module, you use a name that is defined in the importing module."
   ]
  },
  {
   "cell_type": "code",
   "execution_count": 5,
   "id": "9d5ece7c",
   "metadata": {},
   "outputs": [],
   "source": [
    "import numpy as np"
   ]
  },
  {
   "cell_type": "markdown",
   "id": "605a215b",
   "metadata": {},
   "source": [
    "### 9) What is the commonly used alias for numpy?\n",
    "#### NumPy is usually imported under the np alias. "
   ]
  },
  {
   "cell_type": "markdown",
   "id": "1e564feb",
   "metadata": {},
   "source": [
    "### 10) What is a Numpy array?\n",
    "#### A numpy array is a grid of values, all of the same type, and is indexed by a tuple of nonnegative integers. "
   ]
  },
  {
   "cell_type": "markdown",
   "id": "e3321c1f",
   "metadata": {},
   "source": [
    "### 11) How do you create a Numpy array? Give an example.\n"
   ]
  },
  {
   "cell_type": "code",
   "execution_count": 5,
   "id": "b15fa67a",
   "metadata": {},
   "outputs": [
    {
     "name": "stdout",
     "output_type": "stream",
     "text": [
      "[1 3 5 7 9]\n"
     ]
    }
   ],
   "source": [
    "# Once you have NumPy installed, you can create NumPy arrays using the numpy.array() function. Here's an example of how \n",
    "# to create a simple NumPy array:\n",
    "import numpy as np\n",
    "\n",
    "# Creating a NumPy array from a Python list\n",
    "my_list = [1, 3, 5, 7, 9]\n",
    "my_array = np.array(my_list)\n",
    "\n",
    "print(my_array)\n"
   ]
  },
  {
   "cell_type": "markdown",
   "id": "ab7a97ca",
   "metadata": {},
   "source": [
    "### 12) What is the type of Numpy arrays?\n",
    "#### booleans (bool), integers (int), unsigned integers (uint) floating point (float) and complex."
   ]
  },
  {
   "cell_type": "markdown",
   "id": "da92eb45",
   "metadata": {},
   "source": [
    "### 13) How do you access the elements of a Numpy array?"
   ]
  },
  {
   "cell_type": "code",
   "execution_count": 6,
   "id": "50c30bf6",
   "metadata": {},
   "outputs": [
    {
     "name": "stdout",
     "output_type": "stream",
     "text": [
      "[12 24 36 48 60]\n"
     ]
    }
   ],
   "source": [
    "# First, you need to import the numpy library, and then you can create an array using the numpy.array() function.\n",
    "# Here's an example:\n",
    "import numpy as np\n",
    "\n",
    "# Create a NumPy array from a Python list\n",
    "my_list = [12, 24, 36, 48, 60]\n",
    "my_array = np.array(my_list)\n",
    "\n",
    "print(my_array)\n"
   ]
  },
  {
   "cell_type": "code",
   "execution_count": 7,
   "id": "fd51a5bb",
   "metadata": {},
   "outputs": [
    {
     "name": "stdout",
     "output_type": "stream",
     "text": [
      "[[1 2 3]\n",
      " [4 5 6]\n",
      " [7 8 9]]\n"
     ]
    }
   ],
   "source": [
    "import numpy as np\n",
    "\n",
    "# Create a 2D NumPy array from a list of lists\n",
    "matrix = np.array([[1, 2, 3], [4, 5, 6], [7, 8, 9]])\n",
    "\n",
    "print(matrix)\n"
   ]
  },
  {
   "cell_type": "code",
   "execution_count": 9,
   "id": "64797435",
   "metadata": {},
   "outputs": [
    {
     "name": "stdout",
     "output_type": "stream",
     "text": [
      "6\n"
     ]
    }
   ],
   "source": [
    "import numpy as np\n",
    "\n",
    "arr = np.array([[[1, 2, 3], [4, 5, 6]], [[7, 8, 9], [10, 11, 12]]])\n",
    "\n",
    "print(arr[0, 1, 2])"
   ]
  },
  {
   "cell_type": "markdown",
   "id": "9ba4e0f3",
   "metadata": {},
   "source": [
    "### 14) How do you compute the dot product of two vectors using Numpy?\n"
   ]
  },
  {
   "cell_type": "code",
   "execution_count": 9,
   "id": "6374cbf2",
   "metadata": {},
   "outputs": [
    {
     "name": "stdout",
     "output_type": "stream",
     "text": [
      "Dot Product (Method 1): 2258\n"
     ]
    }
   ],
   "source": [
    "#  We can compute the dot product of two vectors using NumPy's numpy.dot() function or the @ operator for element-wise\n",
    "# multiplication. Here is only one example:\n",
    "\n",
    "#  Using numpy.dot()\n",
    "import numpy as np\n",
    "\n",
    "# Define two NumPy arrays representing vectors\n",
    "vector1 = np.array([10, 12, 43])\n",
    "vector2 = np.array([41, 25, 36])\n",
    "\n",
    "# Compute the dot product using numpy.dot()\n",
    "dot_product = np.dot(vector1, vector2)\n",
    "\n",
    "print(\"Dot Product (Method 1):\", dot_product)\n"
   ]
  },
  {
   "cell_type": "markdown",
   "id": "3f487a25",
   "metadata": {},
   "source": [
    "### 15) What happens if you try to compute the dot product of two vectors which have different sizes?\n",
    "#### The dot product is applicable only for the pairs of vectors that have the same number of dimensions."
   ]
  },
  {
   "cell_type": "markdown",
   "id": "23b0db09",
   "metadata": {},
   "source": [
    "### 16) How do you compute the element-wise product of two Numpy arrays?"
   ]
  },
  {
   "cell_type": "code",
   "execution_count": 10,
   "id": "9c3aa1bd",
   "metadata": {},
   "outputs": [
    {
     "name": "stdout",
     "output_type": "stream",
     "text": [
      "Element-Wise Product: [ 539 1210 3392]\n"
     ]
    }
   ],
   "source": [
    "import numpy as np\n",
    "\n",
    "# Define two NumPy arrays\n",
    "array1 = np.array([11, 22, 53])\n",
    "array2 = np.array([49, 55, 64])\n",
    "\n",
    "# Compute the element-wise product using the * operator\n",
    "elementwise_product = array1 * array2\n",
    "\n",
    "print(\"Element-Wise Product:\", elementwise_product)\n"
   ]
  },
  {
   "cell_type": "markdown",
   "id": "8a65194b",
   "metadata": {},
   "source": [
    "### 17) How do you compute the sum of all the elements in a Numpy array?\n"
   ]
  },
  {
   "cell_type": "code",
   "execution_count": 12,
   "id": "caa7fa50",
   "metadata": {},
   "outputs": [
    {
     "name": "stdout",
     "output_type": "stream",
     "text": [
      "Sum : 15\n"
     ]
    }
   ],
   "source": [
    "import numpy as np\n",
    "\n",
    "# Define a NumPy array\n",
    "my_array = np.array([1, 2, 3, 4, 5])\n",
    "\n",
    "# Compute the sum using the array.sum() method\n",
    "array_sum = my_array.sum()\n",
    "\n",
    "print(\"Sum :\", array_sum)\n"
   ]
  },
  {
   "cell_type": "markdown",
   "id": "dd089481",
   "metadata": {},
   "source": [
    "### 18) What are the benefits of using Numpy arrays over Python lists for operating on numerical data?\n",
    "#### NumPy arrays are faster than Python lists."
   ]
  },
  {
   "cell_type": "markdown",
   "id": "d3a7553b",
   "metadata": {},
   "source": [
    "### 19) Why do Numpy array operations have better performance compared to Python functions and loops?\n",
    "#### A Python list, however, is only a collection of objects. A NumPy array allows only homogeneous data types. "
   ]
  },
  {
   "cell_type": "markdown",
   "id": "f3c4e9f5",
   "metadata": {},
   "source": [
    "### 20) Illustrate the performance difference between Numpy array operations and Python loops using an example.\n"
   ]
  },
  {
   "cell_type": "code",
   "execution_count": 13,
   "id": "a01e5aca",
   "metadata": {},
   "outputs": [
    {
     "name": "stdout",
     "output_type": "stream",
     "text": [
      "NumPy Execution Time: 0.017989 seconds\n",
      "Python Loop Execution Time: 0.968157 seconds\n",
      "Results Match: False\n"
     ]
    }
   ],
   "source": [
    "import numpy as np\n",
    "import time\n",
    "\n",
    "# Create large arrays with 10 million elements\n",
    "array_size = 10**7\n",
    "numpy_array = np.arange(array_size)\n",
    "python_list = list(range(array_size))\n",
    "\n",
    "# Using NumPy for element-wise multiplication\n",
    "start_time = time.time()\n",
    "numpy_result = numpy_array * numpy_array\n",
    "numpy_time = time.time() - start_time\n",
    "\n",
    "# Using Python loop for element-wise multiplication\n",
    "start_time = time.time()\n",
    "python_result = [x * x for x in python_list]\n",
    "python_time = time.time() - start_time\n",
    "\n",
    "# Check if the results match\n",
    "results_match = np.array_equal(numpy_result, python_result)\n",
    "\n",
    "print(f\"NumPy Execution Time: {numpy_time:.6f} seconds\")\n",
    "print(f\"Python Loop Execution Time: {python_time:.6f} seconds\")\n",
    "print(\"Results Match:\", results_match)\n"
   ]
  },
  {
   "cell_type": "markdown",
   "id": "a892a048",
   "metadata": {},
   "source": [
    "### 21) What are multi-dimensional Numpy arrays?\n",
    "#### A multi-dimensional array is an array with more than one level or dimension."
   ]
  },
  {
   "cell_type": "markdown",
   "id": "310f435a",
   "metadata": {},
   "source": [
    "### 22) Illustrate the creation of Numpy arrays with 2, 3, and 4 dimensions."
   ]
  },
  {
   "cell_type": "code",
   "execution_count": 15,
   "id": "b84da257",
   "metadata": {},
   "outputs": [
    {
     "name": "stdout",
     "output_type": "stream",
     "text": [
      "[[ 2  4  6]\n",
      " [ 8 10 12]]\n",
      "number of dimensions : 2\n"
     ]
    }
   ],
   "source": [
    "# 2-D dimensions\n",
    "import numpy as np\n",
    "\n",
    "arr = np.array([[2, 4, 6], [8, 10, 12]])\n",
    "\n",
    "print(arr)\n",
    "print('number of dimensions :', arr.ndim)"
   ]
  },
  {
   "cell_type": "code",
   "execution_count": 16,
   "id": "60c2993f",
   "metadata": {},
   "outputs": [
    {
     "name": "stdout",
     "output_type": "stream",
     "text": [
      "[[[ 1  2  3]\n",
      "  [ 4  5  6]]\n",
      "\n",
      " [[ 7  8  9]\n",
      "  [10 11 12]]]\n",
      "number of dimensions : 3\n"
     ]
    }
   ],
   "source": [
    "# 3-D dimensions\n",
    "import numpy as np\n",
    "\n",
    "arr = np.array([[[1, 2, 3], [4, 5, 6]], [[7, 8, 9], [10, 11, 12]]])\n",
    "\n",
    "print(arr)\n",
    "print('number of dimensions :', arr.ndim)"
   ]
  },
  {
   "cell_type": "code",
   "execution_count": 17,
   "id": "3d87707a",
   "metadata": {},
   "outputs": [
    {
     "name": "stdout",
     "output_type": "stream",
     "text": [
      "[[[[10 20 30 44]]]]\n",
      "number of dimensions : 4\n"
     ]
    }
   ],
   "source": [
    "# 4-D dimensions\n",
    "import numpy as np\n",
    "\n",
    "arr = np.array([10, 20, 30, 44], ndmin=4)\n",
    "\n",
    "print(arr)\n",
    "print('number of dimensions :', arr.ndim)"
   ]
  },
  {
   "cell_type": "markdown",
   "id": "28abcd40",
   "metadata": {},
   "source": [
    "### 23) How do you inspect the number of dimensions and the length along each dimension in a Numpy array?\n"
   ]
  },
  {
   "cell_type": "code",
   "execution_count": 18,
   "id": "9b2ec5fc",
   "metadata": {},
   "outputs": [
    {
     "name": "stdout",
     "output_type": "stream",
     "text": [
      "Number of Dimensions: 2\n",
      "Length along Each Dimension: (3, 3)\n"
     ]
    }
   ],
   "source": [
    "import numpy as np\n",
    "\n",
    "# Create a NumPy array\n",
    "my_array = np.array([[1, 2, 3], [4, 5, 6], [7, 8, 9]])\n",
    "\n",
    "# Inspect the number of dimensions\n",
    "num_dimensions = my_array.ndim\n",
    "\n",
    "# Inspect the length along each dimension\n",
    "dimensions = my_array.shape\n",
    "\n",
    "print(\"Number of Dimensions:\", num_dimensions)\n",
    "print(\"Length along Each Dimension:\", dimensions)\n"
   ]
  },
  {
   "cell_type": "markdown",
   "id": "c3812a94",
   "metadata": {},
   "source": [
    "### 24) Can the elements of a Numpy array have different data types?\n",
    "#### The elements of a NumPy array must all be of the same type"
   ]
  },
  {
   "cell_type": "markdown",
   "id": "455c1375",
   "metadata": {},
   "source": [
    "### 25) How do you check the data type of the elements of a Numpy array?"
   ]
  },
  {
   "cell_type": "code",
   "execution_count": 19,
   "id": "9b04a33f",
   "metadata": {},
   "outputs": [
    {
     "name": "stdout",
     "output_type": "stream",
     "text": [
      "int32\n"
     ]
    }
   ],
   "source": [
    "import numpy as np\n",
    "\n",
    "arr = np.array([13, 26, 39, 52], ndmin=5)\n",
    "\n",
    "print(arr.dtype)"
   ]
  },
  {
   "cell_type": "markdown",
   "id": "48488040",
   "metadata": {},
   "source": [
    "### 26) What is the data type of a Numpy array?\n",
    "#### Here's the list of most commonly used numeric data types in NumPy: int8 , int16 , int32 , int64 - signed integer types with different bit sizes."
   ]
  },
  {
   "cell_type": "markdown",
   "id": "c92d7e8b",
   "metadata": {},
   "source": [
    "### 27) What is the difference between a matrix and a 2D Numpy array?\n",
    "#### Numpy arrays (nd-arrays) are N-dimensional where, N=1,2,3… Numpy matrices are strictly 2-dimensional. "
   ]
  },
  {
   "cell_type": "markdown",
   "id": "70767e89",
   "metadata": {},
   "source": [
    "### 28) How do you perform matrix multiplication using Numpy?"
   ]
  },
  {
   "cell_type": "code",
   "execution_count": 20,
   "id": "5f3c1e06",
   "metadata": {},
   "outputs": [
    {
     "name": "stdout",
     "output_type": "stream",
     "text": [
      "[[ 5 35]\n",
      " [30 50]]\n"
     ]
    }
   ],
   "source": [
    "import numpy as np\n",
    "\n",
    "X = 5\n",
    "\n",
    "Y = [[1, 7],\n",
    "      [6, 10]]\n",
    " \n",
    "print(np.dot(X,Y))"
   ]
  },
  {
   "cell_type": "markdown",
   "id": "db31d471",
   "metadata": {},
   "source": [
    "### 29) What is the @ operator used for in Numpy?\n",
    "#### The @ operator, available since Python 3.5, can be used for conventional matrix multiplication."
   ]
  },
  {
   "cell_type": "markdown",
   "id": "007e3fcf",
   "metadata": {},
   "source": [
    "### 30) What is the CSV file format?\n",
    "#### A CSV file is a spreadsheet format, so it can be opened by spreadsheet applications like Microsoft Excel and Google Spreadsheets. Since CSV files are used to exchange large volumes of data, database programs, analytical software, and applications that can store massive amounts of information usually support the CSV."
   ]
  },
  {
   "cell_type": "markdown",
   "id": "0ddb2c69",
   "metadata": {},
   "source": [
    "### 31) How do you read data from a CSV file using Numpy?"
   ]
  },
  {
   "cell_type": "code",
   "execution_count": 23,
   "id": "f68ae994",
   "metadata": {},
   "outputs": [
    {
     "ename": "FileNotFoundError",
     "evalue": "sample_data.csv not found.",
     "output_type": "error",
     "traceback": [
      "\u001b[1;31m---------------------------------------------------------------------------\u001b[0m",
      "\u001b[1;31mFileNotFoundError\u001b[0m                         Traceback (most recent call last)",
      "Cell \u001b[1;32mIn[23], line 4\u001b[0m\n\u001b[0;32m      1\u001b[0m \u001b[38;5;28;01mimport\u001b[39;00m \u001b[38;5;21;01mnumpy\u001b[39;00m \u001b[38;5;28;01mas\u001b[39;00m \u001b[38;5;21;01mnp\u001b[39;00m\n\u001b[0;32m      3\u001b[0m \u001b[38;5;66;03m# using loadtxt()\u001b[39;00m\n\u001b[1;32m----> 4\u001b[0m arr \u001b[38;5;241m=\u001b[39m np\u001b[38;5;241m.\u001b[39mloadtxt(\u001b[38;5;124m\"\u001b[39m\u001b[38;5;124msample_data.csv\u001b[39m\u001b[38;5;124m\"\u001b[39m,\n\u001b[0;32m      5\u001b[0m                  delimiter\u001b[38;5;241m=\u001b[39m\u001b[38;5;124m\"\u001b[39m\u001b[38;5;124m,\u001b[39m\u001b[38;5;124m\"\u001b[39m, dtype\u001b[38;5;241m=\u001b[39m\u001b[38;5;28mstr\u001b[39m)\n\u001b[0;32m      6\u001b[0m display(arr)\n",
      "File \u001b[1;32mC:\\ProgramData\\anaconda3\\Lib\\site-packages\\numpy\\lib\\npyio.py:1356\u001b[0m, in \u001b[0;36mloadtxt\u001b[1;34m(fname, dtype, comments, delimiter, converters, skiprows, usecols, unpack, ndmin, encoding, max_rows, quotechar, like)\u001b[0m\n\u001b[0;32m   1353\u001b[0m \u001b[38;5;28;01mif\u001b[39;00m \u001b[38;5;28misinstance\u001b[39m(delimiter, \u001b[38;5;28mbytes\u001b[39m):\n\u001b[0;32m   1354\u001b[0m     delimiter \u001b[38;5;241m=\u001b[39m delimiter\u001b[38;5;241m.\u001b[39mdecode(\u001b[38;5;124m'\u001b[39m\u001b[38;5;124mlatin1\u001b[39m\u001b[38;5;124m'\u001b[39m)\n\u001b[1;32m-> 1356\u001b[0m arr \u001b[38;5;241m=\u001b[39m _read(fname, dtype\u001b[38;5;241m=\u001b[39mdtype, comment\u001b[38;5;241m=\u001b[39mcomment, delimiter\u001b[38;5;241m=\u001b[39mdelimiter,\n\u001b[0;32m   1357\u001b[0m             converters\u001b[38;5;241m=\u001b[39mconverters, skiplines\u001b[38;5;241m=\u001b[39mskiprows, usecols\u001b[38;5;241m=\u001b[39musecols,\n\u001b[0;32m   1358\u001b[0m             unpack\u001b[38;5;241m=\u001b[39munpack, ndmin\u001b[38;5;241m=\u001b[39mndmin, encoding\u001b[38;5;241m=\u001b[39mencoding,\n\u001b[0;32m   1359\u001b[0m             max_rows\u001b[38;5;241m=\u001b[39mmax_rows, quote\u001b[38;5;241m=\u001b[39mquotechar)\n\u001b[0;32m   1361\u001b[0m \u001b[38;5;28;01mreturn\u001b[39;00m arr\n",
      "File \u001b[1;32mC:\\ProgramData\\anaconda3\\Lib\\site-packages\\numpy\\lib\\npyio.py:975\u001b[0m, in \u001b[0;36m_read\u001b[1;34m(fname, delimiter, comment, quote, imaginary_unit, usecols, skiplines, max_rows, converters, ndmin, unpack, dtype, encoding)\u001b[0m\n\u001b[0;32m    973\u001b[0m     fname \u001b[38;5;241m=\u001b[39m os\u001b[38;5;241m.\u001b[39mfspath(fname)\n\u001b[0;32m    974\u001b[0m \u001b[38;5;28;01mif\u001b[39;00m \u001b[38;5;28misinstance\u001b[39m(fname, \u001b[38;5;28mstr\u001b[39m):\n\u001b[1;32m--> 975\u001b[0m     fh \u001b[38;5;241m=\u001b[39m np\u001b[38;5;241m.\u001b[39mlib\u001b[38;5;241m.\u001b[39m_datasource\u001b[38;5;241m.\u001b[39mopen(fname, \u001b[38;5;124m'\u001b[39m\u001b[38;5;124mrt\u001b[39m\u001b[38;5;124m'\u001b[39m, encoding\u001b[38;5;241m=\u001b[39mencoding)\n\u001b[0;32m    976\u001b[0m     \u001b[38;5;28;01mif\u001b[39;00m encoding \u001b[38;5;129;01mis\u001b[39;00m \u001b[38;5;28;01mNone\u001b[39;00m:\n\u001b[0;32m    977\u001b[0m         encoding \u001b[38;5;241m=\u001b[39m \u001b[38;5;28mgetattr\u001b[39m(fh, \u001b[38;5;124m'\u001b[39m\u001b[38;5;124mencoding\u001b[39m\u001b[38;5;124m'\u001b[39m, \u001b[38;5;124m'\u001b[39m\u001b[38;5;124mlatin1\u001b[39m\u001b[38;5;124m'\u001b[39m)\n",
      "File \u001b[1;32mC:\\ProgramData\\anaconda3\\Lib\\site-packages\\numpy\\lib\\_datasource.py:193\u001b[0m, in \u001b[0;36mopen\u001b[1;34m(path, mode, destpath, encoding, newline)\u001b[0m\n\u001b[0;32m    156\u001b[0m \u001b[38;5;250m\u001b[39m\u001b[38;5;124;03m\"\"\"\u001b[39;00m\n\u001b[0;32m    157\u001b[0m \u001b[38;5;124;03mOpen `path` with `mode` and return the file object.\u001b[39;00m\n\u001b[0;32m    158\u001b[0m \n\u001b[1;32m   (...)\u001b[0m\n\u001b[0;32m    189\u001b[0m \n\u001b[0;32m    190\u001b[0m \u001b[38;5;124;03m\"\"\"\u001b[39;00m\n\u001b[0;32m    192\u001b[0m ds \u001b[38;5;241m=\u001b[39m DataSource(destpath)\n\u001b[1;32m--> 193\u001b[0m \u001b[38;5;28;01mreturn\u001b[39;00m ds\u001b[38;5;241m.\u001b[39mopen(path, mode, encoding\u001b[38;5;241m=\u001b[39mencoding, newline\u001b[38;5;241m=\u001b[39mnewline)\n",
      "File \u001b[1;32mC:\\ProgramData\\anaconda3\\Lib\\site-packages\\numpy\\lib\\_datasource.py:533\u001b[0m, in \u001b[0;36mDataSource.open\u001b[1;34m(self, path, mode, encoding, newline)\u001b[0m\n\u001b[0;32m    530\u001b[0m     \u001b[38;5;28;01mreturn\u001b[39;00m _file_openers[ext](found, mode\u001b[38;5;241m=\u001b[39mmode,\n\u001b[0;32m    531\u001b[0m                               encoding\u001b[38;5;241m=\u001b[39mencoding, newline\u001b[38;5;241m=\u001b[39mnewline)\n\u001b[0;32m    532\u001b[0m \u001b[38;5;28;01melse\u001b[39;00m:\n\u001b[1;32m--> 533\u001b[0m     \u001b[38;5;28;01mraise\u001b[39;00m \u001b[38;5;167;01mFileNotFoundError\u001b[39;00m(\u001b[38;5;124mf\u001b[39m\u001b[38;5;124m\"\u001b[39m\u001b[38;5;132;01m{\u001b[39;00mpath\u001b[38;5;132;01m}\u001b[39;00m\u001b[38;5;124m not found.\u001b[39m\u001b[38;5;124m\"\u001b[39m)\n",
      "\u001b[1;31mFileNotFoundError\u001b[0m: sample_data.csv not found."
     ]
    }
   ],
   "source": [
    "import numpy as np\n",
    " \n",
    "# using loadtxt()\n",
    "arr = np.loadtxt(\"sample_data.csv\",\n",
    "                 delimiter=\",\", dtype=str)\n",
    "display(arr)"
   ]
  },
  {
   "cell_type": "code",
   "execution_count": 24,
   "id": "93153de1",
   "metadata": {},
   "outputs": [
    {
     "ename": "FileNotFoundError",
     "evalue": "sample_data.csv not found.",
     "output_type": "error",
     "traceback": [
      "\u001b[1;31m---------------------------------------------------------------------------\u001b[0m",
      "\u001b[1;31mFileNotFoundError\u001b[0m                         Traceback (most recent call last)",
      "Cell \u001b[1;32mIn[24], line 4\u001b[0m\n\u001b[0;32m      1\u001b[0m \u001b[38;5;28;01mimport\u001b[39;00m \u001b[38;5;21;01mnumpy\u001b[39;00m \u001b[38;5;28;01mas\u001b[39;00m \u001b[38;5;21;01mnp\u001b[39;00m\n\u001b[0;32m      3\u001b[0m \u001b[38;5;66;03m# using genfromtxt()\u001b[39;00m\n\u001b[1;32m----> 4\u001b[0m arr \u001b[38;5;241m=\u001b[39m np\u001b[38;5;241m.\u001b[39mgenfromtxt(\u001b[38;5;124m\"\u001b[39m\u001b[38;5;124msample_data.csv\u001b[39m\u001b[38;5;124m\"\u001b[39m,\n\u001b[0;32m      5\u001b[0m                     delimiter\u001b[38;5;241m=\u001b[39m\u001b[38;5;124m\"\u001b[39m\u001b[38;5;124m,\u001b[39m\u001b[38;5;124m\"\u001b[39m, dtype\u001b[38;5;241m=\u001b[39m\u001b[38;5;28mstr\u001b[39m)\n\u001b[0;32m      6\u001b[0m display(arr)\n",
      "File \u001b[1;32mC:\\ProgramData\\anaconda3\\Lib\\site-packages\\numpy\\lib\\npyio.py:1977\u001b[0m, in \u001b[0;36mgenfromtxt\u001b[1;34m(fname, dtype, comments, delimiter, skip_header, skip_footer, converters, missing_values, filling_values, usecols, names, excludelist, deletechars, replace_space, autostrip, case_sensitive, defaultfmt, unpack, usemask, loose, invalid_raise, max_rows, encoding, ndmin, like)\u001b[0m\n\u001b[0;32m   1975\u001b[0m     fname \u001b[38;5;241m=\u001b[39m os_fspath(fname)\n\u001b[0;32m   1976\u001b[0m \u001b[38;5;28;01mif\u001b[39;00m \u001b[38;5;28misinstance\u001b[39m(fname, \u001b[38;5;28mstr\u001b[39m):\n\u001b[1;32m-> 1977\u001b[0m     fid \u001b[38;5;241m=\u001b[39m np\u001b[38;5;241m.\u001b[39mlib\u001b[38;5;241m.\u001b[39m_datasource\u001b[38;5;241m.\u001b[39mopen(fname, \u001b[38;5;124m'\u001b[39m\u001b[38;5;124mrt\u001b[39m\u001b[38;5;124m'\u001b[39m, encoding\u001b[38;5;241m=\u001b[39mencoding)\n\u001b[0;32m   1978\u001b[0m     fid_ctx \u001b[38;5;241m=\u001b[39m contextlib\u001b[38;5;241m.\u001b[39mclosing(fid)\n\u001b[0;32m   1979\u001b[0m \u001b[38;5;28;01melse\u001b[39;00m:\n",
      "File \u001b[1;32mC:\\ProgramData\\anaconda3\\Lib\\site-packages\\numpy\\lib\\_datasource.py:193\u001b[0m, in \u001b[0;36mopen\u001b[1;34m(path, mode, destpath, encoding, newline)\u001b[0m\n\u001b[0;32m    156\u001b[0m \u001b[38;5;250m\u001b[39m\u001b[38;5;124;03m\"\"\"\u001b[39;00m\n\u001b[0;32m    157\u001b[0m \u001b[38;5;124;03mOpen `path` with `mode` and return the file object.\u001b[39;00m\n\u001b[0;32m    158\u001b[0m \n\u001b[1;32m   (...)\u001b[0m\n\u001b[0;32m    189\u001b[0m \n\u001b[0;32m    190\u001b[0m \u001b[38;5;124;03m\"\"\"\u001b[39;00m\n\u001b[0;32m    192\u001b[0m ds \u001b[38;5;241m=\u001b[39m DataSource(destpath)\n\u001b[1;32m--> 193\u001b[0m \u001b[38;5;28;01mreturn\u001b[39;00m ds\u001b[38;5;241m.\u001b[39mopen(path, mode, encoding\u001b[38;5;241m=\u001b[39mencoding, newline\u001b[38;5;241m=\u001b[39mnewline)\n",
      "File \u001b[1;32mC:\\ProgramData\\anaconda3\\Lib\\site-packages\\numpy\\lib\\_datasource.py:533\u001b[0m, in \u001b[0;36mDataSource.open\u001b[1;34m(self, path, mode, encoding, newline)\u001b[0m\n\u001b[0;32m    530\u001b[0m     \u001b[38;5;28;01mreturn\u001b[39;00m _file_openers[ext](found, mode\u001b[38;5;241m=\u001b[39mmode,\n\u001b[0;32m    531\u001b[0m                               encoding\u001b[38;5;241m=\u001b[39mencoding, newline\u001b[38;5;241m=\u001b[39mnewline)\n\u001b[0;32m    532\u001b[0m \u001b[38;5;28;01melse\u001b[39;00m:\n\u001b[1;32m--> 533\u001b[0m     \u001b[38;5;28;01mraise\u001b[39;00m \u001b[38;5;167;01mFileNotFoundError\u001b[39;00m(\u001b[38;5;124mf\u001b[39m\u001b[38;5;124m\"\u001b[39m\u001b[38;5;132;01m{\u001b[39;00mpath\u001b[38;5;132;01m}\u001b[39;00m\u001b[38;5;124m not found.\u001b[39m\u001b[38;5;124m\"\u001b[39m)\n",
      "\u001b[1;31mFileNotFoundError\u001b[0m: sample_data.csv not found."
     ]
    }
   ],
   "source": [
    "import numpy as np\n",
    " \n",
    "# using genfromtxt()\n",
    "arr = np.genfromtxt(\"sample_data.csv\",\n",
    "                    delimiter=\",\", dtype=str)\n",
    "display(arr)"
   ]
  },
  {
   "cell_type": "markdown",
   "id": "86e465ed",
   "metadata": {},
   "source": [
    "### 32) How do you concatenate two Numpy arrays?"
   ]
  },
  {
   "cell_type": "code",
   "execution_count": 25,
   "id": "a85e63ac",
   "metadata": {},
   "outputs": [
    {
     "name": "stdout",
     "output_type": "stream",
     "text": [
      "Concatenated Array:\n",
      "[2 4 6 5 3 1]\n"
     ]
    }
   ],
   "source": [
    "import numpy as np\n",
    "\n",
    "# Create two NumPy arrays\n",
    "array1 = np.array([2, 4, 6])\n",
    "array2 = np.array([5, 3, 1])\n",
    "\n",
    "# Concatenate the arrays along axis 0 (default, results in a new 1D array)\n",
    "concatenated_array = np.concatenate((array1, array2))\n",
    "\n",
    "print(\"Concatenated Array:\")\n",
    "print(concatenated_array)\n"
   ]
  },
  {
   "cell_type": "markdown",
   "id": "0487c33a",
   "metadata": {},
   "source": [
    "### 33) What is the purpose of the axis argument of np.concatenate?\n",
    "#### Numpy concatenate is like “stacking” numpy arrays\n",
    "#### The axis that we specify with the axis parameter is the axis along which we stack the arrays. "
   ]
  },
  {
   "cell_type": "markdown",
   "id": "1fa11d3c",
   "metadata": {},
   "source": [
    "### 34) When are two Numpy arrays compatible for concatenation?\n",
    "#### The arrays must have the same shape, except in the dimension corresponding to axis."
   ]
  },
  {
   "cell_type": "markdown",
   "id": "4566f610",
   "metadata": {},
   "source": [
    "### 35) Give an example of two Numpy arrays that can be concatenated.\n"
   ]
  },
  {
   "cell_type": "code",
   "execution_count": 26,
   "id": "7825a1ae",
   "metadata": {},
   "outputs": [
    {
     "name": "stdout",
     "output_type": "stream",
     "text": [
      "Concatenated 2D Array (along rows, axis=0):\n",
      "[[1 2]\n",
      " [3 4]\n",
      " [5 6]\n",
      " [7 8]]\n"
     ]
    }
   ],
   "source": [
    "import numpy as np\n",
    "\n",
    "# Create two NumPy arrays with the same number of columns (2D arrays)\n",
    "array1 = np.array([[1, 2], [3, 4]])\n",
    "array2 = np.array([[5, 6], [7, 8]])\n",
    "\n",
    "# Concatenate the arrays along rows (axis=0)\n",
    "concatenated_array = np.concatenate((array1, array2), axis=0)\n",
    "\n",
    "print(\"Concatenated 2D Array (along rows, axis=0):\")\n",
    "print(concatenated_array)\n",
    "\n"
   ]
  },
  {
   "cell_type": "markdown",
   "id": "0214dc47",
   "metadata": {},
   "source": [
    "### 36) Give an example of two Numpy arrays that cannot be concatenated.\n"
   ]
  },
  {
   "cell_type": "code",
   "execution_count": 28,
   "id": "29f05d0c",
   "metadata": {},
   "outputs": [
    {
     "ename": "TypeError",
     "evalue": "only integer scalar arrays can be converted to a scalar index",
     "output_type": "error",
     "traceback": [
      "\u001b[1;31m---------------------------------------------------------------------------\u001b[0m",
      "\u001b[1;31mTypeError\u001b[0m                                 Traceback (most recent call last)",
      "Cell \u001b[1;32mIn[28], line 3\u001b[0m\n\u001b[0;32m      1\u001b[0m x \u001b[38;5;241m=\u001b[39m np\u001b[38;5;241m.\u001b[39marray([\u001b[38;5;241m11\u001b[39m, \u001b[38;5;241m22\u001b[39m])\n\u001b[0;32m      2\u001b[0m y \u001b[38;5;241m=\u001b[39m np\u001b[38;5;241m.\u001b[39marray([\u001b[38;5;241m36\u001b[39m, \u001b[38;5;241m44\u001b[39m])\n\u001b[1;32m----> 3\u001b[0m np\u001b[38;5;241m.\u001b[39mconcatenate(x, y)\n",
      "File \u001b[1;32m<__array_function__ internals>:200\u001b[0m, in \u001b[0;36mconcatenate\u001b[1;34m(*args, **kwargs)\u001b[0m\n",
      "\u001b[1;31mTypeError\u001b[0m: only integer scalar arrays can be converted to a scalar index"
     ]
    }
   ],
   "source": [
    "x = np.array([11, 22])\n",
    "y = np.array([36, 44])\n",
    "np.concatenate(x, y)\n",
    "\n",
    "# TypeError: only length-1 arrays can be converted to Python scalars"
   ]
  },
  {
   "cell_type": "markdown",
   "id": "cc3cd885",
   "metadata": {},
   "source": [
    "### 37) What is the purpose of the np.reshape function?\n",
    "#### Change an Array's Shape Using NumPy reshape() NumPy's reshape() enables you to change the shape of an array into another compatible shape. "
   ]
  },
  {
   "cell_type": "markdown",
   "id": "fff32d48",
   "metadata": {},
   "source": [
    "### 38) What does it mean to “reshape” a Numpy array?\n",
    "#### Reshaping means changing the shape of an array. The shape of an array is the number of elements in each dimension. By reshaping we can add or remove dimensions or change number of elements in each dimension."
   ]
  },
  {
   "cell_type": "markdown",
   "id": "e2d6f4e1",
   "metadata": {},
   "source": [
    "### 39) How do you write a numpy array into a CSV file?\n"
   ]
  },
  {
   "cell_type": "code",
   "execution_count": 32,
   "id": "9a12b71f",
   "metadata": {},
   "outputs": [],
   "source": [
    "# save numpy array as csv file\n",
    "from numpy import asarray\n",
    "from numpy import savetxt\n",
    "# define data\n",
    "data = asarray([[ 10, 20, 30, 40, 50, 60, 70, 80, 90]])\n",
    "# save to csv file\n",
    "savetxt('data.csv', data, delimiter=',')"
   ]
  },
  {
   "cell_type": "markdown",
   "id": "ed2580c4",
   "metadata": {},
   "source": [
    "### 40) Give some examples of Numpy functions for performing mathematical operations."
   ]
  },
  {
   "cell_type": "code",
   "execution_count": 34,
   "id": "d815cf72",
   "metadata": {},
   "outputs": [
    {
     "name": "stdout",
     "output_type": "stream",
     "text": [
      "Example 1 - Addition: [5 7 9]\n",
      "Example 1 - Subtraction: [-3 -3 -3]\n",
      "Example 1 - Multiplication: [ 4 10 18]\n",
      "Example 1 - Division: [0.25 0.4  0.5 ]\n",
      "Example 2 - Sine Values: [0.         0.70710678 1.        ]\n",
      "Example 2 - Cosine Values: [1.00000000e+00 7.07106781e-01 6.12323400e-17]\n",
      "Example 3 - Natural Logarithm: [0.         2.30258509 4.60517019]\n",
      "Example 3 - Exponential Values: [2.71828183e+00 2.20264658e+04 2.68811714e+43]\n",
      "Example 4 - Dot Product: [[19 22]\n",
      " [43 50]]\n",
      "Example 4 - Matrix Multiplication:\n",
      " [[19 22]\n",
      " [43 50]]\n"
     ]
    }
   ],
   "source": [
    "import numpy as np\n",
    "\n",
    "# Example 1: Basic Arithmetic Operations\n",
    "arr1 = np.array([1, 2, 3])\n",
    "arr2 = np.array([4, 5, 6])\n",
    "addition = np.add(arr1, arr2)\n",
    "subtraction = np.subtract(arr1, arr2)\n",
    "multiplication = np.multiply(arr1, arr2)\n",
    "division = np.divide(arr1, arr2)\n",
    "\n",
    "# Example 2: Trigonometric Functions\n",
    "angles = np.array([0, np.pi/4, np.pi/2])\n",
    "sin_values = np.sin(angles)\n",
    "cos_values = np.cos(angles)\n",
    "\n",
    "# Example 3: Logarithmic and Exponential Functions\n",
    "arr3 = np.array([1, 10, 100])\n",
    "log_values = np.log(arr3)\n",
    "exp_values = np.exp(arr3)\n",
    "\n",
    "# Example 4: Linear Algebra\n",
    "matrix1 = np.array([[1, 2], [3, 4]])\n",
    "matrix2 = np.array([[5, 6], [7, 8]])\n",
    "dot_product = np.dot(matrix1, matrix2)\n",
    "matrix_multiply = np.matmul(matrix1, matrix2)\n",
    "\n",
    "print(\"Example 1 - Addition:\", addition)\n",
    "print(\"Example 1 - Subtraction:\", subtraction)\n",
    "print(\"Example 1 - Multiplication:\", multiplication)\n",
    "print(\"Example 1 - Division:\", division)\n",
    "\n",
    "print(\"Example 2 - Sine Values:\", sin_values)\n",
    "print(\"Example 2 - Cosine Values:\", cos_values)\n",
    "\n",
    "print(\"Example 3 - Natural Logarithm:\", log_values)\n",
    "print(\"Example 3 - Exponential Values:\", exp_values)\n",
    "\n",
    "print(\"Example 4 - Dot Product:\", dot_product)\n",
    "print(\"Example 4 - Matrix Multiplication:\\n\", matrix_multiply)\n"
   ]
  },
  {
   "cell_type": "markdown",
   "id": "5c9106d0",
   "metadata": {},
   "source": [
    "### 41) Give some examples of Numpy functions for performing array manipulation.\n"
   ]
  },
  {
   "cell_type": "code",
   "execution_count": 35,
   "id": "0c9d8872",
   "metadata": {},
   "outputs": [
    {
     "name": "stdout",
     "output_type": "stream",
     "text": [
      "Original Array 1:\n",
      " [[1 2 3]\n",
      " [4 5 6]]\n",
      "Reshaped Array:\n",
      " [[1 2]\n",
      " [3 4]\n",
      " [5 6]]\n",
      "Transposed Array 1:\n",
      " [[1 4]\n",
      " [2 5]\n",
      " [3 6]]\n",
      "Concatenated Array:\n",
      " [[ 1  2  3]\n",
      " [ 4  5  6]\n",
      " [ 7  8  9]\n",
      " [10 11 12]]\n",
      "Vertically Stacked Array:\n",
      " [[ 1  2  3]\n",
      " [ 4  5  6]\n",
      " [ 7  8  9]\n",
      " [10 11 12]]\n",
      "Horizontally Stacked Array:\n",
      " [[ 1  2  3  7  8  9]\n",
      " [ 4  5  6 10 11 12]]\n",
      "Split Arrays:\n",
      " [array([[1, 2]]), array([[3, 4]]), array([[5, 6]])]\n",
      "Vertically Split Arrays:\n",
      " [array([[1, 2, 3],\n",
      "       [4, 5, 6]]), array([[ 7,  8,  9],\n",
      "       [10, 11, 12]])]\n",
      "Horizontally Split Arrays:\n",
      " [array([[ 1],\n",
      "       [ 4],\n",
      "       [ 7],\n",
      "       [10]]), array([[ 2],\n",
      "       [ 5],\n",
      "       [ 8],\n",
      "       [11]]), array([[ 3],\n",
      "       [ 6],\n",
      "       [ 9],\n",
      "       [12]])]\n",
      "Sorted Array 1:\n",
      " [1 2 3 4 5 6]\n"
     ]
    }
   ],
   "source": [
    "import numpy as np\n",
    "\n",
    "# Create two arrays for demonstration\n",
    "arr1 = np.array([[1, 2, 3], [4, 5, 6]])\n",
    "arr2 = np.array([[7, 8, 9], [10, 11, 12]])\n",
    "\n",
    "# Reshaping Arrays\n",
    "reshaped_arr = np.reshape(arr1, (3, 2))\n",
    "transposed_arr = np.transpose(arr1)\n",
    "\n",
    "# Concatenation and Stacking\n",
    "concatenated_arr = np.concatenate((arr1, arr2), axis=0)\n",
    "stacked_vertically = np.vstack((arr1, arr2))\n",
    "stacked_horizontally = np.hstack((arr1, arr2))\n",
    "\n",
    "# Splitting Arrays\n",
    "split_arr = np.split(reshaped_arr, 3)\n",
    "vsplit_arr = np.vsplit(concatenated_arr, 2)\n",
    "hsplit_arr = np.hsplit(concatenated_arr, 3)\n",
    "\n",
    "# Sorting\n",
    "sorted_arr = np.sort(arr1, axis=None)\n",
    "\n",
    "print(\"Original Array 1:\\n\", arr1)\n",
    "print(\"Reshaped Array:\\n\", reshaped_arr)\n",
    "print(\"Transposed Array 1:\\n\", transposed_arr)\n",
    "print(\"Concatenated Array:\\n\", concatenated_arr)\n",
    "print(\"Vertically Stacked Array:\\n\", stacked_vertically)\n",
    "print(\"Horizontally Stacked Array:\\n\", stacked_horizontally)\n",
    "print(\"Split Arrays:\\n\", split_arr)\n",
    "print(\"Vertically Split Arrays:\\n\", vsplit_arr)\n",
    "print(\"Horizontally Split Arrays:\\n\", hsplit_arr)\n",
    "print(\"Sorted Array 1:\\n\", sorted_arr)\n"
   ]
  },
  {
   "cell_type": "markdown",
   "id": "a933bb96",
   "metadata": {},
   "source": [
    "### 42) Give some examples of Numpy functions for performing linear algebra.\n"
   ]
  },
  {
   "cell_type": "code",
   "execution_count": 36,
   "id": "c18e2233",
   "metadata": {},
   "outputs": [
    {
     "name": "stdout",
     "output_type": "stream",
     "text": [
      "Matrix Multiplication (Dot): [[19 22]\n",
      " [43 50]]\n",
      "Matrix Multiplication (Matmul): [[19 22]\n",
      " [43 50]]\n",
      "Matrix Multiplication (@ Operator): [[19 22]\n",
      " [43 50]]\n",
      "Matrix Inverse: [[-2.   1. ]\n",
      " [ 1.5 -0.5]]\n",
      "Determinant of A: -2.0000000000000004\n",
      "Eigenvalues of A: [-0.37228132  5.37228132]\n",
      "Eigenvectors of A: [[-0.82456484 -0.41597356]\n",
      " [ 0.56576746 -0.90937671]]\n",
      "Singular Value Decomposition - U: [[-0.40455358 -0.9145143 ]\n",
      " [-0.9145143   0.40455358]]\n",
      "Singular Value Decomposition - S: [5.4649857  0.36596619]\n",
      "Singular Value Decomposition - VT: [[-0.57604844 -0.81741556]\n",
      " [ 0.81741556 -0.57604844]]\n",
      "Linear Equation Solution: [2.71428571 0.85714286]\n",
      "Frobenius Norm of A: 5.477225575051661\n",
      "L2 Norm of x: 2.23606797749979\n"
     ]
    }
   ],
   "source": [
    "import numpy as np\n",
    "\n",
    "# Example matrices\n",
    "A = np.array([[1, 2], [3, 4]])\n",
    "B = np.array([[5, 6], [7, 8]])\n",
    "x = np.array([1, 2])\n",
    "\n",
    "# Matrix multiplication\n",
    "result_dot = np.dot(A, B)\n",
    "result_matmul = np.matmul(A, B)\n",
    "result_at_operator = A @ B\n",
    "\n",
    "# Matrix inverse and determinant\n",
    "inv_A = np.linalg.inv(A)\n",
    "det_A = np.linalg.det(A)\n",
    "\n",
    "# Eigenvalues and eigenvectors\n",
    "eigenvalues, eigenvectors = np.linalg.eig(A)\n",
    "\n",
    "# Singular Value Decomposition (SVD)\n",
    "U, S, VT = np.linalg.svd(A)\n",
    "\n",
    "# Linear equation solving\n",
    "coeff_matrix = np.array([[2, 3], [1, -2]])\n",
    "constants = np.array([8, 1])\n",
    "solution = np.linalg.solve(coeff_matrix, constants)\n",
    "\n",
    "# Matrix norms\n",
    "Frobenius_norm = np.linalg.norm(A, 'fro')\n",
    "L2_norm_vector = np.linalg.norm(x, ord=2)\n",
    "\n",
    "print(\"Matrix Multiplication (Dot):\", result_dot)\n",
    "print(\"Matrix Multiplication (Matmul):\", result_matmul)\n",
    "print(\"Matrix Multiplication (@ Operator):\", result_at_operator)\n",
    "print(\"Matrix Inverse:\", inv_A)\n",
    "print(\"Determinant of A:\", det_A)\n",
    "print(\"Eigenvalues of A:\", eigenvalues)\n",
    "print(\"Eigenvectors of A:\", eigenvectors)\n",
    "print(\"Singular Value Decomposition - U:\", U)\n",
    "print(\"Singular Value Decomposition - S:\", S)\n",
    "print(\"Singular Value Decomposition - VT:\", VT)\n",
    "print(\"Linear Equation Solution:\", solution)\n",
    "print(\"Frobenius Norm of A:\", Frobenius_norm)\n",
    "print(\"L2 Norm of x:\", L2_norm_vector)\n"
   ]
  },
  {
   "cell_type": "markdown",
   "id": "265fc83e",
   "metadata": {},
   "source": [
    "### 43) Give some examples of Numpy functions for performing statistical operations.\n"
   ]
  },
  {
   "cell_type": "code",
   "execution_count": 37,
   "id": "2342d605",
   "metadata": {},
   "outputs": [
    {
     "name": "stdout",
     "output_type": "stream",
     "text": [
      "Mean: 5.5\n",
      "Median: 5.5\n",
      "Variance: 8.25\n",
      "Standard Deviation: 2.8722813232690143\n",
      "Min Value: 1\n",
      "Max Value: 10\n",
      "Sum of Values: 55\n",
      "Product of Values: 3628800\n"
     ]
    }
   ],
   "source": [
    "import numpy as np\n",
    "\n",
    "# Example data\n",
    "data = np.array([1, 2, 3, 4, 5, 6, 7, 8, 9, 10])\n",
    "\n",
    "# Mean and Median\n",
    "mean = np.mean(data)\n",
    "median = np.median(data)\n",
    "\n",
    "# Variance and Standard Deviation\n",
    "variance = np.var(data)\n",
    "std_deviation = np.std(data)\n",
    "\n",
    "# Min and Max\n",
    "min_value = np.min(data)\n",
    "max_value = np.max(data)\n",
    "\n",
    "# Sum and Product\n",
    "sum_values = np.sum(data)\n",
    "product_values = np.prod(data)\n",
    "\n",
    "print(\"Mean:\", mean)\n",
    "print(\"Median:\", median)\n",
    "print(\"Variance:\", variance)\n",
    "print(\"Standard Deviation:\", std_deviation)\n",
    "print(\"Min Value:\", min_value)\n",
    "print(\"Max Value:\", max_value)\n",
    "print(\"Sum of Values:\", sum_values)\n",
    "print(\"Product of Values:\", product_values)\n"
   ]
  },
  {
   "cell_type": "markdown",
   "id": "c3606846",
   "metadata": {},
   "source": [
    "### 44) How do you find the right Numpy function for a specific operation or use case?\n"
   ]
  },
  {
   "cell_type": "code",
   "execution_count": 38,
   "id": "8385143c",
   "metadata": {},
   "outputs": [
    {
     "name": "stdout",
     "output_type": "stream",
     "text": [
      "Standard Deviation: 14.142135623730951\n"
     ]
    }
   ],
   "source": [
    "import numpy as np\n",
    "\n",
    "# Example array of data\n",
    "data = np.array([10, 20, 30, 40, 50])\n",
    "\n",
    "# Calculate the standard deviation\n",
    "std_deviation = np.std(data)\n",
    "\n",
    "print(\"Standard Deviation:\", std_deviation)\n"
   ]
  },
  {
   "cell_type": "markdown",
   "id": "14b34902",
   "metadata": {},
   "source": [
    "### 45) Where can you see a list of all the Numpy array functions and operations?\n"
   ]
  },
  {
   "cell_type": "code",
   "execution_count": 46,
   "id": "55401eba",
   "metadata": {},
   "outputs": [
    {
     "data": {
      "text/plain": [
       "['ALLOW_THREADS',\n",
       " 'AxisError',\n",
       " 'BUFSIZE',\n",
       " 'CLIP',\n",
       " 'ComplexWarning',\n",
       " 'DataSource',\n",
       " 'ERR_CALL',\n",
       " 'ERR_DEFAULT',\n",
       " 'ERR_IGNORE',\n",
       " 'ERR_LOG',\n",
       " 'ERR_PRINT',\n",
       " 'ERR_RAISE',\n",
       " 'ERR_WARN',\n",
       " 'FLOATING_POINT_SUPPORT',\n",
       " 'FPE_DIVIDEBYZERO',\n",
       " 'FPE_INVALID',\n",
       " 'FPE_OVERFLOW',\n",
       " 'FPE_UNDERFLOW',\n",
       " 'False_',\n",
       " 'Inf',\n",
       " 'Infinity',\n",
       " 'MAXDIMS',\n",
       " 'MAY_SHARE_BOUNDS',\n",
       " 'MAY_SHARE_EXACT',\n",
       " 'ModuleDeprecationWarning',\n",
       " 'NAN',\n",
       " 'NINF',\n",
       " 'NZERO',\n",
       " 'NaN',\n",
       " 'PINF',\n",
       " 'PZERO',\n",
       " 'RAISE',\n",
       " 'RankWarning',\n",
       " 'SHIFT_DIVIDEBYZERO',\n",
       " 'SHIFT_INVALID',\n",
       " 'SHIFT_OVERFLOW',\n",
       " 'SHIFT_UNDERFLOW',\n",
       " 'ScalarType',\n",
       " 'Tester',\n",
       " 'TooHardError',\n",
       " 'True_',\n",
       " 'UFUNC_BUFSIZE_DEFAULT',\n",
       " 'UFUNC_PYVALS_NAME',\n",
       " 'VisibleDeprecationWarning',\n",
       " 'WRAP',\n",
       " '_CopyMode',\n",
       " '_NoValue',\n",
       " '_UFUNC_API',\n",
       " '__NUMPY_SETUP__',\n",
       " '__all__',\n",
       " '__builtins__',\n",
       " '__cached__',\n",
       " '__config__',\n",
       " '__deprecated_attrs__',\n",
       " '__dir__',\n",
       " '__doc__',\n",
       " '__expired_functions__',\n",
       " '__file__',\n",
       " '__former_attrs__',\n",
       " '__future_scalars__',\n",
       " '__getattr__',\n",
       " '__git_version__',\n",
       " '__loader__',\n",
       " '__mkl_version__',\n",
       " '__name__',\n",
       " '__package__',\n",
       " '__path__',\n",
       " '__spec__',\n",
       " '__version__',\n",
       " '_add_newdoc_ufunc',\n",
       " '_builtins',\n",
       " '_distributor_init',\n",
       " '_financial_names',\n",
       " '_get_promotion_state',\n",
       " '_globals',\n",
       " '_int_extended_msg',\n",
       " '_mat',\n",
       " '_no_nep50_warning',\n",
       " '_pyinstaller_hooks_dir',\n",
       " '_pytesttester',\n",
       " '_set_promotion_state',\n",
       " '_specific_msg',\n",
       " '_version',\n",
       " 'abs',\n",
       " 'absolute',\n",
       " 'add',\n",
       " 'add_docstring',\n",
       " 'add_newdoc',\n",
       " 'add_newdoc_ufunc',\n",
       " 'all',\n",
       " 'allclose',\n",
       " 'alltrue',\n",
       " 'amax',\n",
       " 'amin',\n",
       " 'angle',\n",
       " 'any',\n",
       " 'append',\n",
       " 'apply_along_axis',\n",
       " 'apply_over_axes',\n",
       " 'arange',\n",
       " 'arccos',\n",
       " 'arccosh',\n",
       " 'arcsin',\n",
       " 'arcsinh',\n",
       " 'arctan',\n",
       " 'arctan2',\n",
       " 'arctanh',\n",
       " 'argmax',\n",
       " 'argmin',\n",
       " 'argpartition',\n",
       " 'argsort',\n",
       " 'argwhere',\n",
       " 'around',\n",
       " 'array',\n",
       " 'array2string',\n",
       " 'array_equal',\n",
       " 'array_equiv',\n",
       " 'array_repr',\n",
       " 'array_split',\n",
       " 'array_str',\n",
       " 'asanyarray',\n",
       " 'asarray',\n",
       " 'asarray_chkfinite',\n",
       " 'ascontiguousarray',\n",
       " 'asfarray',\n",
       " 'asfortranarray',\n",
       " 'asmatrix',\n",
       " 'atleast_1d',\n",
       " 'atleast_2d',\n",
       " 'atleast_3d',\n",
       " 'average',\n",
       " 'bartlett',\n",
       " 'base_repr',\n",
       " 'binary_repr',\n",
       " 'bincount',\n",
       " 'bitwise_and',\n",
       " 'bitwise_not',\n",
       " 'bitwise_or',\n",
       " 'bitwise_xor',\n",
       " 'blackman',\n",
       " 'block',\n",
       " 'bmat',\n",
       " 'bool_',\n",
       " 'broadcast',\n",
       " 'broadcast_arrays',\n",
       " 'broadcast_shapes',\n",
       " 'broadcast_to',\n",
       " 'busday_count',\n",
       " 'busday_offset',\n",
       " 'busdaycalendar',\n",
       " 'byte',\n",
       " 'byte_bounds',\n",
       " 'bytes_',\n",
       " 'c_',\n",
       " 'can_cast',\n",
       " 'cast',\n",
       " 'cbrt',\n",
       " 'cdouble',\n",
       " 'ceil',\n",
       " 'cfloat',\n",
       " 'char',\n",
       " 'character',\n",
       " 'chararray',\n",
       " 'choose',\n",
       " 'clip',\n",
       " 'clongdouble',\n",
       " 'clongfloat',\n",
       " 'column_stack',\n",
       " 'common_type',\n",
       " 'compare_chararrays',\n",
       " 'compat',\n",
       " 'complex128',\n",
       " 'complex64',\n",
       " 'complex_',\n",
       " 'complexfloating',\n",
       " 'compress',\n",
       " 'concatenate',\n",
       " 'conj',\n",
       " 'conjugate',\n",
       " 'convolve',\n",
       " 'copy',\n",
       " 'copysign',\n",
       " 'copyto',\n",
       " 'corrcoef',\n",
       " 'correlate',\n",
       " 'cos',\n",
       " 'cosh',\n",
       " 'count_nonzero',\n",
       " 'cov',\n",
       " 'cross',\n",
       " 'csingle',\n",
       " 'ctypeslib',\n",
       " 'cumprod',\n",
       " 'cumproduct',\n",
       " 'cumsum',\n",
       " 'datetime64',\n",
       " 'datetime_as_string',\n",
       " 'datetime_data',\n",
       " 'deg2rad',\n",
       " 'degrees',\n",
       " 'delete',\n",
       " 'deprecate',\n",
       " 'deprecate_with_doc',\n",
       " 'diag',\n",
       " 'diag_indices',\n",
       " 'diag_indices_from',\n",
       " 'diagflat',\n",
       " 'diagonal',\n",
       " 'diff',\n",
       " 'digitize',\n",
       " 'disp',\n",
       " 'divide',\n",
       " 'divmod',\n",
       " 'dot',\n",
       " 'double',\n",
       " 'dsplit',\n",
       " 'dstack',\n",
       " 'dtype',\n",
       " 'e',\n",
       " 'ediff1d',\n",
       " 'einsum',\n",
       " 'einsum_path',\n",
       " 'emath',\n",
       " 'empty',\n",
       " 'empty_like',\n",
       " 'equal',\n",
       " 'errstate',\n",
       " 'euler_gamma',\n",
       " 'exp',\n",
       " 'exp2',\n",
       " 'expand_dims',\n",
       " 'expm1',\n",
       " 'extract',\n",
       " 'eye',\n",
       " 'fabs',\n",
       " 'fastCopyAndTranspose',\n",
       " 'fft',\n",
       " 'fill_diagonal',\n",
       " 'find_common_type',\n",
       " 'finfo',\n",
       " 'fix',\n",
       " 'flatiter',\n",
       " 'flatnonzero',\n",
       " 'flexible',\n",
       " 'flip',\n",
       " 'fliplr',\n",
       " 'flipud',\n",
       " 'float16',\n",
       " 'float32',\n",
       " 'float64',\n",
       " 'float_',\n",
       " 'float_power',\n",
       " 'floating',\n",
       " 'floor',\n",
       " 'floor_divide',\n",
       " 'fmax',\n",
       " 'fmin',\n",
       " 'fmod',\n",
       " 'format_float_positional',\n",
       " 'format_float_scientific',\n",
       " 'format_parser',\n",
       " 'frexp',\n",
       " 'from_dlpack',\n",
       " 'frombuffer',\n",
       " 'fromfile',\n",
       " 'fromfunction',\n",
       " 'fromiter',\n",
       " 'frompyfunc',\n",
       " 'fromregex',\n",
       " 'fromstring',\n",
       " 'full',\n",
       " 'full_like',\n",
       " 'gcd',\n",
       " 'generic',\n",
       " 'genfromtxt',\n",
       " 'geomspace',\n",
       " 'get_array_wrap',\n",
       " 'get_include',\n",
       " 'get_printoptions',\n",
       " 'getbufsize',\n",
       " 'geterr',\n",
       " 'geterrcall',\n",
       " 'geterrobj',\n",
       " 'gradient',\n",
       " 'greater',\n",
       " 'greater_equal',\n",
       " 'half',\n",
       " 'hamming',\n",
       " 'hanning',\n",
       " 'heaviside',\n",
       " 'histogram',\n",
       " 'histogram2d',\n",
       " 'histogram_bin_edges',\n",
       " 'histogramdd',\n",
       " 'hsplit',\n",
       " 'hstack',\n",
       " 'hypot',\n",
       " 'i0',\n",
       " 'identity',\n",
       " 'iinfo',\n",
       " 'imag',\n",
       " 'in1d',\n",
       " 'index_exp',\n",
       " 'indices',\n",
       " 'inexact',\n",
       " 'inf',\n",
       " 'info',\n",
       " 'infty',\n",
       " 'inner',\n",
       " 'insert',\n",
       " 'int16',\n",
       " 'int32',\n",
       " 'int64',\n",
       " 'int8',\n",
       " 'int_',\n",
       " 'intc',\n",
       " 'integer',\n",
       " 'interp',\n",
       " 'intersect1d',\n",
       " 'intp',\n",
       " 'invert',\n",
       " 'is_busday',\n",
       " 'isclose',\n",
       " 'iscomplex',\n",
       " 'iscomplexobj',\n",
       " 'isfinite',\n",
       " 'isfortran',\n",
       " 'isin',\n",
       " 'isinf',\n",
       " 'isnan',\n",
       " 'isnat',\n",
       " 'isneginf',\n",
       " 'isposinf',\n",
       " 'isreal',\n",
       " 'isrealobj',\n",
       " 'isscalar',\n",
       " 'issctype',\n",
       " 'issubclass_',\n",
       " 'issubdtype',\n",
       " 'issubsctype',\n",
       " 'iterable',\n",
       " 'ix_',\n",
       " 'kaiser',\n",
       " 'kron',\n",
       " 'lcm',\n",
       " 'ldexp',\n",
       " 'left_shift',\n",
       " 'less',\n",
       " 'less_equal',\n",
       " 'lexsort',\n",
       " 'lib',\n",
       " 'linalg',\n",
       " 'linspace',\n",
       " 'little_endian',\n",
       " 'load',\n",
       " 'loadtxt',\n",
       " 'log',\n",
       " 'log10',\n",
       " 'log1p',\n",
       " 'log2',\n",
       " 'logaddexp',\n",
       " 'logaddexp2',\n",
       " 'logical_and',\n",
       " 'logical_not',\n",
       " 'logical_or',\n",
       " 'logical_xor',\n",
       " 'logspace',\n",
       " 'longcomplex',\n",
       " 'longdouble',\n",
       " 'longfloat',\n",
       " 'longlong',\n",
       " 'lookfor',\n",
       " 'ma',\n",
       " 'mask_indices',\n",
       " 'mat',\n",
       " 'math',\n",
       " 'matmul',\n",
       " 'matrix',\n",
       " 'max',\n",
       " 'maximum',\n",
       " 'maximum_sctype',\n",
       " 'may_share_memory',\n",
       " 'mean',\n",
       " 'median',\n",
       " 'memmap',\n",
       " 'meshgrid',\n",
       " 'mgrid',\n",
       " 'min',\n",
       " 'min_scalar_type',\n",
       " 'minimum',\n",
       " 'mintypecode',\n",
       " 'mkl',\n",
       " 'mod',\n",
       " 'modf',\n",
       " 'moveaxis',\n",
       " 'msort',\n",
       " 'multiply',\n",
       " 'nan',\n",
       " 'nan_to_num',\n",
       " 'nanargmax',\n",
       " 'nanargmin',\n",
       " 'nancumprod',\n",
       " 'nancumsum',\n",
       " 'nanmax',\n",
       " 'nanmean',\n",
       " 'nanmedian',\n",
       " 'nanmin',\n",
       " 'nanpercentile',\n",
       " 'nanprod',\n",
       " 'nanquantile',\n",
       " 'nanstd',\n",
       " 'nansum',\n",
       " 'nanvar',\n",
       " 'nbytes',\n",
       " 'ndarray',\n",
       " 'ndenumerate',\n",
       " 'ndim',\n",
       " 'ndindex',\n",
       " 'nditer',\n",
       " 'negative',\n",
       " 'nested_iters',\n",
       " 'newaxis',\n",
       " 'nextafter',\n",
       " 'nonzero',\n",
       " 'not_equal',\n",
       " 'numarray',\n",
       " 'number',\n",
       " 'obj2sctype',\n",
       " 'object_',\n",
       " 'ogrid',\n",
       " 'oldnumeric',\n",
       " 'ones',\n",
       " 'ones_like',\n",
       " 'outer',\n",
       " 'packbits',\n",
       " 'pad',\n",
       " 'partition',\n",
       " 'percentile',\n",
       " 'pi',\n",
       " 'piecewise',\n",
       " 'place',\n",
       " 'poly',\n",
       " 'poly1d',\n",
       " 'polyadd',\n",
       " 'polyder',\n",
       " 'polydiv',\n",
       " 'polyfit',\n",
       " 'polyint',\n",
       " 'polymul',\n",
       " 'polynomial',\n",
       " 'polysub',\n",
       " 'polyval',\n",
       " 'positive',\n",
       " 'power',\n",
       " 'printoptions',\n",
       " 'prod',\n",
       " 'product',\n",
       " 'promote_types',\n",
       " 'ptp',\n",
       " 'put',\n",
       " 'put_along_axis',\n",
       " 'putmask',\n",
       " 'quantile',\n",
       " 'r_',\n",
       " 'rad2deg',\n",
       " 'radians',\n",
       " 'random',\n",
       " 'ravel',\n",
       " 'ravel_multi_index',\n",
       " 'real',\n",
       " 'real_if_close',\n",
       " 'rec',\n",
       " 'recarray',\n",
       " 'recfromcsv',\n",
       " 'recfromtxt',\n",
       " 'reciprocal',\n",
       " 'record',\n",
       " 'remainder',\n",
       " 'repeat',\n",
       " 'require',\n",
       " 'reshape',\n",
       " 'resize',\n",
       " 'result_type',\n",
       " 'right_shift',\n",
       " 'rint',\n",
       " 'roll',\n",
       " 'rollaxis',\n",
       " 'roots',\n",
       " 'rot90',\n",
       " 'round',\n",
       " 'round_',\n",
       " 'row_stack',\n",
       " 's_',\n",
       " 'safe_eval',\n",
       " 'save',\n",
       " 'savetxt',\n",
       " 'savez',\n",
       " 'savez_compressed',\n",
       " 'sctype2char',\n",
       " 'sctypeDict',\n",
       " 'sctypes',\n",
       " 'searchsorted',\n",
       " 'select',\n",
       " 'set_numeric_ops',\n",
       " 'set_printoptions',\n",
       " 'set_string_function',\n",
       " 'setbufsize',\n",
       " 'setdiff1d',\n",
       " 'seterr',\n",
       " 'seterrcall',\n",
       " 'seterrobj',\n",
       " 'setxor1d',\n",
       " 'shape',\n",
       " 'shares_memory',\n",
       " 'short',\n",
       " 'show_config',\n",
       " 'show_runtime',\n",
       " 'sign',\n",
       " 'signbit',\n",
       " 'signedinteger',\n",
       " 'sin',\n",
       " 'sinc',\n",
       " 'single',\n",
       " 'singlecomplex',\n",
       " 'sinh',\n",
       " 'size',\n",
       " 'sometrue',\n",
       " 'sort',\n",
       " 'sort_complex',\n",
       " 'source',\n",
       " 'spacing',\n",
       " 'split',\n",
       " 'sqrt',\n",
       " 'square',\n",
       " 'squeeze',\n",
       " 'stack',\n",
       " 'std',\n",
       " 'str_',\n",
       " 'string_',\n",
       " 'subtract',\n",
       " 'sum',\n",
       " 'swapaxes',\n",
       " 'take',\n",
       " 'take_along_axis',\n",
       " 'tan',\n",
       " 'tanh',\n",
       " 'tensordot',\n",
       " 'test',\n",
       " 'testing',\n",
       " 'tile',\n",
       " 'timedelta64',\n",
       " 'trace',\n",
       " 'tracemalloc_domain',\n",
       " 'transpose',\n",
       " 'trapz',\n",
       " 'tri',\n",
       " 'tril',\n",
       " 'tril_indices',\n",
       " 'tril_indices_from',\n",
       " 'trim_zeros',\n",
       " 'triu',\n",
       " 'triu_indices',\n",
       " 'triu_indices_from',\n",
       " 'true_divide',\n",
       " 'trunc',\n",
       " 'typecodes',\n",
       " 'typename',\n",
       " 'ubyte',\n",
       " 'ufunc',\n",
       " 'uint',\n",
       " 'uint16',\n",
       " 'uint32',\n",
       " 'uint64',\n",
       " 'uint8',\n",
       " 'uintc',\n",
       " 'uintp',\n",
       " 'ulonglong',\n",
       " 'unicode_',\n",
       " 'union1d',\n",
       " 'unique',\n",
       " 'unpackbits',\n",
       " 'unravel_index',\n",
       " 'unsignedinteger',\n",
       " 'unwrap',\n",
       " 'use_hugepage',\n",
       " 'ushort',\n",
       " 'vander',\n",
       " 'var',\n",
       " 'vdot',\n",
       " 'vectorize',\n",
       " 'version',\n",
       " 'void',\n",
       " 'vsplit',\n",
       " 'vstack',\n",
       " 'where',\n",
       " 'who',\n",
       " 'zeros',\n",
       " 'zeros_like']"
      ]
     },
     "execution_count": 46,
     "metadata": {},
     "output_type": "execute_result"
    }
   ],
   "source": [
    "import numpy as np\n",
    "dir(np)"
   ]
  },
  {
   "cell_type": "markdown",
   "id": "7194dd8c",
   "metadata": {},
   "source": [
    "### 46) What are the arithmetic operators supported by Numpy arrays? Illustrate with examples."
   ]
  },
  {
   "cell_type": "code",
   "execution_count": 47,
   "id": "5ae7cd44",
   "metadata": {},
   "outputs": [
    {
     "name": "stdout",
     "output_type": "stream",
     "text": [
      "Using the + operator: [ 3  7 11 15]\n",
      "Using the add() function: [ 3  7 11 15]\n"
     ]
    }
   ],
   "source": [
    "import numpy as np\n",
    "\n",
    "first_array = np.array([1, 3, 5, 7])\n",
    "second_array = np.array([2, 4, 6, 8])\n",
    "\n",
    "# using the + operator\n",
    "result1 = first_array + second_array\n",
    "print(\"Using the + operator:\",result1) \n",
    "\n",
    "# using the add() function\n",
    "result2 = np.add(first_array, second_array)\n",
    "print(\"Using the add() function:\",result2)"
   ]
  },
  {
   "cell_type": "code",
   "execution_count": 48,
   "id": "a8b7d11d",
   "metadata": {},
   "outputs": [
    {
     "name": "stdout",
     "output_type": "stream",
     "text": [
      "Using the - operator: [ 1  5 19 65]\n",
      "Using the subtract() function: [ 1  5 19 65]\n"
     ]
    }
   ],
   "source": [
    "import numpy as np\n",
    "\n",
    "first_array = np.array([3, 9, 27, 81])\n",
    "second_array = np.array([2, 4, 8, 16])\n",
    "\n",
    "# using the - operator\n",
    "result1 = first_array - second_array\n",
    "print(\"Using the - operator:\",result1) \n",
    "\n",
    "# using the subtract() function\n",
    "result2 = np.subtract(first_array, second_array)\n",
    "print(\"Using the subtract() function:\",result2) "
   ]
  },
  {
   "cell_type": "code",
   "execution_count": 49,
   "id": "73792e15",
   "metadata": {},
   "outputs": [
    {
     "name": "stdout",
     "output_type": "stream",
     "text": [
      "Using the * operator: [ 2 12 30 56]\n",
      "Using the multiply() function: [ 2 12 30 56]\n"
     ]
    }
   ],
   "source": [
    "import numpy as np\n",
    "\n",
    "first_array = np.array([1, 3, 5, 7])\n",
    "second_array = np.array([2, 4, 6, 8])\n",
    "\n",
    "# using the * operator\n",
    "result1 = first_array * second_array\n",
    "print(\"Using the * operator:\",result1) \n",
    "\n",
    "# using the multiply() function\n",
    "result2 = np.multiply(first_array, second_array)\n",
    "print(\"Using the multiply() function:\",result2) "
   ]
  },
  {
   "cell_type": "code",
   "execution_count": 50,
   "id": "d1378c20",
   "metadata": {},
   "outputs": [
    {
     "name": "stdout",
     "output_type": "stream",
     "text": [
      "Using the / operator: [0.25 0.4  0.5 ]\n",
      "Using the divide() function: [0.25 0.4  0.5 ]\n"
     ]
    }
   ],
   "source": [
    "import numpy as np\n",
    "\n",
    "first_array = np.array([1, 2, 3])\n",
    "second_array = np.array([4, 5, 6])\n",
    "\n",
    "# using the / operator\n",
    "result1 = first_array / second_array\n",
    "print(\"Using the / operator:\",result1) \n",
    "\n",
    "# using the divide() function\n",
    "result2 = np.divide(first_array, second_array)\n",
    "print(\"Using the divide() function:\",result2) "
   ]
  },
  {
   "cell_type": "code",
   "execution_count": 51,
   "id": "9b8dfbb1",
   "metadata": {},
   "outputs": [
    {
     "name": "stdout",
     "output_type": "stream",
     "text": [
      "Using the ** operator: [1 4 9]\n",
      "Using the power() function: [1 4 9]\n"
     ]
    }
   ],
   "source": [
    "import numpy as np\n",
    "\n",
    "array1 = np.array([1, 2, 3])\n",
    "\n",
    "# using the ** operator\n",
    "result1 = array1 ** 2\n",
    "print(\"Using the ** operator:\",result1) \n",
    "\n",
    "# using the power() function\n",
    "result2 = np.power(array1, 2)\n",
    "print(\"Using the power() function:\",result2) "
   ]
  },
  {
   "cell_type": "code",
   "execution_count": 52,
   "id": "17c74831",
   "metadata": {},
   "outputs": [
    {
     "name": "stdout",
     "output_type": "stream",
     "text": [
      "Using the % operator: [1 0 6]\n",
      "Using the mod() function: [1 0 6]\n"
     ]
    }
   ],
   "source": [
    "import numpy as np\n",
    "\n",
    "first_array = np.array([9, 10, 20])\n",
    "second_array = np.array([2, 5, 7])\n",
    "\n",
    "# using the % operator\n",
    "result1 = first_array % second_array\n",
    "print(\"Using the % operator:\",result1) \n",
    "\n",
    "# using the mod() function\n",
    "result2 = np.mod(first_array, second_array)\n",
    "print(\"Using the mod() function:\",result2)"
   ]
  },
  {
   "cell_type": "markdown",
   "id": "f6d64b80",
   "metadata": {},
   "source": [
    "### 47) What is array broadcasting? How is it useful? Illustrate with an example.\n",
    "#### The term broadcasting describes how numpy treats arrays with different shapes during arithmetic operations.\n",
    "#### Broadcasting provides a means of vectorizing array operations so that looping occurs in C instead of Python. It does this without making needless copies of data and usually leads to efficient algorithm implementations."
   ]
  },
  {
   "cell_type": "markdown",
   "id": "03c6eace",
   "metadata": {},
   "source": [
    "### 48) Give some examples of arrays that are compatible for broadcasting? "
   ]
  },
  {
   "cell_type": "code",
   "execution_count": 40,
   "id": "bb528f3a",
   "metadata": {},
   "outputs": [
    {
     "name": "stdout",
     "output_type": "stream",
     "text": [
      "[11 12 13 14 15]\n"
     ]
    }
   ],
   "source": [
    "import numpy as np\n",
    "\n",
    "# Create a 1D array\n",
    "arr = np.array([1, 2, 3, 4, 5])\n",
    "\n",
    "# Add a scalar to the array\n",
    "result = arr + 10\n",
    "\n",
    "print(result)\n",
    "\n"
   ]
  },
  {
   "cell_type": "markdown",
   "id": "1fccef95",
   "metadata": {},
   "source": [
    "### 49) Give some examples of arrays that are not compatible for broadcasting?\n"
   ]
  },
  {
   "cell_type": "code",
   "execution_count": 42,
   "id": "4e5d9d1a",
   "metadata": {},
   "outputs": [
    {
     "ename": "ValueError",
     "evalue": "operands could not be broadcast together with shapes (3,3) (2,2) ",
     "output_type": "error",
     "traceback": [
      "\u001b[1;31m---------------------------------------------------------------------------\u001b[0m",
      "\u001b[1;31mValueError\u001b[0m                                Traceback (most recent call last)",
      "Cell \u001b[1;32mIn[42], line 6\u001b[0m\n\u001b[0;32m      3\u001b[0m arr1 \u001b[38;5;241m=\u001b[39m np\u001b[38;5;241m.\u001b[39marray([[\u001b[38;5;241m1\u001b[39m, \u001b[38;5;241m2\u001b[39m, \u001b[38;5;241m3\u001b[39m], [\u001b[38;5;241m4\u001b[39m, \u001b[38;5;241m5\u001b[39m, \u001b[38;5;241m6\u001b[39m], [\u001b[38;5;241m7\u001b[39m, \u001b[38;5;241m8\u001b[39m, \u001b[38;5;241m9\u001b[39m]])  \u001b[38;5;66;03m# 3x3 array\u001b[39;00m\n\u001b[0;32m      4\u001b[0m arr2 \u001b[38;5;241m=\u001b[39m np\u001b[38;5;241m.\u001b[39marray([[\u001b[38;5;241m10\u001b[39m, \u001b[38;5;241m20\u001b[39m], [\u001b[38;5;241m30\u001b[39m, \u001b[38;5;241m40\u001b[39m]])  \u001b[38;5;66;03m# 2x2 array\u001b[39;00m\n\u001b[1;32m----> 6\u001b[0m result \u001b[38;5;241m=\u001b[39m arr1 \u001b[38;5;241m+\u001b[39m arr2\n",
      "\u001b[1;31mValueError\u001b[0m: operands could not be broadcast together with shapes (3,3) (2,2) "
     ]
    }
   ],
   "source": [
    "import numpy as np\n",
    "\n",
    "arr1 = np.array([[1, 2, 3], [4, 5, 6], [7, 8, 9]])  # 3x3 array\n",
    "arr2 = np.array([[10, 20], [30, 40]])  # 2x2 array\n",
    "\n",
    "result = arr1 + arr2  # Broadcasting not possible\n"
   ]
  },
  {
   "cell_type": "markdown",
   "id": "a54f633a",
   "metadata": {},
   "source": [
    "### 50) What are the comparison operators supported by Numpy arrays? Illustrate with examples.\n"
   ]
  },
  {
   "cell_type": "code",
   "execution_count": 43,
   "id": "47087f35",
   "metadata": {},
   "outputs": [
    {
     "name": "stdout",
     "output_type": "stream",
     "text": [
      "Equal To: [False  True False  True  True]\n",
      "Not Equal To: [ True False  True False False]\n",
      "Less Than: [ True False False False False]\n",
      "Less Than or Equal To: [ True  True False  True  True]\n",
      "Greater Than: [False False  True False False]\n",
      "Greater Than or Equal To: [False  True  True  True  True]\n"
     ]
    }
   ],
   "source": [
    "import numpy as np\n",
    "\n",
    "# Create two NumPy arrays\n",
    "arr1 = np.array([1, 2, 3, 4, 5])\n",
    "arr2 = np.array([3, 2, 1, 4, 5])\n",
    "\n",
    "# Element-wise comparisons\n",
    "equal_to = arr1 == arr2\n",
    "not_equal_to = arr1 != arr2\n",
    "less_than = arr1 < arr2\n",
    "less_than_or_equal_to = arr1 <= arr2\n",
    "greater_than = arr1 > arr2\n",
    "greater_than_or_equal_to = arr1 >= arr2\n",
    "\n",
    "print(\"Equal To:\", equal_to)\n",
    "print(\"Not Equal To:\", not_equal_to)\n",
    "print(\"Less Than:\", less_than)\n",
    "print(\"Less Than or Equal To:\", less_than_or_equal_to)\n",
    "print(\"Greater Than:\", greater_than)\n",
    "print(\"Greater Than or Equal To:\", greater_than_or_equal_to)\n"
   ]
  },
  {
   "cell_type": "markdown",
   "id": "7319dbe3",
   "metadata": {},
   "source": [
    "### 51) How do you access a specific subarray or slice from a Numpy array?\n"
   ]
  },
  {
   "cell_type": "code",
   "execution_count": 44,
   "id": "f4cf3eb2",
   "metadata": {},
   "outputs": [
    {
     "name": "stdout",
     "output_type": "stream",
     "text": [
      "[3 4 5 6]\n"
     ]
    }
   ],
   "source": [
    "import numpy as np\n",
    "\n",
    "# Create a NumPy array\n",
    "arr = np.array([1, 2, 3, 4, 5, 6, 7, 8, 9])\n",
    "\n",
    "# Slice from index 2 to 6 (exclusive)\n",
    "subarray = arr[2:6]\n",
    "\n",
    "print(subarray)\n"
   ]
  },
  {
   "cell_type": "markdown",
   "id": "d1346dab",
   "metadata": {},
   "source": [
    "### 52) Illustrate array indexing and slicing in multi-dimensional Numpy arrays with some examples.\n"
   ]
  },
  {
   "cell_type": "code",
   "execution_count": 46,
   "id": "2683107f",
   "metadata": {},
   "outputs": [
    {
     "name": "stdout",
     "output_type": "stream",
     "text": [
      "Element at (1, 2): 60\n"
     ]
    }
   ],
   "source": [
    "import numpy as np\n",
    "\n",
    "# Create a 2D NumPy array\n",
    "matrix = np.array([[10, 20, 30],\n",
    "                  [40, 50, 60],\n",
    "                  [70, 80, 90]])\n",
    "\n",
    "# Print an element at a specific position\n",
    "element = matrix[1, 2]  # Row 1 (second row), Column 2 (third column)\n",
    "\n",
    "print(\"Element at (1, 2):\", element)\n"
   ]
  },
  {
   "cell_type": "markdown",
   "id": "6f25ba14",
   "metadata": {},
   "source": [
    "### 53) How do you create a Numpy array with a given shape containing all zeros?\n"
   ]
  },
  {
   "cell_type": "code",
   "execution_count": 48,
   "id": "2ca0af9a",
   "metadata": {},
   "outputs": [
    {
     "data": {
      "text/plain": [
       "array([[0., 0., 0., 0., 0., 0., 0., 0.],\n",
       "       [0., 0., 0., 0., 0., 0., 0., 0.],\n",
       "       [0., 0., 0., 0., 0., 0., 0., 0.],\n",
       "       [0., 0., 0., 0., 0., 0., 0., 0.],\n",
       "       [0., 0., 0., 0., 0., 0., 0., 0.]])"
      ]
     },
     "execution_count": 48,
     "metadata": {},
     "output_type": "execute_result"
    }
   ],
   "source": [
    "np.zeros((5,8))"
   ]
  },
  {
   "cell_type": "markdown",
   "id": "d79f6a76",
   "metadata": {},
   "source": [
    "### 54) How do you create a Numpy array with a given shape containing all ones?\n"
   ]
  },
  {
   "cell_type": "code",
   "execution_count": 67,
   "id": "73fdb077",
   "metadata": {},
   "outputs": [
    {
     "data": {
      "text/plain": [
       "array([[1., 1., 1., 1.],\n",
       "       [1., 1., 1., 1.]])"
      ]
     },
     "execution_count": 67,
     "metadata": {},
     "output_type": "execute_result"
    }
   ],
   "source": [
    "np.ones((2,4))\n"
   ]
  },
  {
   "cell_type": "markdown",
   "id": "2f70e2b5",
   "metadata": {},
   "source": [
    "### 55) How do you create an identity matrix of a given shape?\n"
   ]
  },
  {
   "cell_type": "code",
   "execution_count": 49,
   "id": "c651b0b6",
   "metadata": {},
   "outputs": [
    {
     "name": "stdout",
     "output_type": "stream",
     "text": [
      "[[1. 0. 0.]\n",
      " [0. 1. 0.]\n",
      " [0. 0. 1.]]\n"
     ]
    }
   ],
   "source": [
    "import numpy as np\n",
    "\n",
    "# Create a 3x3 identity matrix\n",
    "identity_matrix = np.eye(3)\n",
    "\n",
    "print(identity_matrix)\n"
   ]
  },
  {
   "cell_type": "markdown",
   "id": "212a4763",
   "metadata": {},
   "source": [
    "### 56) How do you create a random vector of a given length?"
   ]
  },
  {
   "cell_type": "code",
   "execution_count": 50,
   "id": "e50a7998",
   "metadata": {},
   "outputs": [
    {
     "name": "stdout",
     "output_type": "stream",
     "text": [
      "[0.18959182 0.80559481 0.00342392 0.02568944 0.56485023]\n"
     ]
    }
   ],
   "source": [
    "import numpy as np\n",
    "\n",
    "# Specify the length of the random vector\n",
    "vector_length = 5\n",
    "\n",
    "# Create a random vector of the specified length\n",
    "random_vector = np.random.rand(vector_length)\n",
    "\n",
    "print(random_vector)\n"
   ]
  },
  {
   "cell_type": "markdown",
   "id": "9fcc57a3",
   "metadata": {},
   "source": [
    "### 57) How do you create a Numpy array with a given shape with a fixed value for each element?\n"
   ]
  },
  {
   "cell_type": "code",
   "execution_count": 52,
   "id": "95b13979",
   "metadata": {},
   "outputs": [
    {
     "name": "stdout",
     "output_type": "stream",
     "text": [
      "[0. 0. 0. 0. 0. 0.]\n"
     ]
    }
   ],
   "source": [
    "import numpy as np\n",
    "\n",
    "b1 = np.zeros(6)\n",
    "print(b1)"
   ]
  },
  {
   "cell_type": "markdown",
   "id": "24972e81",
   "metadata": {},
   "source": [
    "### 58) How do you create a Numpy array with a given shape containing randomly initialized elements?\n"
   ]
  },
  {
   "cell_type": "code",
   "execution_count": 53,
   "id": "2af3b282",
   "metadata": {},
   "outputs": [
    {
     "name": "stdout",
     "output_type": "stream",
     "text": [
      "[[0.86828801 0.72418823 0.53461011 0.69123282]\n",
      " [0.1953509  0.78071953 0.30684918 0.47195738]\n",
      " [0.97369305 0.64475261 0.19247895 0.68696269]]\n"
     ]
    }
   ],
   "source": [
    "import numpy as np\n",
    "\n",
    "# Specify the desired shape of the array\n",
    "array_shape = (3, 4)  # Example: 3 rows and 4 columns\n",
    "\n",
    "# Create a NumPy array with random values in the specified shape\n",
    "random_array = np.random.rand(*array_shape)\n",
    "\n",
    "print(random_array)\n"
   ]
  },
  {
   "cell_type": "markdown",
   "id": "d90b88fa",
   "metadata": {},
   "source": [
    "### 59) What is the difference between np.random.rand and np.random.randn? Illustrate with examples.\n",
    "### numpy.random.randn generates samples from the normal distribution, while numpy.random.rand from uniform (in range [0,1))."
   ]
  },
  {
   "cell_type": "code",
   "execution_count": 55,
   "id": "639fef57",
   "metadata": {},
   "outputs": [
    {
     "data": {
      "image/png": "[encoded data removed]",
      "text/plain": [
       "<Figure size 640x480 with 1 Axes>"
      ]
     },
     "metadata": {},
     "output_type": "display_data"
    },
    {
     "data": {
      "image/png": "[encoded data removed]",
      "text/plain": [
       "<Figure size 640x480 with 1 Axes>"
      ]
     },
     "metadata": {},
     "output_type": "display_data"
    }
   ],
   "source": [
    "import numpy as np\n",
    "import matplotlib.pyplot as plt\n",
    "\n",
    "sample_size = 200000\n",
    "uniform = np.random.rand(sample_size)\n",
    "normal = np.random.randn(sample_size)\n",
    "\n",
    "pdf, bins, patches = plt.hist(uniform, bins=20, range=(0, 1), density=True)\n",
    "plt.title('rand: uniform')\n",
    "plt.show()\n",
    "\n",
    "pdf, bins, patches = plt.hist(normal, bins=20, range=(-4, 4), density=True)\n",
    "plt.title('randn: normal')\n",
    "plt.show()"
   ]
  },
  {
   "cell_type": "markdown",
   "id": "447377cf",
   "metadata": {},
   "source": [
    "### 60) What is the difference between np.arange and np.linspace? Illustrate with examples.\n",
    "#### np.arange : Return evenly spaced values within a given interval.\n",
    "#### np.linspace : Return evenly spaced numbers over a specified interval.\n"
   ]
  },
  {
   "cell_type": "code",
   "execution_count": 56,
   "id": "0bc8ab8c",
   "metadata": {},
   "outputs": [
    {
     "data": {
      "text/plain": [
       "array([0. , 0.1, 0.2, 0.3, 0.4, 0.5, 0.6, 0.7, 0.8, 0.9, 1. ])"
      ]
     },
     "execution_count": 56,
     "metadata": {},
     "output_type": "execute_result"
    }
   ],
   "source": [
    "np.linspace(0,2,9)\n",
    "np.array([0. , 0.1, 0.2, 0.3, 0.4, 0.5, 0.6, 0.7, 0.8, 0.9, 1. ])"
   ]
  },
  {
   "cell_type": "code",
   "execution_count": 57,
   "id": "0b1e8d44",
   "metadata": {},
   "outputs": [
    {
     "data": {
      "text/plain": [
       "array([0. , 0.1, 0.2, 0.3, 0.4, 0.5, 0.6, 0.7, 0.8])"
      ]
     },
     "execution_count": 57,
     "metadata": {},
     "output_type": "execute_result"
    }
   ],
   "source": [
    "np.arange(0,1,.9)\n",
    "np.array([0. , 0.1, 0.2, 0.3, 0.4, 0.5, 0.6, 0.7, 0.8])"
   ]
  },
  {
   "cell_type": "markdown",
   "id": "3559e188",
   "metadata": {},
   "source": [
    "### 1. Import the numpy package under the name np"
   ]
  },
  {
   "cell_type": "code",
   "execution_count": 79,
   "id": "37821d2d",
   "metadata": {},
   "outputs": [],
   "source": [
    "import numpy as np"
   ]
  },
  {
   "cell_type": "markdown",
   "id": "34a979dd",
   "metadata": {},
   "source": [
    "### 2. Print the numpy version and the configuration"
   ]
  },
  {
   "cell_type": "code",
   "execution_count": 80,
   "id": "c6c8a02a",
   "metadata": {},
   "outputs": [
    {
     "name": "stdout",
     "output_type": "stream",
     "text": [
      "1.24.3\n",
      "blas_armpl_info:\n",
      "  NOT AVAILABLE\n",
      "blas_mkl_info:\n",
      "    libraries = ['mkl_rt']\n",
      "    library_dirs = ['C:/Users/furqan ahmed/New folder\\\\Library\\\\lib']\n",
      "    define_macros = [('SCIPY_MKL_H', None), ('HAVE_CBLAS', None)]\n",
      "    include_dirs = ['C:/Users/furqan ahmed/New folder\\\\Library\\\\include']\n",
      "blas_opt_info:\n",
      "    libraries = ['mkl_rt']\n",
      "    library_dirs = ['C:/Users/furqan ahmed/New folder\\\\Library\\\\lib']\n",
      "    define_macros = [('SCIPY_MKL_H', None), ('HAVE_CBLAS', None)]\n",
      "    include_dirs = ['C:/Users/furqan ahmed/New folder\\\\Library\\\\include']\n",
      "lapack_armpl_info:\n",
      "  NOT AVAILABLE\n",
      "lapack_mkl_info:\n",
      "    libraries = ['mkl_rt']\n",
      "    library_dirs = ['C:/Users/furqan ahmed/New folder\\\\Library\\\\lib']\n",
      "    define_macros = [('SCIPY_MKL_H', None), ('HAVE_CBLAS', None)]\n",
      "    include_dirs = ['C:/Users/furqan ahmed/New folder\\\\Library\\\\include']\n",
      "lapack_opt_info:\n",
      "    libraries = ['mkl_rt']\n",
      "    library_dirs = ['C:/Users/furqan ahmed/New folder\\\\Library\\\\lib']\n",
      "    define_macros = [('SCIPY_MKL_H', None), ('HAVE_CBLAS', None)]\n",
      "    include_dirs = ['C:/Users/furqan ahmed/New folder\\\\Library\\\\include']\n",
      "Supported SIMD extensions in this NumPy install:\n",
      "    baseline = SSE,SSE2,SSE3\n",
      "    found = SSSE3,SSE41,POPCNT,SSE42,AVX,F16C,FMA3,AVX2\n",
      "    not found = AVX512F,AVX512CD,AVX512_SKX,AVX512_CLX,AVX512_CNL,AVX512_ICL\n",
      "None\n"
     ]
    }
   ],
   "source": [
    "import numpy as np\n",
    "print(np.__version__)\n",
    "print(np.show_config())"
   ]
  },
  {
   "cell_type": "markdown",
   "id": "4b0171db",
   "metadata": {},
   "source": [
    "### 3. Create a null vector of size 10"
   ]
  },
  {
   "cell_type": "code",
   "execution_count": 81,
   "id": "d9ae2b10",
   "metadata": {},
   "outputs": [
    {
     "name": "stdout",
     "output_type": "stream",
     "text": [
      "[0. 0. 0. 0. 0. 0. 0. 0. 0. 0.]\n"
     ]
    }
   ],
   "source": [
    "import numpy as np\n",
    "x = np.zeros(10)\n",
    "print(x)"
   ]
  },
  {
   "cell_type": "markdown",
   "id": "8f65ff5c",
   "metadata": {},
   "source": [
    "### 4. How to find the memory size of any array"
   ]
  },
  {
   "cell_type": "code",
   "execution_count": 59,
   "id": "92a6b7aa",
   "metadata": {},
   "outputs": [
    {
     "name": "stdout",
     "output_type": "stream",
     "text": [
      "Memory size of the array (in bytes): 20\n"
     ]
    }
   ],
   "source": [
    "import numpy as np\n",
    "\n",
    "# Create a NumPy array\n",
    "arr = np.array([1, 2, 3, 4, 5])\n",
    "\n",
    "# Get the memory size of the array in bytes\n",
    "memory_size = arr.itemsize * arr.size\n",
    "\n",
    "print(\"Memory size of the array (in bytes):\", memory_size)\n",
    "\n",
    "\n"
   ]
  },
  {
   "cell_type": "markdown",
   "id": "b65097c6",
   "metadata": {},
   "source": [
    "### 5. How to get the documentation of the numpy add function from the command line?"
   ]
  },
  {
   "cell_type": "code",
   "execution_count": 84,
   "id": "950941f0",
   "metadata": {},
   "outputs": [
    {
     "name": "stdout",
     "output_type": "stream",
     "text": [
      "add(x1, x2, /, out=None, *, where=True, casting='same_kind', order='K', dtype=None, subok=True[, signature, extobj])\n",
      "\n",
      "Add arguments element-wise.\n",
      "\n",
      "Parameters\n",
      "----------\n",
      "x1, x2 : array_like\n",
      "    The arrays to be added.\n",
      "    If ``x1.shape != x2.shape``, they must be broadcastable to a common\n",
      "    shape (which becomes the shape of the output).\n",
      "out : ndarray, None, or tuple of ndarray and None, optional\n",
      "    A location into which the result is stored. If provided, it must have\n",
      "    a shape that the inputs broadcast to. If not provided or None,\n",
      "    a freshly-allocated array is returned. A tuple (possible only as a\n",
      "    keyword argument) must have length equal to the number of outputs.\n",
      "where : array_like, optional\n",
      "    This condition is broadcast over the input. At locations where the\n",
      "    condition is True, the `out` array will be set to the ufunc result.\n",
      "    Elsewhere, the `out` array will retain its original value.\n",
      "    Note that if an uninitialized `out` array is created via the default\n",
      "    ``out=None``, locations within it where the condition is False will\n",
      "    remain uninitialized.\n",
      "**kwargs\n",
      "    For other keyword-only arguments, see the\n",
      "    :ref:`ufunc docs <ufuncs.kwargs>`.\n",
      "\n",
      "Returns\n",
      "-------\n",
      "add : ndarray or scalar\n",
      "    The sum of `x1` and `x2`, element-wise.\n",
      "    This is a scalar if both `x1` and `x2` are scalars.\n",
      "\n",
      "Notes\n",
      "-----\n",
      "Equivalent to `x1` + `x2` in terms of array broadcasting.\n",
      "\n",
      "Examples\n",
      "--------\n",
      ">>> np.add(1.0, 4.0)\n",
      "5.0\n",
      ">>> x1 = np.arange(9.0).reshape((3, 3))\n",
      ">>> x2 = np.arange(3.0)\n",
      ">>> np.add(x1, x2)\n",
      "array([[  0.,   2.,   4.],\n",
      "       [  3.,   5.,   7.],\n",
      "       [  6.,   8.,  10.]])\n",
      "\n",
      "The ``+`` operator can be used as a shorthand for ``np.add`` on ndarrays.\n",
      "\n",
      ">>> x1 = np.arange(9.0).reshape((3, 3))\n",
      ">>> x2 = np.arange(3.0)\n",
      ">>> x1 + x2\n",
      "array([[ 0.,  2.,  4.],\n",
      "       [ 3.,  5.,  7.],\n",
      "       [ 6.,  8., 10.]])\n",
      "None\n"
     ]
    }
   ],
   "source": [
    "import numpy as np\n",
    "print(np.info(np.add))"
   ]
  },
  {
   "cell_type": "markdown",
   "id": "5c5423f2",
   "metadata": {},
   "source": [
    "### 6. Create a null vector of size 10 but the fifth value which is 1"
   ]
  },
  {
   "cell_type": "code",
   "execution_count": 60,
   "id": "3062df66",
   "metadata": {},
   "outputs": [
    {
     "name": "stdout",
     "output_type": "stream",
     "text": [
      "[0. 0. 0. 0. 1. 0. 0. 0. 0. 0.]\n"
     ]
    }
   ],
   "source": [
    "x=np.zeros(10)\n",
    "x[4]=1\n",
    "print(x)"
   ]
  },
  {
   "cell_type": "markdown",
   "id": "1ec2d19d",
   "metadata": {},
   "source": [
    "### 7. Create a vector with values ranging from 10 to 49"
   ]
  },
  {
   "cell_type": "code",
   "execution_count": 61,
   "id": "742e36cb",
   "metadata": {},
   "outputs": [
    {
     "name": "stdout",
     "output_type": "stream",
     "text": [
      "Original vector:\n",
      "[10 11 12 13 14 15 16 17 18 19 20 21 22 23 24 25 26 27 28 29 30 31 32 33\n",
      " 34 35 36 37 38 39 40 41 42 43 44 45 46 47 48]\n"
     ]
    }
   ],
   "source": [
    "import numpy as np\n",
    "v = np.arange(10,49)\n",
    "print(\"Original vector:\")\n",
    "print(v)\n"
   ]
  },
  {
   "cell_type": "markdown",
   "id": "90ea0d01",
   "metadata": {},
   "source": [
    "### 8. Reverse a vector (first element becomes last)\n"
   ]
  },
  {
   "cell_type": "code",
   "execution_count": 62,
   "id": "5685ee82",
   "metadata": {},
   "outputs": [
    {
     "name": "stdout",
     "output_type": "stream",
     "text": [
      "Original Vector: [1 2 3 4 5]\n",
      "Reversed Vector: [5 4 3 2 1]\n"
     ]
    }
   ],
   "source": [
    "import numpy as np\n",
    "\n",
    "# Create a NumPy array (vector)\n",
    "vector = np.array([1, 2, 3, 4, 5])\n",
    "\n",
    "# Reverse the vector using slicing\n",
    "reversed_vector = vector[::-1]\n",
    "\n",
    "print(\"Original Vector:\", vector)\n",
    "print(\"Reversed Vector:\", reversed_vector)\n"
   ]
  },
  {
   "cell_type": "markdown",
   "id": "2dac78cf",
   "metadata": {},
   "source": [
    "### 9. Create a 3x3 matrix with values ranging from 0 to 8\n"
   ]
  },
  {
   "cell_type": "code",
   "execution_count": 92,
   "id": "c2882bf7",
   "metadata": {},
   "outputs": [
    {
     "name": "stdout",
     "output_type": "stream",
     "text": [
      "[[0 1 2]\n",
      " [3 4 5]\n",
      " [6 7 8]]\n"
     ]
    }
   ],
   "source": [
    "import numpy as np\n",
    "x =  np.arange(0, 9).reshape(3,3)\n",
    "print(x)"
   ]
  },
  {
   "cell_type": "markdown",
   "id": "222f67ed",
   "metadata": {},
   "source": [
    "### 10. Find indices of non-zero elements from [1,2,0,0,4,0]\n"
   ]
  },
  {
   "cell_type": "code",
   "execution_count": 63,
   "id": "2cf74b0d",
   "metadata": {},
   "outputs": [
    {
     "name": "stdout",
     "output_type": "stream",
     "text": [
      "1\n",
      "2\n",
      "4\n"
     ]
    }
   ],
   "source": [
    "arr = np.array([1,2,0,0,4,0])\n",
    "print(arr[0])\n",
    "print(arr[1])\n",
    "print(arr[4])"
   ]
  },
  {
   "cell_type": "markdown",
   "id": "bac80a1e",
   "metadata": {},
   "source": [
    "### 11. Create a 3x3 identity matrix (★☆☆)"
   ]
  },
  {
   "cell_type": "code",
   "execution_count": 64,
   "id": "c77d0088",
   "metadata": {},
   "outputs": [
    {
     "name": "stdout",
     "output_type": "stream",
     "text": [
      "[[1. 0. 0.]\n",
      " [0. 1. 0.]\n",
      " [0. 0. 1.]]\n"
     ]
    }
   ],
   "source": [
    "import numpy as np\n",
    "\n",
    "# Create a 3x3 identity matrix\n",
    "identity_matrix = np.identity(3)\n",
    "\n",
    "print(identity_matrix)\n"
   ]
  },
  {
   "cell_type": "markdown",
   "id": "cbe71cfe",
   "metadata": {},
   "source": [
    "### 12. Create a 3x3x3 array with random values (★☆☆)"
   ]
  },
  {
   "cell_type": "code",
   "execution_count": 65,
   "id": "8c1c59db",
   "metadata": {},
   "outputs": [
    {
     "name": "stdout",
     "output_type": "stream",
     "text": [
      "[[[0.30556661 0.75977615 0.25964209]\n",
      "  [0.11823807 0.85011116 0.44499123]\n",
      "  [0.30654907 0.72221715 0.83832647]]\n",
      "\n",
      " [[0.64667859 0.43691789 0.61639746]\n",
      "  [0.52530873 0.90334307 0.2919225 ]\n",
      "  [0.83341666 0.29769163 0.07646971]]\n",
      "\n",
      " [[0.25904326 0.82036478 0.902011  ]\n",
      "  [0.18784927 0.02565753 0.56353277]\n",
      "  [0.61724199 0.70738236 0.64608341]]]\n"
     ]
    }
   ],
   "source": [
    "import numpy as np\n",
    "\n",
    "# Create a 3x3x3 array with random values\n",
    "random_array = np.random.rand(3, 3, 3)\n",
    "\n",
    "print(random_array)\n"
   ]
  },
  {
   "cell_type": "markdown",
   "id": "d6d41dd0",
   "metadata": {},
   "source": [
    "### 13. Create a 10x10 array with random values and find the minimum and maximum values (★☆☆)"
   ]
  },
  {
   "cell_type": "code",
   "execution_count": 66,
   "id": "66372e96",
   "metadata": {},
   "outputs": [
    {
     "name": "stdout",
     "output_type": "stream",
     "text": [
      "Random Array:\n",
      "[[1.06544297e-01 9.51629813e-01 6.60671869e-01 2.90936501e-01\n",
      "  4.91613169e-01 9.63012466e-01 9.91054527e-01 7.72241851e-02\n",
      "  9.34623505e-01 5.96082375e-01]\n",
      " [4.66999865e-02 7.60516110e-01 7.03999934e-01 1.21453713e-01\n",
      "  9.04950127e-01 8.09519413e-01 4.23127851e-01 7.56027213e-01\n",
      "  2.58733538e-02 1.05586474e-01]\n",
      " [2.14943189e-01 8.20517119e-01 3.63589337e-01 9.09738919e-01\n",
      "  3.83923220e-01 1.26210161e-01 5.35493764e-01 1.78483290e-01\n",
      "  2.01931743e-01 3.86529765e-01]\n",
      " [9.41991879e-01 3.45214257e-01 3.99755774e-01 6.43863697e-01\n",
      "  9.66346535e-01 7.22503460e-01 2.74656910e-01 9.86938544e-01\n",
      "  8.87074964e-01 9.22200265e-01]\n",
      " [9.70392639e-01 9.81598551e-01 7.50983804e-01 8.67624835e-01\n",
      "  2.05804784e-01 1.58707061e-01 9.76644546e-01 3.04613828e-01\n",
      "  7.99847579e-01 2.24439597e-01]\n",
      " [3.94653263e-01 3.15917638e-01 8.21507502e-01 2.39582285e-01\n",
      "  3.03725008e-01 7.30746726e-02 1.82036233e-01 3.86787289e-01\n",
      "  3.83312976e-01 4.65717621e-01]\n",
      " [7.61413912e-01 5.79530861e-01 4.66979163e-01 1.75336476e-01\n",
      "  6.13224102e-01 3.90198033e-01 7.47482292e-01 3.12740329e-01\n",
      "  7.53725672e-01 6.48947497e-01]\n",
      " [8.14636637e-01 6.45274806e-02 9.49725792e-01 5.35408435e-01\n",
      "  5.10629135e-01 9.30214867e-01 9.30541724e-01 3.72811723e-01\n",
      "  1.34143168e-01 2.57662853e-01]\n",
      " [1.26019014e-01 2.73595410e-01 1.89193379e-01 6.34155631e-01\n",
      "  3.23315284e-02 2.78044868e-01 2.10477940e-01 5.90586111e-01\n",
      "  7.45951795e-01 4.09691749e-01]\n",
      " [4.76215158e-01 5.36673039e-01 1.24431352e-01 5.49031884e-01\n",
      "  8.54583676e-01 9.64993491e-01 3.49986331e-02 1.99347678e-01\n",
      "  4.00012713e-04 8.27807385e-01]]\n",
      "\n",
      "Minimum Value: 0.00040001271291556506\n",
      "Maximum Value: 0.9910545265200066\n"
     ]
    }
   ],
   "source": [
    "import numpy as np\n",
    "\n",
    "# Create a 10x10 array with random values between 0 and 1\n",
    "random_array = np.random.rand(10, 10)\n",
    "\n",
    "# Find the minimum and maximum values in the array\n",
    "min_value = np.min(random_array)\n",
    "max_value = np.max(random_array)\n",
    "\n",
    "print(\"Random Array:\")\n",
    "print(random_array)\n",
    "print(\"\\nMinimum Value:\", min_value)\n",
    "print(\"Maximum Value:\", max_value)\n"
   ]
  },
  {
   "cell_type": "markdown",
   "id": "9e365308",
   "metadata": {},
   "source": [
    "### 14. Create a random vector of size 30 and find the mean value (★☆☆)"
   ]
  },
  {
   "cell_type": "code",
   "execution_count": 67,
   "id": "f30d8da9",
   "metadata": {},
   "outputs": [
    {
     "data": {
      "text/plain": [
       "0.4776828949645775"
      ]
     },
     "execution_count": 67,
     "metadata": {},
     "output_type": "execute_result"
    }
   ],
   "source": [
    "rv=np.random.random((30))\n",
    "rv.mean()"
   ]
  },
  {
   "cell_type": "markdown",
   "id": "20649f2a",
   "metadata": {},
   "source": [
    "### 15. Create a 2d array with 1 on the border and 0 inside (★☆☆)"
   ]
  },
  {
   "cell_type": "code",
   "execution_count": 68,
   "id": "b44847c9",
   "metadata": {},
   "outputs": [
    {
     "name": "stdout",
     "output_type": "stream",
     "text": [
      "[[1 1 1 1 1]\n",
      " [1 0 0 0 1]\n",
      " [1 0 0 0 1]\n",
      " [1 0 0 0 1]\n",
      " [1 1 1 1 1]]\n"
     ]
    }
   ],
   "source": [
    "import numpy as np\n",
    "\n",
    "# Define the shape of the 2D array\n",
    "rows, cols = 5, 5  # Adjust the dimensions as needed\n",
    "\n",
    "# Create a 2D array of zeros\n",
    "array = np.zeros((rows, cols), dtype=int)\n",
    "\n",
    "# Set the border elements to 1\n",
    "array[0, :] = 1\n",
    "array[-1, :] = 1\n",
    "array[:, 0] = 1\n",
    "array[:, -1] = 1\n",
    "\n",
    "print(array)\n"
   ]
  },
  {
   "cell_type": "markdown",
   "id": "076e6b3d",
   "metadata": {},
   "source": [
    "### 16. How to add a border (filled with 0's) around an existing array? (★☆☆)"
   ]
  },
  {
   "cell_type": "code",
   "execution_count": 69,
   "id": "2218290a",
   "metadata": {},
   "outputs": [
    {
     "name": "stdout",
     "output_type": "stream",
     "text": [
      "[[0 0 0 0 0]\n",
      " [0 1 2 3 0]\n",
      " [0 4 5 6 0]\n",
      " [0 7 8 9 0]\n",
      " [0 0 0 0 0]]\n"
     ]
    }
   ],
   "source": [
    "import numpy as np\n",
    "\n",
    "# Create an existing array (e.g., a 3x3 array)\n",
    "existing_array = np.array([[1, 2, 3],\n",
    "                           [4, 5, 6],\n",
    "                           [7, 8, 9]])\n",
    "\n",
    "# Determine the desired size for the new array with the border\n",
    "rows, cols = existing_array.shape\n",
    "border_size = 1  # Adjust the size of the border as needed\n",
    "\n",
    "# Create a new larger array filled with 0's\n",
    "new_array = np.zeros((rows + 2 * border_size, cols + 2 * border_size), dtype=existing_array.dtype)\n",
    "\n",
    "# Copy the existing array into the center of the new array\n",
    "new_array[border_size:border_size+rows, border_size:border_size+cols] = existing_array\n",
    "\n",
    "print(new_array)\n"
   ]
  },
  {
   "cell_type": "markdown",
   "id": "f5470a8a",
   "metadata": {},
   "source": [
    "### 17. What is the result of the following expression? (★☆☆)"
   ]
  },
  {
   "cell_type": "code",
   "execution_count": 70,
   "id": "f2a36af1",
   "metadata": {},
   "outputs": [
    {
     "name": "stdout",
     "output_type": "stream",
     "text": [
      "nan\n",
      "False\n",
      "False\n",
      "nan\n",
      "False\n"
     ]
    }
   ],
   "source": [
    "print(0 * np.nan)\n",
    "print(np.nan == np.nan)\n",
    "print(np.inf > np.nan)\n",
    "print(np.nan - np.nan)\n",
    "print(0.3 == 3 * 0.1)"
   ]
  },
  {
   "cell_type": "markdown",
   "id": "16d179b2",
   "metadata": {},
   "source": [
    "### 18. Create a 5x5 matrix with values 1,2,3,4 just below the diagonal (★☆☆)\n"
   ]
  },
  {
   "cell_type": "code",
   "execution_count": 71,
   "id": "9f389d58",
   "metadata": {},
   "outputs": [
    {
     "name": "stdout",
     "output_type": "stream",
     "text": [
      "[[0 0 0 0 0]\n",
      " [1 0 0 0 0]\n",
      " [0 2 0 0 0]\n",
      " [0 0 3 0 0]\n",
      " [0 0 0 4 0]]\n"
     ]
    }
   ],
   "source": [
    "mtrx=np.diag(np.arange(1,5),k=-1)\n",
    "print(mtrx)"
   ]
  },
  {
   "cell_type": "markdown",
   "id": "1bc13200",
   "metadata": {},
   "source": [
    "### 19. Create a 8x8 matrix and fill it with a checkerboard pattern (★☆☆)"
   ]
  },
  {
   "cell_type": "code",
   "execution_count": 72,
   "id": "3ad6b19e",
   "metadata": {},
   "outputs": [
    {
     "name": "stdout",
     "output_type": "stream",
     "text": [
      "[[0 1 0 1 0 1 0 1]\n",
      " [1 0 1 0 1 0 1 0]\n",
      " [0 1 0 1 0 1 0 1]\n",
      " [1 0 1 0 1 0 1 0]\n",
      " [0 1 0 1 0 1 0 1]\n",
      " [1 0 1 0 1 0 1 0]\n",
      " [0 1 0 1 0 1 0 1]\n",
      " [1 0 1 0 1 0 1 0]]\n"
     ]
    }
   ],
   "source": [
    "import numpy as np\n",
    "\n",
    "# Create an 8x8 matrix with a checkerboard pattern\n",
    "checkerboard = np.zeros((8, 8), dtype=int)\n",
    "\n",
    "# Set alternating rows and columns to 1\n",
    "checkerboard[1::2, ::2] = 1  # Odd rows and even columns\n",
    "checkerboard[::2, 1::2] = 1  # Even rows and odd columns\n",
    "\n",
    "print(checkerboard)\n"
   ]
  },
  {
   "cell_type": "markdown",
   "id": "84cbedc5",
   "metadata": {},
   "source": [
    "### 20. Consider a (6,7,8) shape array, what is the index (x,y,z) of the 100th element?"
   ]
  },
  {
   "cell_type": "code",
   "execution_count": 73,
   "id": "5e7d5661",
   "metadata": {},
   "outputs": [
    {
     "name": "stdout",
     "output_type": "stream",
     "text": [
      "(1, 5, 4)\n"
     ]
    }
   ],
   "source": [
    "import numpy as np\n",
    "print (np.unravel_index(100, (6,7,8)))"
   ]
  },
  {
   "cell_type": "markdown",
   "id": "274a1611",
   "metadata": {},
   "source": [
    "### 21. Create a checkerboard 8x8 matrix using the tile function (★☆☆)\n"
   ]
  },
  {
   "cell_type": "code",
   "execution_count": 74,
   "id": "d365e2b8",
   "metadata": {},
   "outputs": [
    {
     "name": "stdout",
     "output_type": "stream",
     "text": [
      "[[0 1 0 1 0 1 0 1]\n",
      " [1 0 1 0 1 0 1 0]\n",
      " [0 1 0 1 0 1 0 1]\n",
      " [1 0 1 0 1 0 1 0]\n",
      " [0 1 0 1 0 1 0 1]\n",
      " [1 0 1 0 1 0 1 0]\n",
      " [0 1 0 1 0 1 0 1]\n",
      " [1 0 1 0 1 0 1 0]]\n"
     ]
    }
   ],
   "source": [
    "import numpy as np\n",
    "\n",
    "# Create a 2x2 checkerboard pattern\n",
    "checkerboard_pattern = np.array([[0, 1],\n",
    "                                 [1, 0]])\n",
    "\n",
    "# Use the tile function to replicate the pattern into an 8x8 matrix\n",
    "checkerboard = np.tile(checkerboard_pattern, (4, 4))\n",
    "\n",
    "print(checkerboard)\n"
   ]
  },
  {
   "cell_type": "markdown",
   "id": "1cf21de2",
   "metadata": {},
   "source": [
    "### 22. Normalize a 5x5 random matrix (★☆☆)\n"
   ]
  },
  {
   "cell_type": "code",
   "execution_count": 75,
   "id": "3703e527",
   "metadata": {},
   "outputs": [
    {
     "name": "stdout",
     "output_type": "stream",
     "text": [
      "Original Random Matrix:\n",
      "[[0.39417703 0.47073877 0.34838943 0.25538331 0.81015062]\n",
      " [0.6796918  0.41261625 0.38507928 0.48692123 0.34655509]\n",
      " [0.19539405 0.73554611 0.80710721 0.91829684 0.96819833]\n",
      " [0.85059078 0.00314273 0.12556217 0.16108008 0.76391663]\n",
      " [0.45109025 0.55988711 0.35642874 0.43519719 0.70183811]]\n",
      "\n",
      "Normalized Matrix:\n",
      "[[0.40519354 0.48452757 0.35774799 0.26137414 0.83622943]\n",
      " [0.70104672 0.42430044 0.39576637 0.50129598 0.35584722]\n",
      " [0.19921268 0.7589235  0.83307581 0.94829159 1.        ]\n",
      " [0.87813391 0.         0.12685221 0.16365621 0.78832131]\n",
      " [0.46416758 0.57690394 0.3660784  0.44769903 0.72399494]]\n"
     ]
    }
   ],
   "source": [
    "import numpy as np\n",
    "\n",
    "# Create a 5x5 random matrix\n",
    "random_matrix = np.random.rand(5, 5)\n",
    "\n",
    "# Find the minimum and maximum values\n",
    "min_value = random_matrix.min()\n",
    "max_value = random_matrix.max()\n",
    "\n",
    "# Normalize the matrix\n",
    "normalized_matrix = (random_matrix - min_value) / (max_value - min_value)\n",
    "\n",
    "print(\"Original Random Matrix:\")\n",
    "print(random_matrix)\n",
    "print(\"\\nNormalized Matrix:\")\n",
    "print(normalized_matrix)\n"
   ]
  },
  {
   "cell_type": "markdown",
   "id": "60fb641b",
   "metadata": {},
   "source": [
    "### 23. Create a custom dtype that describes a color as four unsigned bytes (RGBA) (★☆☆)"
   ]
  },
  {
   "cell_type": "code",
   "execution_count": 76,
   "id": "6200c489",
   "metadata": {},
   "outputs": [],
   "source": [
    "color = np.dtype([(\"r\", np.ubyte,  (1,)),\n",
    "                  (\"g\", np.ubyte,  (1,)),\n",
    "                  (\"b\", np.ubyte,  (1,)),\n",
    "                  (\"a\", np.ubyte,  (1,))])"
   ]
  },
  {
   "cell_type": "markdown",
   "id": "0f74d8ef",
   "metadata": {},
   "source": [
    "### 24. Multiply a 5x3 matrix by a 3x2 matrix (real matrix product) (★☆☆)"
   ]
  },
  {
   "cell_type": "code",
   "execution_count": 78,
   "id": "091934c6",
   "metadata": {},
   "outputs": [
    {
     "name": "stdout",
     "output_type": "stream",
     "text": [
      "[[3. 3.]\n",
      " [3. 3.]\n",
      " [3. 3.]\n",
      " [3. 3.]\n",
      " [3. 3.]]\n",
      "[[3. 3.]\n",
      " [3. 3.]\n",
      " [3. 3.]\n",
      " [3. 3.]\n",
      " [3. 3.]]\n"
     ]
    }
   ],
   "source": [
    "RMP = np.dot(np.ones((5,3)), np.ones((3,2)))\n",
    "print(RMP)\n",
    "\n",
    "# Alternative solution, in Python 3.5 and above\n",
    "RMP = np.ones((5,3)) @ np.ones((3,2))\n",
    "print(RMP)"
   ]
  },
  {
   "cell_type": "markdown",
   "id": "22c497ae",
   "metadata": {},
   "source": [
    "### 25. Given a 1D array, negate all elements which are between 3 and 8, in place. (★☆☆)\n"
   ]
  },
  {
   "cell_type": "code",
   "execution_count": 79,
   "id": "1c86994b",
   "metadata": {},
   "outputs": [
    {
     "name": "stdout",
     "output_type": "stream",
     "text": [
      "[ 0  1  2  3 -4 -5 -6 -7 -8  9 10]\n"
     ]
    }
   ],
   "source": [
    "X = np.arange(11)\n",
    "X[(3 < X) & (X <= 8)] *= -1\n",
    "print(X)"
   ]
  },
  {
   "cell_type": "markdown",
   "id": "a6c43dec",
   "metadata": {},
   "source": [
    "### 26. What is the output of the following script? (★☆☆)"
   ]
  },
  {
   "cell_type": "code",
   "execution_count": 23,
   "id": "61224a9f",
   "metadata": {},
   "outputs": [
    {
     "name": "stdout",
     "output_type": "stream",
     "text": [
      "9\n",
      "10\n"
     ]
    }
   ],
   "source": [
    "print(sum(range(5),-1))\n",
    "from numpy import *\n",
    "print(sum(range(5),-1))"
   ]
  },
  {
   "cell_type": "markdown",
   "id": "02c98bd4",
   "metadata": {},
   "source": [
    "### 27. Consider an integer vector Z, which of these expressions are legal? (★☆☆)\n"
   ]
  },
  {
   "cell_type": "code",
   "execution_count": 80,
   "id": "2b069a84",
   "metadata": {},
   "outputs": [
    {
     "ename": "NameError",
     "evalue": "name 'Z' is not defined",
     "output_type": "error",
     "traceback": [
      "\u001b[1;31m---------------------------------------------------------------------------\u001b[0m",
      "\u001b[1;31mNameError\u001b[0m                                 Traceback (most recent call last)",
      "Cell \u001b[1;32mIn[80], line 1\u001b[0m\n\u001b[1;32m----> 1\u001b[0m Z\u001b[38;5;241m*\u001b[39m\u001b[38;5;241m*\u001b[39mZ\n\u001b[0;32m      2\u001b[0m \u001b[38;5;241m2\u001b[39m \u001b[38;5;241m<<\u001b[39m Z \u001b[38;5;241m>>\u001b[39m \u001b[38;5;241m2\u001b[39m\n\u001b[0;32m      3\u001b[0m Z \u001b[38;5;241m<\u001b[39m\u001b[38;5;241m-\u001b[39m Z\n",
      "\u001b[1;31mNameError\u001b[0m: name 'Z' is not defined"
     ]
    }
   ],
   "source": [
    "Z**Z\n",
    "2 << Z >> 2\n",
    "Z <- Z\n",
    "1*Z\n",
    "Z/1/1\n",
    "Z<Z>Z"
   ]
  },
  {
   "cell_type": "markdown",
   "id": "0121b40c",
   "metadata": {},
   "source": [
    "### 28. What are the result of the following expressions?\n"
   ]
  },
  {
   "cell_type": "code",
   "execution_count": 81,
   "id": "90bca18f",
   "metadata": {},
   "outputs": [
    {
     "name": "stderr",
     "output_type": "stream",
     "text": [
      "C:\\Users\\lenovo\\AppData\\Local\\Temp\\ipykernel_700\\548293649.py:1: RuntimeWarning: invalid value encountered in divide\n",
      "  np.array(0) / np.array(0)\n",
      "C:\\Users\\lenovo\\AppData\\Local\\Temp\\ipykernel_700\\548293649.py:2: RuntimeWarning: divide by zero encountered in floor_divide\n",
      "  np.array(0) // np.array(0)\n",
      "C:\\Users\\lenovo\\AppData\\Local\\Temp\\ipykernel_700\\548293649.py:3: RuntimeWarning: invalid value encountered in cast\n",
      "  np.array([np.nan]).astype(int).astype(float)\n"
     ]
    },
    {
     "data": {
      "text/plain": [
       "array([-2.14748365e+09])"
      ]
     },
     "execution_count": 81,
     "metadata": {},
     "output_type": "execute_result"
    }
   ],
   "source": [
    "np.array(0) / np.array(0)\n",
    "np.array(0) // np.array(0)\n",
    "np.array([np.nan]).astype(int).astype(float)"
   ]
  },
  {
   "cell_type": "markdown",
   "id": "4e1ce439",
   "metadata": {},
   "source": [
    "### 29. How to round away from zero a float array ? (★☆☆)\n"
   ]
  },
  {
   "cell_type": "code",
   "execution_count": 82,
   "id": "1eae8879",
   "metadata": {},
   "outputs": [
    {
     "name": "stdout",
     "output_type": "stream",
     "text": [
      "Original Float Array:\n",
      "[-1.5  2.7 -3.4  4.9 -5.2]\n",
      "\n",
      "Rounded Array (Away from Zero):\n",
      "[-2.  3. -4.  5. -6.]\n"
     ]
    }
   ],
   "source": [
    "import numpy as np\n",
    "\n",
    "# Create a float array\n",
    "float_array = np.array([-1.5, 2.7, -3.4, 4.9, -5.2])\n",
    "\n",
    "# Round away from zero using numpy.ceil() for positive numbers and numpy.floor() for negative numbers\n",
    "rounded_array = np.where(float_array >= 0, np.ceil(float_array), np.floor(float_array))\n",
    "\n",
    "print(\"Original Float Array:\")\n",
    "print(float_array)\n",
    "print(\"\\nRounded Array (Away from Zero):\")\n",
    "print(rounded_array)\n"
   ]
  },
  {
   "cell_type": "markdown",
   "id": "07a25aad",
   "metadata": {},
   "source": [
    "### 30. How to find common values between two arrays? (★☆☆)\n"
   ]
  },
  {
   "cell_type": "code",
   "execution_count": 84,
   "id": "f76a417a",
   "metadata": {},
   "outputs": [
    {
     "name": "stdout",
     "output_type": "stream",
     "text": [
      "[0 2 4 5]\n"
     ]
    }
   ],
   "source": [
    "X1 = np.random.randint(0,11,10)\n",
    "X2 = np.random.randint(0,11,10)\n",
    "print(np.intersect1d(X1,X2))"
   ]
  },
  {
   "cell_type": "markdown",
   "id": "a00c3329",
   "metadata": {},
   "source": [
    "### 31. How to ignore all numpy warnings (not recommended)? (★☆☆)"
   ]
  },
  {
   "cell_type": "code",
   "execution_count": 30,
   "id": "57e08171",
   "metadata": {},
   "outputs": [],
   "source": [
    "with np.errstate(divide='ignore'):\n",
    "    Z = np.ones(1) / 0"
   ]
  },
  {
   "cell_type": "markdown",
   "id": "73d6a422",
   "metadata": {},
   "source": [
    "### 32. Is the following expressions true? (★☆☆)"
   ]
  },
  {
   "cell_type": "code",
   "execution_count": 85,
   "id": "da12ab36",
   "metadata": {},
   "outputs": [
    {
     "name": "stderr",
     "output_type": "stream",
     "text": [
      "C:\\Users\\lenovo\\AppData\\Local\\Temp\\ipykernel_700\\244602691.py:1: RuntimeWarning: invalid value encountered in sqrt\n",
      "  np.sqrt(-1) == np.emath.sqrt(-1)\n"
     ]
    },
    {
     "data": {
      "text/plain": [
       "False"
      ]
     },
     "execution_count": 85,
     "metadata": {},
     "output_type": "execute_result"
    }
   ],
   "source": [
    "np.sqrt(-1) == np.emath.sqrt(-1)"
   ]
  },
  {
   "cell_type": "markdown",
   "id": "2428a354",
   "metadata": {},
   "source": [
    "### 33. How to get the dates of yesterday, today and tomorrow? (★☆☆)"
   ]
  },
  {
   "cell_type": "code",
   "execution_count": 86,
   "id": "9250bc8b",
   "metadata": {},
   "outputs": [
    {
     "name": "stdout",
     "output_type": "stream",
     "text": [
      "Yesterday: 2023-11-05\n",
      "Today: 2023-11-06\n",
      "Tomorrow: 2023-11-07\n"
     ]
    }
   ],
   "source": [
    "import numpy as np\n",
    "from datetime import datetime, timedelta\n",
    "\n",
    "# Get the current date (today)\n",
    "today = datetime.now().date()\n",
    "\n",
    "# Calculate the dates of yesterday and tomorrow\n",
    "yesterday = today - timedelta(days=1)\n",
    "tomorrow = today + timedelta(days=1)\n",
    "\n",
    "# Create NumPy datetime64 objects\n",
    "today_np = np.datetime64(today)\n",
    "yesterday_np = np.datetime64(yesterday)\n",
    "tomorrow_np = np.datetime64(tomorrow)\n",
    "\n",
    "print(\"Yesterday:\", yesterday_np)\n",
    "print(\"Today:\", today_np)\n",
    "print(\"Tomorrow:\", tomorrow_np)\n"
   ]
  },
  {
   "cell_type": "markdown",
   "id": "aad2dc86",
   "metadata": {},
   "source": [
    "### 34. How to get all the dates corresponding to the month of July 2016? (★★☆)\n"
   ]
  },
  {
   "cell_type": "code",
   "execution_count": 88,
   "id": "af0b836c",
   "metadata": {},
   "outputs": [
    {
     "name": "stdout",
     "output_type": "stream",
     "text": [
      "['2016-07-01T00:00:00.000000' '2016-07-02T00:00:00.000000'\n",
      " '2016-07-03T00:00:00.000000' '2016-07-04T00:00:00.000000'\n",
      " '2016-07-05T00:00:00.000000' '2016-07-06T00:00:00.000000'\n",
      " '2016-07-07T00:00:00.000000' '2016-07-08T00:00:00.000000'\n",
      " '2016-07-09T00:00:00.000000' '2016-07-10T00:00:00.000000'\n",
      " '2016-07-11T00:00:00.000000' '2016-07-12T00:00:00.000000'\n",
      " '2016-07-13T00:00:00.000000' '2016-07-14T00:00:00.000000'\n",
      " '2016-07-15T00:00:00.000000' '2016-07-16T00:00:00.000000'\n",
      " '2016-07-17T00:00:00.000000' '2016-07-18T00:00:00.000000'\n",
      " '2016-07-19T00:00:00.000000' '2016-07-20T00:00:00.000000'\n",
      " '2016-07-21T00:00:00.000000' '2016-07-22T00:00:00.000000'\n",
      " '2016-07-23T00:00:00.000000' '2016-07-24T00:00:00.000000'\n",
      " '2016-07-25T00:00:00.000000' '2016-07-26T00:00:00.000000'\n",
      " '2016-07-27T00:00:00.000000' '2016-07-28T00:00:00.000000'\n",
      " '2016-07-29T00:00:00.000000' '2016-07-30T00:00:00.000000'\n",
      " '2016-07-31T00:00:00.000000']\n"
     ]
    }
   ],
   "source": [
    "import numpy as np\n",
    "from datetime import datetime, timedelta\n",
    "\n",
    "# Define the start date for July 2016\n",
    "start_date = datetime(2016, 7, 1)\n",
    "\n",
    "# Define the end date for July 2016\n",
    "end_date = datetime(2016, 7, 31)\n",
    "\n",
    "# Create an empty NumPy array to store the dates\n",
    "dates_in_july_2016 = np.array([])\n",
    "\n",
    "# Generate all the dates in July 2016\n",
    "current_date = start_date\n",
    "while current_date <= end_date:\n",
    "    dates_in_july_2016 = np.append(dates_in_july_2016, current_date)\n",
    "    current_date += timedelta(days=1)\n",
    "\n",
    "# Convert the NumPy array to datetime64 data type\n",
    "dates_in_july_2016 = np.array(dates_in_july_2016, dtype='datetime64')\n",
    "\n",
    "# Print the array of dates\n",
    "print(dates_in_july_2016)\n",
    "\n",
    "\n"
   ]
  },
  {
   "cell_type": "markdown",
   "id": "2c95eec3",
   "metadata": {},
   "source": [
    "### 35. How to compute ((A+B)*(-A/2)) in place (without copy)? (★★☆)\n"
   ]
  },
  {
   "cell_type": "code",
   "execution_count": 34,
   "id": "3077ca01",
   "metadata": {},
   "outputs": [
    {
     "data": {
      "text/plain": [
       "array([-1.5, -1.5, -1.5])"
      ]
     },
     "execution_count": 34,
     "metadata": {},
     "output_type": "execute_result"
    }
   ],
   "source": [
    "A = np.ones(3)*1\n",
    "B = np.ones(3)*2\n",
    "C = np.ones(3)*3\n",
    "np.add(A,B,out=B)\n",
    "np.divide(A,2,out=A)\n",
    "np.negative(A,out=A)\n",
    "np.multiply(A,B,out=A)"
   ]
  },
  {
   "cell_type": "markdown",
   "id": "29af5de7",
   "metadata": {},
   "source": [
    "### 36. Extract the integer part of a random array of positive numbers using 4 different methods (★★☆)\n"
   ]
  },
  {
   "cell_type": "code",
   "execution_count": 90,
   "id": "84648014",
   "metadata": {},
   "outputs": [
    {
     "name": "stdout",
     "output_type": "stream",
     "text": [
      "Original Random Array:\n",
      "[54.99044669 78.64605251 45.6478583  65.38409813 79.45743576]\n",
      "\n",
      "Method 1 (numpy.floor()): [54 78 45 65 79]\n",
      "Method 2 (numpy.trunc()): [54 78 45 65 79]\n",
      "Method 3 (integer casting): [54 78 45 65 79]\n",
      "Method 4 (numpy.floor_divide()): [54 78 45 65 79]\n"
     ]
    }
   ],
   "source": [
    "import numpy as np\n",
    "\n",
    "# Create a random array of positive numbers\n",
    "random_array = np.random.rand(5) * 100  # Generating random numbers between 0 and 100\n",
    "\n",
    "# Method 1: Using numpy.floor()\n",
    "integer_part_floor = np.floor(random_array).astype(int)\n",
    "\n",
    "# Method 2: Using numpy.trunc()\n",
    "integer_part_trunc = np.trunc(random_array).astype(int)\n",
    "\n",
    "# Method 3: Using integer casting\n",
    "integer_part_casting = random_array.astype(int)\n",
    "\n",
    "# Method 4: Using numpy.floor_divide()\n",
    "integer_part_floor_divide = np.floor_divide(random_array, 1).astype(int)\n",
    "\n",
    "print(\"Original Random Array:\")\n",
    "print(random_array)\n",
    "print(\"\\nMethod 1 (numpy.floor()):\", integer_part_floor)\n",
    "print(\"Method 2 (numpy.trunc()):\", integer_part_trunc)\n",
    "print(\"Method 3 (integer casting):\", integer_part_casting)\n",
    "print(\"Method 4 (numpy.floor_divide()):\", integer_part_floor_divide)\n"
   ]
  },
  {
   "cell_type": "markdown",
   "id": "762b950e",
   "metadata": {},
   "source": [
    "### 37. Create a 5x5 matrix with row values ranging from 0 to 4 (★★☆)\n"
   ]
  },
  {
   "cell_type": "code",
   "execution_count": 92,
   "id": "458eb858",
   "metadata": {},
   "outputs": [
    {
     "name": "stdout",
     "output_type": "stream",
     "text": [
      "[[0 1 2 3 4]\n",
      " [0 1 2 3 4]\n",
      " [0 1 2 3 4]\n",
      " [0 1 2 3 4]\n",
      " [0 1 2 3 4]]\n"
     ]
    }
   ],
   "source": [
    "import numpy as np\n",
    "\n",
    "# Create a 5x5 matrix with row values ranging from 0 to 4\n",
    "matrix = np.tile(np.arange(5), (5, 1))\n",
    "\n",
    "print(matrix)\n"
   ]
  },
  {
   "cell_type": "markdown",
   "id": "4d47d5cd",
   "metadata": {},
   "source": [
    "### 38. Consider a generator function that generates 10 integers and use it to build an array (★☆☆)\n"
   ]
  },
  {
   "cell_type": "code",
   "execution_count": 93,
   "id": "a7585f2f",
   "metadata": {},
   "outputs": [
    {
     "name": "stdout",
     "output_type": "stream",
     "text": [
      "[0 1 2 3 4 5 6 7 8 9]\n"
     ]
    }
   ],
   "source": [
    "import numpy as np\n",
    "\n",
    "# Define a generator function that yields 10 integers\n",
    "def integer_generator():\n",
    "    for i in range(10):\n",
    "        yield i\n",
    "\n",
    "# Use the generator to build a NumPy array\n",
    "integer_array = np.fromiter(integer_generator(), dtype=int)\n",
    "\n",
    "print(integer_array)\n"
   ]
  },
  {
   "cell_type": "markdown",
   "id": "c78b766f",
   "metadata": {},
   "source": [
    "### 39. Create a vector of size 10 with values ranging from 0 to 1, both excluded (★★☆)\n"
   ]
  },
  {
   "cell_type": "code",
   "execution_count": 94,
   "id": "e009ea22",
   "metadata": {},
   "outputs": [
    {
     "name": "stdout",
     "output_type": "stream",
     "text": [
      "[0.09090909 0.18181818 0.27272727 0.36363636 0.45454545 0.54545455\n",
      " 0.63636364 0.72727273 0.81818182 0.90909091]\n"
     ]
    }
   ],
   "source": [
    "import numpy as np\n",
    "\n",
    "# Create a vector of size 10 with values ranging from 0 to 1 (both excluded)\n",
    "vector = np.linspace(0, 1, 12)[1:-1]\n",
    "\n",
    "print(vector)\n"
   ]
  },
  {
   "cell_type": "markdown",
   "id": "cf318370",
   "metadata": {},
   "source": [
    "### 40. Create a random vector of size 10 and sort it (★★☆)"
   ]
  },
  {
   "cell_type": "code",
   "execution_count": 95,
   "id": "bfa9be9b",
   "metadata": {},
   "outputs": [
    {
     "name": "stdout",
     "output_type": "stream",
     "text": [
      "[0.02395422 0.21746973 0.41827471 0.54729663 0.61581037 0.82116986\n",
      " 0.8337472  0.85126003 0.91293882 0.96530661]\n"
     ]
    }
   ],
   "source": [
    "RV = np.random.random(10)\n",
    "RV.sort()\n",
    "print(RV)"
   ]
  },
  {
   "cell_type": "markdown",
   "id": "4e9de94f",
   "metadata": {},
   "source": [
    "### 41. How to sum a small array faster than np.sum? (★★☆)\n"
   ]
  },
  {
   "cell_type": "code",
   "execution_count": 96,
   "id": "32692236",
   "metadata": {},
   "outputs": [
    {
     "data": {
      "text/plain": [
       "36"
      ]
     },
     "execution_count": 96,
     "metadata": {},
     "output_type": "execute_result"
    }
   ],
   "source": [
    "SA = np.arange(9)\n",
    "np.add.reduce(SA)"
   ]
  },
  {
   "cell_type": "markdown",
   "id": "ed70f656",
   "metadata": {},
   "source": [
    "### 42. Consider two random array A and B, check if they are equal (★★☆)\n"
   ]
  },
  {
   "cell_type": "code",
   "execution_count": 97,
   "id": "a5dc9ff7",
   "metadata": {},
   "outputs": [
    {
     "name": "stdout",
     "output_type": "stream",
     "text": [
      "Arrays A and B are not equal.\n"
     ]
    }
   ],
   "source": [
    "import numpy as np\n",
    "\n",
    "# Create two random arrays A and B\n",
    "A = np.random.rand(5)\n",
    "B = np.random.rand(5)\n",
    "\n",
    "# Check if A and B are equal using numpy.array_equal()\n",
    "are_equal = np.array_equal(A, B)\n",
    "\n",
    "if are_equal:\n",
    "    print(\"Arrays A and B are equal.\")\n",
    "else:\n",
    "    print(\"Arrays A and B are not equal.\")\n"
   ]
  },
  {
   "cell_type": "markdown",
   "id": "1cfa3a4f",
   "metadata": {},
   "source": [
    "### 43. Make an array immutable (read-only) (★★☆)\n"
   ]
  },
  {
   "cell_type": "code",
   "execution_count": 98,
   "id": "e381d146",
   "metadata": {},
   "outputs": [
    {
     "ename": "ValueError",
     "evalue": "assignment destination is read-only",
     "output_type": "error",
     "traceback": [
      "\u001b[1;31m---------------------------------------------------------------------------\u001b[0m",
      "\u001b[1;31mValueError\u001b[0m                                Traceback (most recent call last)",
      "Cell \u001b[1;32mIn[98], line 3\u001b[0m\n\u001b[0;32m      1\u001b[0m Z \u001b[38;5;241m=\u001b[39m np\u001b[38;5;241m.\u001b[39mzeros(\u001b[38;5;241m10\u001b[39m)\n\u001b[0;32m      2\u001b[0m Z\u001b[38;5;241m.\u001b[39mflags\u001b[38;5;241m.\u001b[39mwriteable \u001b[38;5;241m=\u001b[39m \u001b[38;5;28;01mFalse\u001b[39;00m\n\u001b[1;32m----> 3\u001b[0m Z[\u001b[38;5;241m0\u001b[39m] \u001b[38;5;241m=\u001b[39m \u001b[38;5;241m1\u001b[39m\n",
      "\u001b[1;31mValueError\u001b[0m: assignment destination is read-only"
     ]
    }
   ],
   "source": [
    "Z = np.zeros(10)\n",
    "Z.flags.writeable = False\n",
    "Z[0] = 1"
   ]
  },
  {
   "cell_type": "markdown",
   "id": "3f69f790",
   "metadata": {},
   "source": [
    "### 44. Consider a random 10x2 matrix representing cartesian coordinates, convert them to polar coordinates (★★☆)\n"
   ]
  },
  {
   "cell_type": "code",
   "execution_count": 99,
   "id": "a49a855b",
   "metadata": {},
   "outputs": [
    {
     "name": "stdout",
     "output_type": "stream",
     "text": [
      "Cartesian Coordinates:\n",
      "[[0.21128625 0.64332111]\n",
      " [0.98313861 0.07521641]\n",
      " [0.96582191 0.1891097 ]\n",
      " [0.46287377 0.66919394]\n",
      " [0.94708332 0.35635992]\n",
      " [0.874112   0.23118059]\n",
      " [0.08392442 0.88251987]\n",
      " [0.55084465 0.09484154]\n",
      " [0.89601894 0.43707288]\n",
      " [0.70579894 0.99613523]]\n",
      "\n",
      "Polar Coordinates (r, theta):\n",
      "[[0.67712919 1.25346483]\n",
      " [0.98601168 0.07635766]\n",
      " [0.9841618  0.19335562]\n",
      " [0.81367848 0.96567034]\n",
      " [1.01190869 0.35988444]\n",
      " [0.90416606 0.25855492]\n",
      " [0.88650134 1.4759851 ]\n",
      " [0.55894968 0.17050306]\n",
      " [0.99693663 0.45383541]\n",
      " [1.22083477 0.9543636 ]]\n"
     ]
    }
   ],
   "source": [
    "import numpy as np\n",
    "\n",
    "# Create a random 10x2 matrix of cartesian coordinates\n",
    "cartesian_coordinates = np.random.rand(10, 2)\n",
    "\n",
    "# Split the cartesian coordinates into x and y columns\n",
    "x, y = cartesian_coordinates[:, 0], cartesian_coordinates[:, 1]\n",
    "\n",
    "# Calculate the radial distance (r) using the Pythagorean theorem\n",
    "r = np.sqrt(x**2 + y**2)\n",
    "\n",
    "# Calculate the polar angle (theta) using arctan2\n",
    "theta = np.arctan2(y, x)\n",
    "\n",
    "# Convert radians to degrees if needed\n",
    "# theta_degrees = np.degrees(theta)\n",
    "\n",
    "# Create a 10x2 matrix of polar coordinates\n",
    "polar_coordinates = np.column_stack((r, theta))\n",
    "\n",
    "print(\"Cartesian Coordinates:\")\n",
    "print(cartesian_coordinates)\n",
    "print(\"\\nPolar Coordinates (r, theta):\")\n",
    "print(polar_coordinates)\n"
   ]
  },
  {
   "cell_type": "markdown",
   "id": "5a049fe8",
   "metadata": {},
   "source": [
    "### 45. Create random vector of size 10 and replace the maximum value by 0 (★★☆)"
   ]
  },
  {
   "cell_type": "code",
   "execution_count": 100,
   "id": "dddcd002",
   "metadata": {},
   "outputs": [
    {
     "name": "stdout",
     "output_type": "stream",
     "text": [
      "[0.19385318 0.82451652 0.07088663 0.08686148 0.5251191  0.00183669\n",
      " 0.30468832 0.         0.54708488 0.47727643]\n"
     ]
    }
   ],
   "source": [
    "RV = np.random.random(10)\n",
    "RV[RV.argmax()] = 0\n",
    "print(RV)"
   ]
  },
  {
   "cell_type": "markdown",
   "id": "8bbbab6e",
   "metadata": {},
   "source": [
    "### 46. Create a structured array with x and y coordinates covering the [0,1]x[0,1] area (★★☆)"
   ]
  },
  {
   "cell_type": "code",
   "execution_count": 101,
   "id": "49edfeb5",
   "metadata": {},
   "outputs": [
    {
     "name": "stdout",
     "output_type": "stream",
     "text": [
      "[[(0.  , 0.  ) (0.25, 0.  ) (0.5 , 0.  ) (0.75, 0.  ) (1.  , 0.  )]\n",
      " [(0.  , 0.25) (0.25, 0.25) (0.5 , 0.25) (0.75, 0.25) (1.  , 0.25)]\n",
      " [(0.  , 0.5 ) (0.25, 0.5 ) (0.5 , 0.5 ) (0.75, 0.5 ) (1.  , 0.5 )]\n",
      " [(0.  , 0.75) (0.25, 0.75) (0.5 , 0.75) (0.75, 0.75) (1.  , 0.75)]\n",
      " [(0.  , 1.  ) (0.25, 1.  ) (0.5 , 1.  ) (0.75, 1.  ) (1.  , 1.  )]]\n"
     ]
    }
   ],
   "source": [
    "import numpy as np\n",
    "\n",
    "# Define the size of the grid\n",
    "grid_size = 5  # You can adjust the size as needed\n",
    "\n",
    "# Create a grid of x and y coordinates covering the [0, 1] x [0, 1] area\n",
    "x = np.linspace(0, 1, grid_size)\n",
    "y = np.linspace(0, 1, grid_size)\n",
    "\n",
    "x, y = np.meshgrid(x, y)\n",
    "\n",
    "# Create a structured array\n",
    "structured_array = np.empty((grid_size, grid_size), dtype=[('x', float), ('y', float)])\n",
    "structured_array['x'] = x\n",
    "structured_array['y'] = y\n",
    "\n",
    "print(structured_array)\n"
   ]
  },
  {
   "cell_type": "markdown",
   "id": "a6c52ee9",
   "metadata": {},
   "source": [
    "### 47. Given two arrays, X and Y, construct the Cauchy matrix C (Cij =1/(xi - yj))\n"
   ]
  },
  {
   "cell_type": "code",
   "execution_count": 102,
   "id": "fbf73e61",
   "metadata": {},
   "outputs": [
    {
     "name": "stdout",
     "output_type": "stream",
     "text": [
      "Cauchy Matrix C:\n",
      "[[ 2.         -2.         -0.66666667]\n",
      " [ 0.66666667  2.         -2.        ]\n",
      " [ 0.4         0.66666667  2.        ]\n",
      " [ 0.28571429  0.4         0.66666667]]\n"
     ]
    }
   ],
   "source": [
    "import numpy as np\n",
    "\n",
    "# Define the arrays X and Y\n",
    "X = np.array([1, 2, 3, 4])\n",
    "Y = np.array([0.5, 1.5, 2.5])\n",
    "\n",
    "# Initialize the Cauchy matrix with zeros\n",
    "C = np.zeros((len(X), len(Y)))\n",
    "\n",
    "# Calculate the values for the Cauchy matrix\n",
    "for i in range(len(X)):\n",
    "    for j in range(len(Y)):\n",
    "        C[i, j] = 1 / (X[i] - Y[j])\n",
    "\n",
    "print(\"Cauchy Matrix C:\")\n",
    "print(C)\n",
    "\n"
   ]
  },
  {
   "cell_type": "markdown",
   "id": "89be4f8a",
   "metadata": {},
   "source": [
    "### 48. Print the minimum and maximum representable value for each numpy scalar type (★★☆)"
   ]
  },
  {
   "cell_type": "code",
   "execution_count": 103,
   "id": "07c09234",
   "metadata": {},
   "outputs": [
    {
     "name": "stdout",
     "output_type": "stream",
     "text": [
      "Minimum and Maximum representable values for Integer Scalar Types:\n",
      "int8:\n",
      "  Minimum: -128\n",
      "  Maximum: 127\n",
      "uint8:\n",
      "  Minimum: 0\n",
      "  Maximum: 255\n",
      "int16:\n",
      "  Minimum: -32768\n",
      "  Maximum: 32767\n",
      "uint16:\n",
      "  Minimum: 0\n",
      "  Maximum: 65535\n",
      "int32:\n",
      "  Minimum: -2147483648\n",
      "  Maximum: 2147483647\n",
      "uint32:\n",
      "  Minimum: 0\n",
      "  Maximum: 4294967295\n",
      "int64:\n",
      "  Minimum: -9223372036854775808\n",
      "  Maximum: 9223372036854775807\n",
      "uint64:\n",
      "  Minimum: 0\n",
      "  Maximum: 18446744073709551615\n",
      "\n",
      "Minimum and Maximum representable values for Floating-point Scalar Types:\n",
      "float16:\n",
      "  Minimum: -65504.0\n",
      "  Maximum: 65504.0\n",
      "float32:\n",
      "  Minimum: -3.4028234663852886e+38\n",
      "  Maximum: 3.4028234663852886e+38\n",
      "float64:\n",
      "  Minimum: -1.7976931348623157e+308\n",
      "  Maximum: 1.7976931348623157e+308\n"
     ]
    }
   ],
   "source": [
    "import numpy as np\n",
    "\n",
    "# Integer scalar types\n",
    "integer_scalar_types = [np.int8, np.uint8, np.int16, np.uint16, np.int32, np.uint32, np.int64, np.uint64]\n",
    "\n",
    "print(\"Minimum and Maximum representable values for Integer Scalar Types:\")\n",
    "for dtype in integer_scalar_types:\n",
    "    info = np.iinfo(dtype)\n",
    "    print(f\"{dtype.__name__}:\")\n",
    "    print(f\"  Minimum: {info.min}\")\n",
    "    print(f\"  Maximum: {info.max}\")\n",
    "\n",
    "# Floating-point scalar types\n",
    "float_scalar_types = [np.float16, np.float32, np.float64]\n",
    "\n",
    "print(\"\\nMinimum and Maximum representable values for Floating-point Scalar Types:\")\n",
    "for dtype in float_scalar_types:\n",
    "    info = np.finfo(dtype)\n",
    "    print(f\"{dtype.__name__}:\")\n",
    "    print(f\"  Minimum: {info.min}\")\n",
    "    print(f\"  Maximum: {info.max}\")\n"
   ]
  },
  {
   "cell_type": "markdown",
   "id": "812b9ce4",
   "metadata": {},
   "source": [
    "### 49. How to print all the values of an array? (★★☆)\n"
   ]
  },
  {
   "cell_type": "code",
   "execution_count": 104,
   "id": "ff91534b",
   "metadata": {},
   "outputs": [
    {
     "name": "stdout",
     "output_type": "stream",
     "text": [
      "1\n",
      "2\n",
      "3\n",
      "4\n",
      "5\n",
      "6\n",
      "7\n",
      "8\n",
      "9\n"
     ]
    }
   ],
   "source": [
    "import numpy as np\n",
    "\n",
    "# Create a NumPy array\n",
    "array = np.array([1, 2, 3, 4, 5, 6, 7, 8, 9])\n",
    "\n",
    "# Print all the values in the array\n",
    "for value in array:\n",
    "    print(value)\n"
   ]
  },
  {
   "cell_type": "markdown",
   "id": "15b70170",
   "metadata": {},
   "source": [
    "### 50. How to find the closest value (to a given scalar) in a vector? (★★☆)"
   ]
  },
  {
   "cell_type": "code",
   "execution_count": 105,
   "id": "5ac85599",
   "metadata": {},
   "outputs": [
    {
     "name": "stdout",
     "output_type": "stream",
     "text": [
      "Vector: [ 3  7  1 10  5  8]\n",
      "Scalar: 6\n",
      "Closest Value: 7\n"
     ]
    }
   ],
   "source": [
    "import numpy as np\n",
    "\n",
    "# Create a NumPy array\n",
    "vector = np.array([3, 7, 1, 10, 5, 8])\n",
    "\n",
    "# Scalar value to find the closest value to\n",
    "scalar = 6\n",
    "\n",
    "# Find the index of the closest value in the vector\n",
    "closest_index = np.argmin(np.abs(vector - scalar))\n",
    "\n",
    "# Get the closest value itself\n",
    "closest_value = vector[closest_index]\n",
    "\n",
    "print(\"Vector:\", vector)\n",
    "print(\"Scalar:\", scalar)\n",
    "print(\"Closest Value:\", closest_value)\n"
   ]
  },
  {
   "cell_type": "markdown",
   "id": "ab81148b",
   "metadata": {},
   "source": [
    "### 51. Create a structured array representing a position (x,y) and a color (r,g,b) (★★☆)"
   ]
  },
  {
   "cell_type": "code",
   "execution_count": 106,
   "id": "8bc7ad62",
   "metadata": {},
   "outputs": [
    {
     "name": "stdout",
     "output_type": "stream",
     "text": [
      "[((0., 0.), (0., 0., 0.)) ((0., 0.), (0., 0., 0.))\n",
      " ((0., 0.), (0., 0., 0.)) ((0., 0.), (0., 0., 0.))\n",
      " ((0., 0.), (0., 0., 0.)) ((0., 0.), (0., 0., 0.))\n",
      " ((0., 0.), (0., 0., 0.)) ((0., 0.), (0., 0., 0.))\n",
      " ((0., 0.), (0., 0., 0.)) ((0., 0.), (0., 0., 0.))]\n"
     ]
    },
    {
     "name": "stderr",
     "output_type": "stream",
     "text": [
      "C:\\Users\\lenovo\\AppData\\Local\\Temp\\ipykernel_700\\941262719.py:1: FutureWarning: Passing (type, 1) or '1type' as a synonym of type is deprecated; in a future version of numpy, it will be understood as (type, (1,)) / '(1,)type'.\n",
      "  SA = np.zeros(10, [ ('position', [ ('x', float, 1),\n"
     ]
    }
   ],
   "source": [
    "SA = np.zeros(10, [ ('position', [ ('x', float, 1),\n",
    "                                  ('y', float, 1)]),\n",
    "                   ('color',    [ ('r', float, 1),\n",
    "                                  ('g', float, 1),\n",
    "                                  ('b', float, 1)])])\n",
    "print(SA)"
   ]
  },
  {
   "cell_type": "markdown",
   "id": "8fbc92e6",
   "metadata": {},
   "source": [
    "### 52. Consider a random vector with shape (100,2) representing coordinates, find point by point distances (★★☆)\n"
   ]
  },
  {
   "cell_type": "code",
   "execution_count": 107,
   "id": "fb18eb1c",
   "metadata": {},
   "outputs": [
    {
     "name": "stdout",
     "output_type": "stream",
     "text": [
      "Point-by-Point Distances:\n",
      "[[0.         0.65437902 0.38558064 ... 0.62749316 0.65153507 0.36975385]\n",
      " [0.65437902 0.         0.44047765 ... 1.07323884 0.12705904 0.97146088]\n",
      " [0.38558064 0.44047765 0.         ... 0.98922945 0.51240364 0.75519949]\n",
      " ...\n",
      " [0.62749316 1.07323884 0.98922945 ... 0.         0.99774567 0.34657253]\n",
      " [0.65153507 0.12705904 0.51240364 ... 0.99774567 0.         0.93444455]\n",
      " [0.36975385 0.97146088 0.75519949 ... 0.34657253 0.93444455 0.        ]]\n"
     ]
    }
   ],
   "source": [
    "import numpy as np\n",
    "\n",
    "# Create a random vector with shape (100, 2) representing coordinates\n",
    "coordinates = np.random.rand(100, 2)\n",
    "\n",
    "# Calculate point-by-point distances\n",
    "distances = np.linalg.norm(coordinates[:, np.newaxis] - coordinates, axis=2)\n",
    "\n",
    "print(\"Point-by-Point Distances:\")\n",
    "print(distances)\n"
   ]
  },
  {
   "cell_type": "markdown",
   "id": "24515b7e",
   "metadata": {},
   "source": [
    "### 53. How to convert a float (32 bits) array into an integer (32 bits) in place?\n"
   ]
  },
  {
   "cell_type": "code",
   "execution_count": 108,
   "id": "0cee933e",
   "metadata": {},
   "outputs": [
    {
     "name": "stdout",
     "output_type": "stream",
     "text": [
      "Original Float Array (float32): [5.89e-44 4.56e+00 7.89e+00]\n",
      "Modified Integer Array (int32): [        42 1083304837 1090288353]\n"
     ]
    }
   ],
   "source": [
    "import numpy as np\n",
    "\n",
    "# Create a float32 array\n",
    "float_array = np.array([1.23, 4.56, 7.89], dtype=np.float32)\n",
    "\n",
    "# Convert the float32 array to int32 in place\n",
    "int_array = float_array.view(np.int32)\n",
    "\n",
    "# Modify the integer array (if needed)\n",
    "int_array[0] = 42  # Example: Modify the first element of the integer array\n",
    "\n",
    "# Check the original float array and the modified integer array\n",
    "print(\"Original Float Array (float32):\", float_array)\n",
    "print(\"Modified Integer Array (int32):\", int_array)\n",
    "\n"
   ]
  },
  {
   "cell_type": "markdown",
   "id": "eef05dad",
   "metadata": {},
   "source": [
    "### 54. How to read the following file? (★★☆)"
   ]
  },
  {
   "cell_type": "code",
   "execution_count": 109,
   "id": "f2a90a07",
   "metadata": {},
   "outputs": [
    {
     "name": "stdout",
     "output_type": "stream",
     "text": [
      "[[ 1  2  3  4  5]\n",
      " [ 6 -1 -1  7  8]\n",
      " [-1 -1  9 10 11]]\n"
     ]
    }
   ],
   "source": [
    "from io import StringIO\n",
    "\n",
    "s = StringIO(\"\"\"1, 2, 3, 4, 5\\n\n",
    "                6,  ,  , 7, 8\\n\n",
    "                 ,  , 9,10,11\\n\"\"\")\n",
    "Z = np.genfromtxt(s, delimiter=\",\", dtype=np.int32)\n",
    "print(Z)"
   ]
  },
  {
   "cell_type": "markdown",
   "id": "9292b7ce",
   "metadata": {},
   "source": [
    "### 55. What is the equivalent of enumerate for numpy arrays? (★★☆)\n"
   ]
  },
  {
   "cell_type": "code",
   "execution_count": 110,
   "id": "584c8f29",
   "metadata": {},
   "outputs": [
    {
     "name": "stdout",
     "output_type": "stream",
     "text": [
      "Index: (0, 0), Value: 1\n",
      "Index: (0, 1), Value: 2\n",
      "Index: (0, 2), Value: 3\n",
      "Index: (1, 0), Value: 4\n",
      "Index: (1, 1), Value: 5\n",
      "Index: (1, 2), Value: 6\n",
      "Index: (2, 0), Value: 7\n",
      "Index: (2, 1), Value: 8\n",
      "Index: (2, 2), Value: 9\n"
     ]
    }
   ],
   "source": [
    "import numpy as np\n",
    "\n",
    "# Create a NumPy array\n",
    "arr = np.array([[1, 2, 3], [4, 5, 6], [7, 8, 9]])\n",
    "\n",
    "# Enumerate over the elements of the NumPy array along with their indices\n",
    "for index, value in np.ndenumerate(arr):\n",
    "    print(f\"Index: {index}, Value: {value}\")\n"
   ]
  },
  {
   "cell_type": "markdown",
   "id": "a7c63cbb",
   "metadata": {},
   "source": [
    "### 56. Generate a generic 2D Gaussian-like array (★★☆)\n"
   ]
  },
  {
   "cell_type": "code",
   "execution_count": 113,
   "id": "f3a5bff1",
   "metadata": {},
   "outputs": [
    {
     "name": "stdout",
     "output_type": "stream",
     "text": [
      "[[0.01831564 0.082085   0.13533528 0.082085   0.01831564]\n",
      " [0.082085   0.36787944 0.60653066 0.36787944 0.082085  ]\n",
      " [0.13533528 0.60653066 1.         0.60653066 0.13533528]\n",
      " [0.082085   0.36787944 0.60653066 0.36787944 0.082085  ]\n",
      " [0.01831564 0.082085   0.13533528 0.082085   0.01831564]]\n"
     ]
    }
   ],
   "source": [
    "import numpy as np\n",
    "\n",
    "size = 5\n",
    "x, y = np.meshgrid(np.linspace(0, size - 1, size), np.linspace(0, size - 1, size))\n",
    "mean = (size - 1) / 2\n",
    "sigma = 1.0\n",
    "gaussian_array = np.exp(-((x - mean)**2 + (y - mean)**2) / (2 * sigma**2))\n",
    "\n",
    "print(gaussian_array)\n",
    "\n"
   ]
  },
  {
   "cell_type": "markdown",
   "id": "e1cd16d7",
   "metadata": {},
   "source": [
    "### 57. How to randomly place p elements in a 2D array? (★★☆)\n"
   ]
  },
  {
   "cell_type": "code",
   "execution_count": 114,
   "id": "6b933978",
   "metadata": {},
   "outputs": [
    {
     "name": "stdout",
     "output_type": "stream",
     "text": [
      "[[0.79624048 0.04510574 0.         0.79432629 0.        ]\n",
      " [0.42562549 0.         0.87784962 0.         0.        ]\n",
      " [0.45554157 0.21983505 0.61009701 0.         0.        ]\n",
      " [0.         0.         0.         0.         0.        ]\n",
      " [0.         0.         0.64682776 0.         0.40271781]]\n"
     ]
    }
   ],
   "source": [
    "import numpy as np\n",
    "\n",
    "# Create a 2D array (e.g., a 5x5 array)\n",
    "rows, cols = 5, 5\n",
    "array = np.zeros((rows, cols))\n",
    "\n",
    "# Number of elements to randomly place\n",
    "p = 10\n",
    "\n",
    "# Generate random row and column indices for placing elements\n",
    "random_indices = np.random.choice(rows * cols, p, replace=False)\n",
    "row_indices, col_indices = divmod(random_indices, cols)\n",
    "\n",
    "# Place random values in the 2D array at the selected indices\n",
    "for row, col in zip(row_indices, col_indices):\n",
    "    array[row, col] = np.random.rand()  # Assign a random value\n",
    "\n",
    "# Print the resulting 2D array\n",
    "print(array)\n"
   ]
  },
  {
   "cell_type": "markdown",
   "id": "7c2839a6",
   "metadata": {},
   "source": [
    "### 58. Subtract the mean of each row of a matrix (★★☆)\n"
   ]
  },
  {
   "cell_type": "code",
   "execution_count": 116,
   "id": "1d071f2d",
   "metadata": {},
   "outputs": [
    {
     "name": "stdout",
     "output_type": "stream",
     "text": [
      "[[-0.26189906  0.04715916  0.43759082  0.23137071 -0.35627315  0.31166225\n",
      "  -0.40182557 -0.38561169 -0.31727403 -0.41493394  0.22899472  0.38780567\n",
      "   0.00401632  0.2058405   0.28337728]\n",
      " [-0.49119347  0.31771795 -0.17489315  0.03075347  0.26849901 -0.19961669\n",
      "   0.26653174  0.31311155  0.36667545  0.04784383  0.03651075 -0.49662894\n",
      "   0.20962758 -0.23588526 -0.25905382]\n",
      " [ 0.4413026  -0.22416659  0.0786115   0.34079407 -0.24432822 -0.42124168\n",
      "   0.02109876 -0.04836629 -0.42617286 -0.24287448  0.43480541  0.01205419\n",
      "   0.32437815 -0.45548675  0.40959221]\n",
      " [ 0.52548881 -0.32012523  0.08481973 -0.38021217  0.15159958 -0.33805173\n",
      "   0.50237982  0.01480534  0.00690312 -0.43615739  0.29543377 -0.03560809\n",
      "  -0.24272014 -0.1951345   0.36657909]\n",
      " [ 0.1676155   0.27648403  0.00411645  0.13109876 -0.07275564 -0.08332884\n",
      "   0.2075184  -0.42141634  0.20666228 -0.11951063 -0.4880736  -0.43538764\n",
      "   0.06772508  0.35192439  0.2073278 ]]\n"
     ]
    }
   ],
   "source": [
    "J = np.random.rand(5, 15)\n",
    "\n",
    "# Recent versions of numpy\n",
    "K = J - J.mean(axis=1, keepdims=True)\n",
    "\n",
    "# Older versions of numpy\n",
    "L = J - J.mean(axis=1).reshape(-1, 1)\n",
    "\n",
    "print(K)"
   ]
  },
  {
   "cell_type": "markdown",
   "id": "a25a30e3",
   "metadata": {},
   "source": [
    "### 59. How to sort an array by the nth column? (★★☆)"
   ]
  },
  {
   "cell_type": "code",
   "execution_count": 117,
   "id": "a20c4a39",
   "metadata": {},
   "outputs": [
    {
     "name": "stdout",
     "output_type": "stream",
     "text": [
      "[[2 1 1]\n",
      " [6 9 8]\n",
      " [8 2 7]]\n",
      "[[2 1 1]\n",
      " [8 2 7]\n",
      " [6 9 8]]\n"
     ]
    }
   ],
   "source": [
    "nth = np.random.randint(0,10,(3,3))\n",
    "print(nth)\n",
    "print(nth[nth[:,1].argsort()])"
   ]
  },
  {
   "cell_type": "markdown",
   "id": "bdaba7b7",
   "metadata": {},
   "source": [
    "### 60. How to tell if a given 2D array has null columns? (★★☆)\n"
   ]
  },
  {
   "cell_type": "code",
   "execution_count": 118,
   "id": "d731e8ad",
   "metadata": {},
   "outputs": [
    {
     "name": "stdout",
     "output_type": "stream",
     "text": [
      "False\n"
     ]
    }
   ],
   "source": [
    "A = np.random.randint(0,3,(3,10))\n",
    "print((~A.any(axis=0)).any())"
   ]
  },
  {
   "cell_type": "markdown",
   "id": "dabf2706",
   "metadata": {},
   "source": [
    "### 61. Find the nearest value from a given value in an array (★★☆)\n"
   ]
  },
  {
   "cell_type": "code",
   "execution_count": 119,
   "id": "7ca68f14",
   "metadata": {},
   "outputs": [
    {
     "name": "stdout",
     "output_type": "stream",
     "text": [
      "0.5243554939323393\n"
     ]
    }
   ],
   "source": [
    "Z = np.random.uniform(0,1,10)\n",
    "z = 0.5\n",
    "m = Z.flat[np.abs(Z - z).argmin()]\n",
    "print(m)"
   ]
  },
  {
   "cell_type": "markdown",
   "id": "47717ce1",
   "metadata": {},
   "source": [
    "### 62. Considering two arrays with shape (1,3) and (3,1), how to compute their sum using an iterator? (★★☆)"
   ]
  },
  {
   "cell_type": "code",
   "execution_count": 120,
   "id": "6c67f41c",
   "metadata": {},
   "outputs": [
    {
     "name": "stdout",
     "output_type": "stream",
     "text": [
      "Result of element-wise sum: 21.0\n"
     ]
    }
   ],
   "source": [
    "import numpy as np\n",
    "\n",
    "# Create two arrays with shape (1, 3) and (3, 1)\n",
    "array1 = np.array([[1, 2, 3]])\n",
    "array2 = np.array([[4], [5], [6]])\n",
    "\n",
    "# Check if the arrays are compatible for element-wise addition\n",
    "if array1.shape == (1, 3) and array2.shape == (3, 1):\n",
    "    # Initialize the sum\n",
    "    result = np.zeros((1, 1))\n",
    "\n",
    "    # Create an iterator for array1\n",
    "    it1 = np.nditer(array1)\n",
    "\n",
    "    # Create an iterator for array2\n",
    "    it2 = np.nditer(array2)\n",
    "\n",
    "    # Iterate and add the elements\n",
    "    while not it1.finished and not it2.finished:\n",
    "        result += it1[0] + it2[0]\n",
    "        it1.iternext()\n",
    "        it2.iternext()\n",
    "\n",
    "    print(\"Result of element-wise sum:\", result[0, 0])\n",
    "else:\n",
    "    print(\"Array shapes are not compatible for element-wise addition.\")\n"
   ]
  },
  {
   "cell_type": "markdown",
   "id": "dc2c5705",
   "metadata": {},
   "source": [
    "### 63. Create an array class that has a name attribute (★★☆)\n"
   ]
  },
  {
   "cell_type": "code",
   "execution_count": 121,
   "id": "17902d75",
   "metadata": {},
   "outputs": [
    {
     "name": "stdout",
     "output_type": "stream",
     "text": [
      "Name: MyArray\n",
      "Array: [1 2 3]\n"
     ]
    }
   ],
   "source": [
    "import numpy as np\n",
    "\n",
    "class NamedArray(np.ndarray):\n",
    "    def __new__(cls, input_array, name=None):\n",
    "        obj = np.asarray(input_array).view(cls)\n",
    "        obj.name = name\n",
    "        return obj\n",
    "\n",
    "# Create a NamedArray with a name\n",
    "arr = NamedArray([1, 2, 3], name=\"MyArray\")\n",
    "\n",
    "# Access the name attribute\n",
    "print(\"Name:\", arr.name)\n",
    "\n",
    "# Access the array elements\n",
    "print(\"Array:\", arr)\n"
   ]
  },
  {
   "cell_type": "markdown",
   "id": "a5f3f78c",
   "metadata": {},
   "source": [
    "### 64. Consider a given vector, how to add 1 to each element indexed by a second vector (be careful with repeated indices)? (★★★)\n"
   ]
  },
  {
   "cell_type": "code",
   "execution_count": 122,
   "id": "44a5bcfd",
   "metadata": {},
   "outputs": [
    {
     "name": "stdout",
     "output_type": "stream",
     "text": [
      "Original Vector: [1 2 3 4 5]\n",
      "Indices to Increment: [1 3 3 4 4]\n",
      "Result Vector: [1 3 3 5 6]\n"
     ]
    }
   ],
   "source": [
    "import numpy as np\n",
    "\n",
    "# Given vector\n",
    "original_vector = np.array([1, 2, 3, 4, 5])\n",
    "\n",
    "# Second vector representing indices to increment\n",
    "indices_to_increment = np.array([1, 3, 3, 4, 4])\n",
    "\n",
    "# Create a new vector with 1 added to the specified indices\n",
    "result_vector = original_vector.copy()  # Copy the original vector to avoid modifying it in-place\n",
    "unique_indices = np.unique(indices_to_increment)\n",
    "\n",
    "# Iterate through the unique indices and increment the corresponding elements\n",
    "for index in unique_indices:\n",
    "    result_vector[index] += 1\n",
    "\n",
    "print(\"Original Vector:\", original_vector)\n",
    "print(\"Indices to Increment:\", indices_to_increment)\n",
    "print(\"Result Vector:\", result_vector)\n"
   ]
  },
  {
   "cell_type": "markdown",
   "id": "b25343e9",
   "metadata": {},
   "source": [
    "### 65. How to accumulate elements of a vector (X) to an array (F) based on an index list (I)? (★★★)\n"
   ]
  },
  {
   "cell_type": "code",
   "execution_count": 123,
   "id": "7021a309",
   "metadata": {},
   "outputs": [
    {
     "name": "stdout",
     "output_type": "stream",
     "text": [
      "Vector X: [1 2 3 4 5]\n",
      "Index List I: [1 3 0 2 4]\n",
      "Accumulated Array F: [3 1 4 2 5]\n"
     ]
    }
   ],
   "source": [
    "import numpy as np\n",
    "\n",
    "# Example vector X\n",
    "X = np.array([1, 2, 3, 4, 5])\n",
    "\n",
    "# Example index list I\n",
    "I = np.array([1, 3, 0, 2, 4])\n",
    "\n",
    "# Determine the size of the resulting array F\n",
    "F_size = np.max(I) + 1\n",
    "\n",
    "# Create an array F with zeros\n",
    "F = np.zeros(F_size, dtype=X.dtype)\n",
    "\n",
    "# Accumulate elements of X into F based on the index list I\n",
    "for i in range(len(I)):\n",
    "    F[I[i]] += X[i]\n",
    "\n",
    "print(\"Vector X:\", X)\n",
    "print(\"Index List I:\", I)\n",
    "print(\"Accumulated Array F:\", F)\n"
   ]
  },
  {
   "cell_type": "markdown",
   "id": "37bac9ee",
   "metadata": {},
   "source": [
    "### 66. Considering a (w,h,3) image of (dtype=ubyte), compute the number of unique colors (★★★)"
   ]
  },
  {
   "cell_type": "code",
   "execution_count": 124,
   "id": "8a0a2ac3",
   "metadata": {},
   "outputs": [
    {
     "name": "stdout",
     "output_type": "stream",
     "text": [
      "Number of Unique Colors: 100\n"
     ]
    }
   ],
   "source": [
    "import numpy as np\n",
    "\n",
    "# Create a sample image as a NumPy array with shape (w, h, 3) and dtype 'ubyte'\n",
    "image = np.random.randint(0, 256, size=(10, 10, 3), dtype=np.uint8)\n",
    "\n",
    "# Reshape the image to a (w*h, 3) 2D array\n",
    "reshaped_image = image.reshape(-1, 3)\n",
    "\n",
    "# Use numpy.unique to find unique colors\n",
    "unique_colors = np.unique(reshaped_image, axis=0)\n",
    "\n",
    "# Get the number of unique colors\n",
    "num_unique_colors = unique_colors.shape[0]\n",
    "\n",
    "print(\"Number of Unique Colors:\", num_unique_colors)\n"
   ]
  },
  {
   "cell_type": "markdown",
   "id": "9dcdae67",
   "metadata": {},
   "source": [
    "### 67. Considering a four dimensions array, how to get sum over the last two axis at once? (★★★)"
   ]
  },
  {
   "cell_type": "code",
   "execution_count": 125,
   "id": "08491b78",
   "metadata": {},
   "outputs": [
    {
     "name": "stdout",
     "output_type": "stream",
     "text": [
      "Original 4D Array:\n",
      "[[[[0.01962913 0.74278021 0.80057673 0.74894469 0.61862317]\n",
      "   [0.31332342 0.03358951 0.21205118 0.22529961 0.11886119]\n",
      "   [0.21412773 0.06610724 0.90581621 0.39596996 0.54188922]\n",
      "   [0.83235782 0.98689358 0.70387692 0.09662654 0.04038284]]\n",
      "\n",
      "  [[0.263543   0.4933924  0.98591798 0.65229583 0.21162669]\n",
      "   [0.91515405 0.31605275 0.77897335 0.54660997 0.88858624]\n",
      "   [0.61809356 0.02178985 0.81922938 0.44829976 0.63873716]\n",
      "   [0.85479249 0.29906734 0.78961605 0.53107193 0.30113011]]\n",
      "\n",
      "  [[0.55560168 0.27280167 0.04749923 0.94575669 0.82381057]\n",
      "   [0.44374743 0.50056439 0.41724372 0.73136736 0.53574093]\n",
      "   [0.59767136 0.95362395 0.45766195 0.44022533 0.97764072]\n",
      "   [0.78938095 0.83477172 0.69283991 0.15239029 0.66085833]]]\n",
      "\n",
      "\n",
      " [[[0.14279248 0.54104333 0.4686523  0.42741318 0.63188234]\n",
      "   [0.15772162 0.54025742 0.51623636 0.23041463 0.07704408]\n",
      "   [0.72462967 0.88380225 0.11830229 0.18826269 0.15396047]\n",
      "   [0.6858657  0.8124354  0.72350876 0.52480784 0.69130742]]\n",
      "\n",
      "  [[0.91781023 0.40029792 0.32812349 0.30409648 0.92196486]\n",
      "   [0.42726267 0.09463813 0.65537573 0.47340862 0.17551602]\n",
      "   [0.5152685  0.17297674 0.27647297 0.8147942  0.35822679]\n",
      "   [0.45759107 0.94455829 0.86614299 0.62273246 0.71409645]]\n",
      "\n",
      "  [[0.66409769 0.32031651 0.41812757 0.82727167 0.54109403]\n",
      "   [0.76032799 0.84107067 0.34543653 0.89799012 0.27103843]\n",
      "   [0.86932486 0.57191709 0.9576622  0.6242323  0.41077387]\n",
      "   [0.02008911 0.96996304 0.67443599 0.2489331  0.10153674]]]]\n",
      "Sum Over Last Two Axes:\n",
      "[[ 8.61772689 11.37397986 11.83119817]\n",
      " [ 9.24034022 10.44135462 11.33563952]]\n"
     ]
    }
   ],
   "source": [
    "import numpy as np\n",
    "\n",
    "# Create a sample 4D array\n",
    "# Replace this with your own 4D array\n",
    "four_dimensional_array = np.random.rand(2, 3, 4, 5)\n",
    "\n",
    "# Get the sum over the last two axes (axis 2 and axis 3)\n",
    "sum_over_last_two_axes = np.sum(four_dimensional_array, axis=(-2, -1))\n",
    "\n",
    "print(\"Original 4D Array:\")\n",
    "print(four_dimensional_array)\n",
    "print(\"Sum Over Last Two Axes:\")\n",
    "print(sum_over_last_two_axes)\n"
   ]
  },
  {
   "cell_type": "markdown",
   "id": "20f3ce09",
   "metadata": {},
   "source": [
    "### 68. Considering a one-dimensional vector D, how to compute means of subsets of D using a vector S of same size describing subset indices? (★★★)\n"
   ]
  },
  {
   "cell_type": "code",
   "execution_count": 126,
   "id": "ade91794",
   "metadata": {},
   "outputs": [
    {
     "name": "stdout",
     "output_type": "stream",
     "text": [
      "Subset 0 Mean: 4.5\n",
      "Subset 1 Mean: 5.4\n"
     ]
    }
   ],
   "source": [
    "import numpy as np\n",
    "\n",
    "# Create a one-dimensional vector D and a corresponding vector S of subset indices\n",
    "D = np.array([1, 2, 3, 4, 5, 6, 7, 8, 9])\n",
    "S = np.array([0, 1, 0, 1, 1, 0, 1, 0, 1])  # Subset indices (0 or 1)\n",
    "\n",
    "# Get unique subset indices\n",
    "unique_indices = np.unique(S)\n",
    "\n",
    "# Compute the means of subsets\n",
    "subset_means = [np.mean(D[S == idx]) for idx in unique_indices]\n",
    "\n",
    "# Print the means of subsets\n",
    "for idx, mean in zip(unique_indices, subset_means):\n",
    "    print(f\"Subset {idx} Mean: {mean}\")\n"
   ]
  },
  {
   "cell_type": "markdown",
   "id": "82ca5ed2",
   "metadata": {},
   "source": [
    "### 69. How to get the diagonal of a dot product? (★★★)\n"
   ]
  },
  {
   "cell_type": "code",
   "execution_count": 127,
   "id": "8bb112c7",
   "metadata": {},
   "outputs": [
    {
     "name": "stdout",
     "output_type": "stream",
     "text": [
      "Matrix A:\n",
      "[[1 2 3]\n",
      " [4 5 6]\n",
      " [7 8 9]]\n",
      "Matrix B:\n",
      "[[9 8 7]\n",
      " [6 5 4]\n",
      " [3 2 1]]\n",
      "Dot Product of A and B:\n",
      "[[ 30  24  18]\n",
      " [ 84  69  54]\n",
      " [138 114  90]]\n",
      "Diagonal of the Dot Product:\n",
      "[30 69 90]\n"
     ]
    }
   ],
   "source": [
    "import numpy as np\n",
    "\n",
    "# Create two matrices A and B\n",
    "A = np.array([[1, 2, 3],\n",
    "              [4, 5, 6],\n",
    "              [7, 8, 9]])\n",
    "\n",
    "B = np.array([[9, 8, 7],\n",
    "              [6, 5, 4],\n",
    "              [3, 2, 1]])\n",
    "\n",
    "# Compute the dot product of A and B\n",
    "dot_product_result = np.dot(A, B)\n",
    "\n",
    "# Get the diagonal of the dot product\n",
    "diagonal_of_dot_product = np.diag(dot_product_result)\n",
    "\n",
    "print(\"Matrix A:\")\n",
    "print(A)\n",
    "\n",
    "print(\"Matrix B:\")\n",
    "print(B)\n",
    "\n",
    "print(\"Dot Product of A and B:\")\n",
    "print(dot_product_result)\n",
    "\n",
    "print(\"Diagonal of the Dot Product:\")\n",
    "print(diagonal_of_dot_product)\n"
   ]
  },
  {
   "cell_type": "markdown",
   "id": "6bdfa1dd",
   "metadata": {},
   "source": [
    "### 70. Consider the vector [1, 2, 3, 4, 5], how to build a new vector with 3 consecutive zeros interleaved between each value? (★★★)"
   ]
  },
  {
   "cell_type": "code",
   "execution_count": 128,
   "id": "fe9127b3",
   "metadata": {},
   "outputs": [
    {
     "name": "stdout",
     "output_type": "stream",
     "text": [
      "Original Vector:\n",
      "[1 2 3 4 5]\n",
      "New Vector with Interleaved Zeros:\n",
      "[1 0 0 0 2 0 0 0 3 0 0 0 4 0 0 0 5]\n"
     ]
    }
   ],
   "source": [
    "import numpy as np\n",
    "\n",
    "# Original vector\n",
    "original_vector = np.array([1, 2, 3, 4, 5])\n",
    "\n",
    "# Number of consecutive zeros to insert\n",
    "zeros_to_insert = 3\n",
    "\n",
    "# Build a new vector with interleaved zeros\n",
    "new_vector = np.zeros(len(original_vector) + (len(original_vector) - 1) * zeros_to_insert, dtype=original_vector.dtype)\n",
    "\n",
    "# Assign values and zeros in an interleaved manner\n",
    "new_vector[::zeros_to_insert + 1] = original_vector\n",
    "\n",
    "print(\"Original Vector:\")\n",
    "print(original_vector)\n",
    "\n",
    "print(\"New Vector with Interleaved Zeros:\")\n",
    "print(new_vector)\n"
   ]
  },
  {
   "cell_type": "markdown",
   "id": "3e3681c5",
   "metadata": {},
   "source": [
    "### 71. Consider an array of dimension (5,5,3), how to mulitply it by an array with dimensions (5,5)? (★★★)"
   ]
  },
  {
   "cell_type": "code",
   "execution_count": 129,
   "id": "86a153ea",
   "metadata": {},
   "outputs": [
    {
     "name": "stdout",
     "output_type": "stream",
     "text": [
      "3D Array:\n",
      "[[[0.47489403 0.95953404 0.70382388]\n",
      "  [0.59080875 0.80550647 0.47326497]\n",
      "  [0.93661351 0.63630455 0.16220194]\n",
      "  [0.44996059 0.96788039 0.52381685]\n",
      "  [0.20715931 0.05256102 0.33049115]]\n",
      "\n",
      " [[0.86927651 0.15375602 0.65418747]\n",
      "  [0.21789561 0.50388005 0.21011517]\n",
      "  [0.79880937 0.08021047 0.84005963]\n",
      "  [0.57058443 0.9156477  0.31490525]\n",
      "  [0.43497123 0.44923631 0.19521093]]\n",
      "\n",
      " [[0.05268221 0.61024475 0.82755518]\n",
      "  [0.71279105 0.35612962 0.55257776]\n",
      "  [0.35938598 0.97626391 0.32180401]\n",
      "  [0.94719455 0.08932142 0.59765758]\n",
      "  [0.7851754  0.29961717 0.56027154]]\n",
      "\n",
      " [[0.98913149 0.39426567 0.14282404]\n",
      "  [0.64386058 0.02664095 0.28931419]\n",
      "  [0.58850437 0.16243314 0.88146197]\n",
      "  [0.79178428 0.96140322 0.68840448]\n",
      "  [0.84854842 0.01877346 0.57654597]]\n",
      "\n",
      " [[0.48637797 0.84618625 0.92330524]\n",
      "  [0.00512117 0.706961   0.06201515]\n",
      "  [0.13826741 0.40353527 0.84902973]\n",
      "  [0.56430664 0.74835174 0.67099264]\n",
      "  [0.91659612 0.6074523  0.613602  ]]]\n",
      "2D Array:\n",
      "[[0.97430427 0.74902082 0.49664499 0.0414701  0.29305969]\n",
      " [0.02173487 0.00456698 0.63832184 0.97760386 0.26473344]\n",
      " [0.79847582 0.39485074 0.26349919 0.14256426 0.65682047]\n",
      " [0.55567672 0.29821491 0.48314677 0.41018362 0.74212647]\n",
      " [0.04582227 0.11533909 0.75281481 0.54649474 0.68497989]]\n",
      "Result (3D Array * 2D Array):\n",
      "[[[4.62691284e-01 9.34878112e-01 6.85738611e-01]\n",
      "  [4.42528052e-01 6.03341113e-01 3.54485315e-01]\n",
      "  [4.65164407e-01 3.16017464e-01 8.05567794e-02]\n",
      "  [1.86599111e-02 4.01380979e-02 2.17227378e-02]\n",
      "  [6.07100426e-02 1.54035152e-02 9.68536323e-02]]\n",
      "\n",
      " [[1.88936129e-02 3.34186717e-03 1.42186803e-02]\n",
      "  [9.95125403e-04 2.30121132e-03 9.59592263e-04]\n",
      "  [5.09897467e-01 5.12000964e-02 5.36228413e-01]\n",
      "  [5.57805542e-01 8.95140730e-01 3.07852592e-01]\n",
      "  [1.15151430e-01 1.18927874e-01 5.16788603e-02]]\n",
      "\n",
      " [[4.20654671e-02 4.87265674e-01 6.60782798e-01]\n",
      "  [2.81446076e-01 1.40618043e-01 2.18185736e-01]\n",
      "  [9.46979147e-02 2.57244750e-01 8.47950970e-02]\n",
      "  [1.35036089e-01 1.27340424e-02 8.52046103e-02]\n",
      "  [5.15719280e-01 1.96794692e-01 3.67997820e-01]]\n",
      "\n",
      " [[5.49637339e-01 2.19084252e-01 7.93639944e-02]\n",
      "  [1.92008825e-01 7.94472827e-03 8.62778051e-02]\n",
      "  [2.84333987e-01 7.84790474e-02 4.25875509e-01]\n",
      "  [3.24776944e-01 3.94351854e-01 2.82372244e-01]\n",
      "  [6.29730239e-01 1.39322840e-02 4.27870027e-01]]\n",
      "\n",
      " [[2.22869446e-02 3.87741787e-02 4.23079463e-02]\n",
      "  [5.90670785e-04 8.15402377e-02 7.15277132e-03]\n",
      "  [1.04089757e-01 3.03787324e-01 6.39162158e-01]\n",
      "  [3.08390611e-01 4.08970289e-01 3.66693945e-01]\n",
      "  [6.27849913e-01 4.16092607e-01 4.20305034e-01]]]\n"
     ]
    }
   ],
   "source": [
    "import numpy as np\n",
    "\n",
    "# Create a 3D array with dimensions (5, 5, 3)\n",
    "array_3d = np.random.rand(5, 5, 3)\n",
    "\n",
    "# Create a 2D array with dimensions (5, 5)\n",
    "array_2d = np.random.rand(5, 5)\n",
    "\n",
    "# Multiply the 3D array by the 2D array using broadcasting\n",
    "result = array_3d * array_2d[:, :, np.newaxis]\n",
    "\n",
    "print(\"3D Array:\")\n",
    "print(array_3d)\n",
    "\n",
    "print(\"2D Array:\")\n",
    "print(array_2d)\n",
    "\n",
    "print(\"Result (3D Array * 2D Array):\")\n",
    "print(result)\n"
   ]
  },
  {
   "cell_type": "markdown",
   "id": "2cd67ab6",
   "metadata": {},
   "source": [
    "### 72. How to swap two rows of an array? (★★★)\n"
   ]
  },
  {
   "cell_type": "code",
   "execution_count": 131,
   "id": "55289213",
   "metadata": {},
   "outputs": [
    {
     "name": "stdout",
     "output_type": "stream",
     "text": [
      "Original Array:\n",
      "[[1 2 3]\n",
      " [7 8 9]\n",
      " [4 5 6]]\n"
     ]
    }
   ],
   "source": [
    "import numpy as np\n",
    "\n",
    "# Create a sample 2D array\n",
    "array = np.array([[1, 2, 3],\n",
    "                  [4, 5, 6],\n",
    "                  [7, 8, 9]])\n",
    "\n",
    "# Swap rows 1 and 2 (0-based indexing)\n",
    "row1, row2 = 1, 2\n",
    "array[row1], array[row2] = array[row2].copy(), array[row1].copy()\n",
    "\n",
    "print(\"Original Array:\")\n",
    "print(array)\n"
   ]
  },
  {
   "cell_type": "markdown",
   "id": "e92e8cce",
   "metadata": {},
   "source": [
    "### 73. Consider a set of 10 triplets describing 10 triangles (with shared vertices), find the set of unique line segments composing all the triangles (★★★)"
   ]
  },
  {
   "cell_type": "code",
   "execution_count": 132,
   "id": "bcd1b313",
   "metadata": {},
   "outputs": [
    {
     "name": "stdout",
     "output_type": "stream",
     "text": [
      "Unique Line Segments:\n",
      "(3, 4)\n",
      "(3, 1)\n",
      "(8, 9)\n",
      "(8, 6)\n",
      "(1, 9)\n",
      "(4, 2)\n",
      "(4, 5)\n",
      "(5, 6)\n",
      "(5, 3)\n",
      "(9, 7)\n",
      "(9, 10)\n",
      "(1, 2)\n",
      "(10, 8)\n",
      "(2, 10)\n",
      "(6, 4)\n",
      "(6, 7)\n",
      "(10, 1)\n",
      "(2, 3)\n",
      "(7, 5)\n",
      "(7, 8)\n"
     ]
    }
   ],
   "source": [
    "# Sample set of 10 triplets describing triangles\n",
    "triplets = [(1, 2, 3), (2, 3, 4), (3, 4, 5), (4, 5, 6),\n",
    "            (5, 6, 7), (6, 7, 8), (7, 8, 9), (8, 9, 10),\n",
    "            (9, 10, 1), (10, 1, 2)]\n",
    "\n",
    "# Initialize a set to store unique line segments\n",
    "unique_segments = set()\n",
    "\n",
    "# Iterate through the triplets and extract line segments\n",
    "for triplet in triplets:\n",
    "    for i in range(3):\n",
    "        segment = (triplet[i], triplet[(i + 1) % 3])\n",
    "        unique_segments.add(segment)\n",
    "\n",
    "# Convert the set of unique line segments to a list\n",
    "unique_segments_list = list(unique_segments)\n",
    "\n",
    "print(\"Unique Line Segments:\")\n",
    "for segment in unique_segments_list:\n",
    "    print(segment)\n"
   ]
  },
  {
   "cell_type": "markdown",
   "id": "cf7f70e2",
   "metadata": {},
   "source": [
    "### 74. Given an array C that is a bincount, how to produce an array A such that np.bincount(A) == C? (★★★)"
   ]
  },
  {
   "cell_type": "code",
   "execution_count": 133,
   "id": "cce43b95",
   "metadata": {},
   "outputs": [
    {
     "name": "stdout",
     "output_type": "stream",
     "text": [
      "Array A: [1 2 2 4 5 5 5 6 6]\n",
      "Bincount of A: [0 1 2 0 1 3 2]\n"
     ]
    }
   ],
   "source": [
    "import numpy as np\n",
    "\n",
    "# Given bincount array C\n",
    "C = np.array([0, 1, 2, 0, 1, 3, 2])\n",
    "\n",
    "# Compute the array A\n",
    "A = np.repeat(np.arange(len(C)), C)\n",
    "\n",
    "print(\"Array A:\", A)\n",
    "print(\"Bincount of A:\", np.bincount(A))\n"
   ]
  },
  {
   "cell_type": "markdown",
   "id": "0addab44",
   "metadata": {},
   "source": [
    "### 75. How to compute averages using a sliding window over an array? (★★★)\n"
   ]
  },
  {
   "cell_type": "code",
   "execution_count": 134,
   "id": "13a470d5",
   "metadata": {},
   "outputs": [
    {
     "name": "stdout",
     "output_type": "stream",
     "text": [
      "Original Array:\n",
      "[1 2 3 4 5 6 7 8 9]\n",
      "Averages with 3-element sliding window:\n",
      "[2. 3. 4. 5. 6. 7. 8.]\n"
     ]
    }
   ],
   "source": [
    "import numpy as np\n",
    "\n",
    "# Sample array\n",
    "arr = np.array([1, 2, 3, 4, 5, 6, 7, 8, 9])\n",
    "\n",
    "# Define the window size for the sliding window\n",
    "window_size = 3\n",
    "\n",
    "# Compute averages using a sliding window\n",
    "averages = np.convolve(arr, np.ones(window_size) / window_size, mode='valid')\n",
    "\n",
    "print(\"Original Array:\")\n",
    "print(arr)\n",
    "print(f\"Averages with {window_size}-element sliding window:\")\n",
    "print(averages)\n"
   ]
  },
  {
   "cell_type": "markdown",
   "id": "f993a749",
   "metadata": {},
   "source": [
    "### 76. Consider a one-dimensional array Z, build a two-dimensional array whose first row is (Z[0],Z[1],Z[2]) and each subsequent row is shifted by 1 (last row should be (Z[-3],Z[-2],Z[-1]) (★★★)\n"
   ]
  },
  {
   "cell_type": "code",
   "execution_count": 135,
   "id": "81ca2726",
   "metadata": {},
   "outputs": [
    {
     "name": "stdout",
     "output_type": "stream",
     "text": [
      "[[1 2 3]\n",
      " [2 3 4]\n",
      " [3 4 5]]\n"
     ]
    }
   ],
   "source": [
    "import numpy as np\n",
    "\n",
    "# Sample one-dimensional array Z\n",
    "Z = np.array([1, 2, 3, 4, 5])\n",
    "\n",
    "# Number of elements in each row\n",
    "n = 3\n",
    "\n",
    "# Build the two-dimensional array\n",
    "result = np.lib.stride_tricks.sliding_window_view(Z, (n,))\n",
    "result = result.T.copy()\n",
    "\n",
    "print(result)\n"
   ]
  },
  {
   "cell_type": "markdown",
   "id": "e57f9b56",
   "metadata": {},
   "source": [
    "### 77. How to negate a boolean, or to change the sign of a float inplace? (★★★)"
   ]
  },
  {
   "cell_type": "code",
   "execution_count": 136,
   "id": "030df195",
   "metadata": {},
   "outputs": [
    {
     "name": "stdout",
     "output_type": "stream",
     "text": [
      "Negated Boolean: False\n"
     ]
    }
   ],
   "source": [
    "# Original boolean value\n",
    "boolean_value = True\n",
    "\n",
    "# Negate the boolean in-place\n",
    "boolean_value = not boolean_value\n",
    "\n",
    "print(\"Negated Boolean:\", boolean_value)\n"
   ]
  },
  {
   "cell_type": "markdown",
   "id": "507f6f13",
   "metadata": {},
   "source": [
    "### 78. Consider 2 sets of points P0,P1 describing lines (2d) and a point p, how to compute distance from p to each line i (P0[i],P1[i])? (★★★)"
   ]
  },
  {
   "cell_type": "code",
   "execution_count": 137,
   "id": "13525d7b",
   "metadata": {},
   "outputs": [
    {
     "name": "stdout",
     "output_type": "stream",
     "text": [
      "Distances from point to lines:\n",
      "Line 0: 1.4142135623730951\n",
      "Line 1: 1.4142135623730951\n",
      "Line 2: 1.4142135623730951\n"
     ]
    }
   ],
   "source": [
    "import numpy as np\n",
    "\n",
    "def distance_from_point_to_line(P0, P1, p):\n",
    "    # Calculate the direction vector of the line\n",
    "    v = P1 - P0\n",
    "\n",
    "    # Calculate the vector from P0 to the point p\n",
    "    w = p - P0\n",
    "\n",
    "    # Calculate the projection of w onto v\n",
    "    t = np.dot(w, v) / np.dot(v, v)\n",
    "\n",
    "    # Calculate the closest point on the line to the point p\n",
    "    closest_point = P0 + t * v\n",
    "\n",
    "    # Calculate the distance from p to the closest point on the line\n",
    "    distance = np.linalg.norm(p - closest_point)\n",
    "\n",
    "    return distance\n",
    "\n",
    "# Sample points and lines\n",
    "P0 = np.array([[1, 2], [2, 3], [3, 4]])\n",
    "P1 = np.array([[4, 5], [5, 6], [6, 7]])\n",
    "p = np.array([2, 5])\n",
    "\n",
    "# Calculate distances to each line\n",
    "distances = [distance_from_point_to_line(P0[i], P1[i], p) for i in range(len(P0))]\n",
    "\n",
    "print(\"Distances from point to lines:\")\n",
    "for i, distance in enumerate(distances):\n",
    "    print(f\"Line {i}: {distance}\")\n"
   ]
  },
  {
   "cell_type": "markdown",
   "id": "6db42af4",
   "metadata": {},
   "source": [
    "### 79. Consider 2 sets of points P0,P1 describing lines (2d) and a set of points P, how to compute distance from each point j (P[j]) to each line i (P0[i],P1[i])? (★★★)"
   ]
  },
  {
   "cell_type": "code",
   "execution_count": 139,
   "id": "d3d62438",
   "metadata": {},
   "outputs": [
    {
     "ename": "ValueError",
     "evalue": "operands could not be broadcast together with shapes (3,) (2,) ",
     "output_type": "error",
     "traceback": [
      "\u001b[1;31m---------------------------------------------------------------------------\u001b[0m",
      "\u001b[1;31mValueError\u001b[0m                                Traceback (most recent call last)",
      "Cell \u001b[1;32mIn[139], line 27\u001b[0m\n\u001b[0;32m     24\u001b[0m P \u001b[38;5;241m=\u001b[39m np\u001b[38;5;241m.\u001b[39marray([[\u001b[38;5;241m2\u001b[39m, \u001b[38;5;241m5\u001b[39m], [\u001b[38;5;241m3\u001b[39m, \u001b[38;5;241m6\u001b[39m], [\u001b[38;5;241m4\u001b[39m, \u001b[38;5;241m7\u001b[39m]])\n\u001b[0;32m     26\u001b[0m \u001b[38;5;66;03m# Calculate distances from each point to each line\u001b[39;00m\n\u001b[1;32m---> 27\u001b[0m distances \u001b[38;5;241m=\u001b[39m np\u001b[38;5;241m.\u001b[39marray([distance_from_point_to_line(P0[i], P1[i], P) \u001b[38;5;28;01mfor\u001b[39;00m i \u001b[38;5;129;01min\u001b[39;00m \u001b[38;5;28mrange\u001b[39m(\u001b[38;5;28mlen\u001b[39m(P0))])\u001b[38;5;241m.\u001b[39mT\n\u001b[0;32m     29\u001b[0m \u001b[38;5;28mprint\u001b[39m(\u001b[38;5;124m\"\u001b[39m\u001b[38;5;124mDistances from points to lines:\u001b[39m\u001b[38;5;124m\"\u001b[39m)\n\u001b[0;32m     30\u001b[0m \u001b[38;5;28mprint\u001b[39m(distances)\n",
      "Cell \u001b[1;32mIn[139], line 27\u001b[0m, in \u001b[0;36m<listcomp>\u001b[1;34m(.0)\u001b[0m\n\u001b[0;32m     24\u001b[0m P \u001b[38;5;241m=\u001b[39m np\u001b[38;5;241m.\u001b[39marray([[\u001b[38;5;241m2\u001b[39m, \u001b[38;5;241m5\u001b[39m], [\u001b[38;5;241m3\u001b[39m, \u001b[38;5;241m6\u001b[39m], [\u001b[38;5;241m4\u001b[39m, \u001b[38;5;241m7\u001b[39m]])\n\u001b[0;32m     26\u001b[0m \u001b[38;5;66;03m# Calculate distances from each point to each line\u001b[39;00m\n\u001b[1;32m---> 27\u001b[0m distances \u001b[38;5;241m=\u001b[39m np\u001b[38;5;241m.\u001b[39marray([distance_from_point_to_line(P0[i], P1[i], P) \u001b[38;5;28;01mfor\u001b[39;00m i \u001b[38;5;129;01min\u001b[39;00m \u001b[38;5;28mrange\u001b[39m(\u001b[38;5;28mlen\u001b[39m(P0))])\u001b[38;5;241m.\u001b[39mT\n\u001b[0;32m     29\u001b[0m \u001b[38;5;28mprint\u001b[39m(\u001b[38;5;124m\"\u001b[39m\u001b[38;5;124mDistances from points to lines:\u001b[39m\u001b[38;5;124m\"\u001b[39m)\n\u001b[0;32m     30\u001b[0m \u001b[38;5;28mprint\u001b[39m(distances)\n",
      "Cell \u001b[1;32mIn[139], line 14\u001b[0m, in \u001b[0;36mdistance_from_point_to_line\u001b[1;34m(P0, P1, P)\u001b[0m\n\u001b[0;32m     11\u001b[0m t \u001b[38;5;241m=\u001b[39m np\u001b[38;5;241m.\u001b[39mdot(w, v) \u001b[38;5;241m/\u001b[39m np\u001b[38;5;241m.\u001b[39mdot(v, v)\n\u001b[0;32m     13\u001b[0m \u001b[38;5;66;03m# Calculate the closest point on the line to the point P\u001b[39;00m\n\u001b[1;32m---> 14\u001b[0m closest_point \u001b[38;5;241m=\u001b[39m P0 \u001b[38;5;241m+\u001b[39m t \u001b[38;5;241m*\u001b[39m v\n\u001b[0;32m     16\u001b[0m \u001b[38;5;66;03m# Calculate the distance from P to the closest point on the line\u001b[39;00m\n\u001b[0;32m     17\u001b[0m distance \u001b[38;5;241m=\u001b[39m np\u001b[38;5;241m.\u001b[39mlinalg\u001b[38;5;241m.\u001b[39mnorm(P \u001b[38;5;241m-\u001b[39m closest_point, axis\u001b[38;5;241m=\u001b[39m\u001b[38;5;241m1\u001b[39m)\n",
      "\u001b[1;31mValueError\u001b[0m: operands could not be broadcast together with shapes (3,) (2,) "
     ]
    }
   ],
   "source": [
    "import numpy as np\n",
    "\n",
    "def distance_from_point_to_line(P0, P1, P):\n",
    "    # Calculate the direction vector of the line\n",
    "    v = P1 - P0\n",
    "\n",
    "    # Calculate the vector from P0 to the point P\n",
    "    w = P - P0\n",
    "\n",
    "    # Calculate the projection of w onto v\n",
    "    t = np.dot(w, v) / np.dot(v, v)\n",
    "\n",
    "    # Calculate the closest point on the line to the point P\n",
    "    closest_point = P0 + t * v\n",
    "\n",
    "    # Calculate the distance from P to the closest point on the line\n",
    "    distance = np.linalg.norm(P - closest_point, axis=1)\n",
    "\n",
    "    return distance\n",
    "\n",
    "# Sample points and lines\n",
    "P0 = np.array([[1, 2], [2, 3], [3, 4]])\n",
    "P1 = np.array([[4, 5], [5, 6], [6, 7]])\n",
    "P = np.array([[2, 5], [3, 6], [4, 7]])\n",
    "\n",
    "# Calculate distances from each point to each line\n",
    "distances = np.array([distance_from_point_to_line(P0[i], P1[i], P) for i in range(len(P0))]).T\n",
    "\n",
    "print(\"Distances from points to lines:\")\n",
    "print(distances)\n"
   ]
  },
  {
   "cell_type": "markdown",
   "id": "8398f8c8",
   "metadata": {},
   "source": [
    "### 80. Consider an arbitrary array, write a function that extract a subpart with a fixed shape and centered on a given element (pad with a fill value when necessary) (★★★)"
   ]
  },
  {
   "cell_type": "code",
   "execution_count": 141,
   "id": "933212d2",
   "metadata": {},
   "outputs": [
    {
     "name": "stdout",
     "output_type": "stream",
     "text": [
      "Original Array:\n",
      "[[1 2 3]\n",
      " [4 5 6]\n",
      " [7 8 9]]\n",
      "Subpart:\n",
      "[[1 2 3]\n",
      " [4 5 6]\n",
      " [7 8 9]]\n"
     ]
    }
   ],
   "source": [
    "import numpy as np\n",
    "\n",
    "def extract_subpart(arr, center, shape, fill_value=0):\n",
    "    subpart = np.full(shape, fill_value, dtype=arr.dtype)\n",
    "    start = np.maximum(center - np.array(shape) // 2, 0)\n",
    "    end = np.minimum(center + (np.array(shape) + 1) // 2, arr.shape)\n",
    "    subpart_start = np.maximum(np.array(shape) // 2 - center + start, 0)\n",
    "    subpart[subpart_start[0]:subpart_start[0]+end[0]-start[0], subpart_start[1]:subpart_start[1]+end[1]-start[1]] = arr[start[0]:end[0], start[1]:end[1]]\n",
    "    return subpart\n",
    "\n",
    "# Sample input array\n",
    "input_array = np.array([[1, 2, 3],\n",
    "                       [4, 5, 6],\n",
    "                       [7, 8, 9]])\n",
    "\n",
    "# Center point for subpart\n",
    "center_point = np.array([1, 1])\n",
    "\n",
    "# Shape of the subpart\n",
    "subpart_shape = (3, 3)\n",
    "\n",
    "# Fill value for padding\n",
    "fill_value = 0\n",
    "\n",
    "# Extract subpart\n",
    "subpart = extract_subpart(input_array, center_point, subpart_shape, fill_value)\n",
    "\n",
    "print(\"Original Array:\")\n",
    "print(input_array)\n",
    "print(\"Subpart:\")\n",
    "print(subpart)\n",
    "\n"
   ]
  },
  {
   "cell_type": "markdown",
   "id": "a75ae918",
   "metadata": {},
   "source": [
    "### 81. Consider an array Z = [1,2,3,4,5,6,7,8,9,10,11,12,13,14], how to generate an array R = [[1,2,3,4], [2,3,4,5], [3,4,5,6], ..., [11,12,13,14]]? (★★★)"
   ]
  },
  {
   "cell_type": "code",
   "execution_count": 142,
   "id": "c0b435f1",
   "metadata": {},
   "outputs": [
    {
     "name": "stdout",
     "output_type": "stream",
     "text": [
      "[[ 1  2  3  4]\n",
      " [ 2  3  4  5]\n",
      " [ 3  4  5  6]\n",
      " [ 4  5  6  7]\n",
      " [ 5  6  7  8]\n",
      " [ 6  7  8  9]\n",
      " [ 7  8  9 10]\n",
      " [ 8  9 10 11]\n",
      " [ 9 10 11 12]\n",
      " [10 11 12 13]\n",
      " [11 12 13 14]]\n"
     ]
    }
   ],
   "source": [
    "import numpy as np\n",
    "\n",
    "# Given array Z\n",
    "Z = np.array([1, 2, 3, 4, 5, 6, 7, 8, 9, 10, 11, 12, 13, 14])\n",
    "\n",
    "# Define the size of the rolling window\n",
    "window_size = 4\n",
    "\n",
    "# Generate the array R using a rolling window\n",
    "R = np.lib.stride_tricks.sliding_window_view(Z, (window_size,))\n",
    "\n",
    "print(R)\n"
   ]
  },
  {
   "cell_type": "markdown",
   "id": "5ee5596f",
   "metadata": {},
   "source": [
    "### 82. Compute a matrix rank (★★★)\n"
   ]
  },
  {
   "cell_type": "code",
   "execution_count": 144,
   "id": "ae9f967a",
   "metadata": {},
   "outputs": [
    {
     "name": "stdout",
     "output_type": "stream",
     "text": [
      "10\n"
     ]
    }
   ],
   "source": [
    "W = np.random.uniform(0,1,(10,10))\n",
    "X, Y, Z = np.linalg.svd(W) # Singular Value Decomposition\n",
    "rank = np.sum(S > 1e-10)\n",
    "print(rank)"
   ]
  },
  {
   "cell_type": "markdown",
   "id": "14762f7a",
   "metadata": {},
   "source": [
    "### 83. How to find the most frequent value in an array?"
   ]
  },
  {
   "cell_type": "code",
   "execution_count": 145,
   "id": "e6c1b816",
   "metadata": {},
   "outputs": [
    {
     "name": "stdout",
     "output_type": "stream",
     "text": [
      "Array:\n",
      "[1 2 2 3 3 3 4 4 4 4 5]\n",
      "Most frequent value: 4\n"
     ]
    }
   ],
   "source": [
    "import numpy as np\n",
    "\n",
    "# Sample array\n",
    "array = np.array([1, 2, 2, 3, 3, 3, 4, 4, 4, 4, 5])\n",
    "\n",
    "# Use np.bincount to count occurrences of each value\n",
    "counts = np.bincount(array)\n",
    "\n",
    "# Find the value with the maximum count\n",
    "most_frequent_value = np.argmax(counts)\n",
    "\n",
    "print(\"Array:\")\n",
    "print(array)\n",
    "print(\"Most frequent value:\", most_frequent_value)\n"
   ]
  },
  {
   "cell_type": "markdown",
   "id": "2556e8be",
   "metadata": {},
   "source": [
    "### 84. Extract all the contiguous 3x3 blocks from a random 10x10 matrix (★★★)\n"
   ]
  },
  {
   "cell_type": "code",
   "execution_count": 146,
   "id": "4c28ef62",
   "metadata": {},
   "outputs": [
    {
     "name": "stdout",
     "output_type": "stream",
     "text": [
      "Block 1:\n",
      "[[2.74357870e-04 4.37420036e-01 4.26519780e-03]\n",
      " [7.39222185e-01 5.76026491e-01 8.85128815e-01]\n",
      " [8.62740550e-01 4.47275671e-01 6.29571656e-02]]\n",
      "\n",
      "Block 2:\n",
      "[[0.43742004 0.0042652  0.15238325]\n",
      " [0.57602649 0.88512881 0.57851517]\n",
      " [0.44727567 0.06295717 0.19744991]]\n",
      "\n",
      "Block 3:\n",
      "[[0.0042652  0.15238325 0.43309937]\n",
      " [0.88512881 0.57851517 0.51382945]\n",
      " [0.06295717 0.19744991 0.2907663 ]]\n",
      "\n",
      "Block 4:\n",
      "[[0.15238325 0.43309937 0.2036082 ]\n",
      " [0.57851517 0.51382945 0.22060983]\n",
      " [0.19744991 0.2907663  0.39156828]]\n",
      "\n",
      "Block 5:\n",
      "[[0.43309937 0.2036082  0.4610235 ]\n",
      " [0.51382945 0.22060983 0.32918945]\n",
      " [0.2907663  0.39156828 0.0711189 ]]\n",
      "\n",
      "Block 6:\n",
      "[[0.2036082  0.4610235  0.96947688]\n",
      " [0.22060983 0.32918945 0.84370257]\n",
      " [0.39156828 0.0711189  0.74630664]]\n",
      "\n",
      "Block 7:\n",
      "[[0.4610235  0.96947688 0.66305821]\n",
      " [0.32918945 0.84370257 0.6719653 ]\n",
      " [0.0711189  0.74630664 0.9233461 ]]\n",
      "\n",
      "Block 8:\n",
      "[[0.96947688 0.66305821 0.84828586]\n",
      " [0.84370257 0.6719653  0.45103064]\n",
      " [0.74630664 0.9233461  0.99542272]]\n",
      "\n",
      "Block 9:\n",
      "[[0.73922218 0.57602649 0.88512881]\n",
      " [0.86274055 0.44727567 0.06295717]\n",
      " [0.10090742 0.76548618 0.04733919]]\n",
      "\n",
      "Block 10:\n",
      "[[0.57602649 0.88512881 0.57851517]\n",
      " [0.44727567 0.06295717 0.19744991]\n",
      " [0.76548618 0.04733919 0.28301745]]\n",
      "\n",
      "Block 11:\n",
      "[[0.88512881 0.57851517 0.51382945]\n",
      " [0.06295717 0.19744991 0.2907663 ]\n",
      " [0.04733919 0.28301745 0.23708261]]\n",
      "\n",
      "Block 12:\n",
      "[[0.57851517 0.51382945 0.22060983]\n",
      " [0.19744991 0.2907663  0.39156828]\n",
      " [0.28301745 0.23708261 0.49486842]]\n",
      "\n",
      "Block 13:\n",
      "[[0.51382945 0.22060983 0.32918945]\n",
      " [0.2907663  0.39156828 0.0711189 ]\n",
      " [0.23708261 0.49486842 0.82460651]]\n",
      "\n",
      "Block 14:\n",
      "[[0.22060983 0.32918945 0.84370257]\n",
      " [0.39156828 0.0711189  0.74630664]\n",
      " [0.49486842 0.82460651 0.51104284]]\n",
      "\n",
      "Block 15:\n",
      "[[0.32918945 0.84370257 0.6719653 ]\n",
      " [0.0711189  0.74630664 0.9233461 ]\n",
      " [0.82460651 0.51104284 0.23642923]]\n",
      "\n",
      "Block 16:\n",
      "[[0.84370257 0.6719653  0.45103064]\n",
      " [0.74630664 0.9233461  0.99542272]\n",
      " [0.51104284 0.23642923 0.86557043]]\n",
      "\n",
      "Block 17:\n",
      "[[0.86274055 0.44727567 0.06295717]\n",
      " [0.10090742 0.76548618 0.04733919]\n",
      " [0.09731063 0.87235303 0.49564422]]\n",
      "\n",
      "Block 18:\n",
      "[[0.44727567 0.06295717 0.19744991]\n",
      " [0.76548618 0.04733919 0.28301745]\n",
      " [0.87235303 0.49564422 0.47394978]]\n",
      "\n",
      "Block 19:\n",
      "[[0.06295717 0.19744991 0.2907663 ]\n",
      " [0.04733919 0.28301745 0.23708261]\n",
      " [0.49564422 0.47394978 0.98490612]]\n",
      "\n",
      "Block 20:\n",
      "[[0.19744991 0.2907663  0.39156828]\n",
      " [0.28301745 0.23708261 0.49486842]\n",
      " [0.47394978 0.98490612 0.3748304 ]]\n",
      "\n",
      "Block 21:\n",
      "[[0.2907663  0.39156828 0.0711189 ]\n",
      " [0.23708261 0.49486842 0.82460651]\n",
      " [0.98490612 0.3748304  0.03563726]]\n",
      "\n",
      "Block 22:\n",
      "[[0.39156828 0.0711189  0.74630664]\n",
      " [0.49486842 0.82460651 0.51104284]\n",
      " [0.3748304  0.03563726 0.09594861]]\n",
      "\n",
      "Block 23:\n",
      "[[0.0711189  0.74630664 0.9233461 ]\n",
      " [0.82460651 0.51104284 0.23642923]\n",
      " [0.03563726 0.09594861 0.8371435 ]]\n",
      "\n",
      "Block 24:\n",
      "[[0.74630664 0.9233461  0.99542272]\n",
      " [0.51104284 0.23642923 0.86557043]\n",
      " [0.09594861 0.8371435  0.89412221]]\n",
      "\n",
      "Block 25:\n",
      "[[0.10090742 0.76548618 0.04733919]\n",
      " [0.09731063 0.87235303 0.49564422]\n",
      " [0.37591812 0.18228854 0.20558448]]\n",
      "\n",
      "Block 26:\n",
      "[[0.76548618 0.04733919 0.28301745]\n",
      " [0.87235303 0.49564422 0.47394978]\n",
      " [0.18228854 0.20558448 0.57674958]]\n",
      "\n",
      "Block 27:\n",
      "[[0.04733919 0.28301745 0.23708261]\n",
      " [0.49564422 0.47394978 0.98490612]\n",
      " [0.20558448 0.57674958 0.21221706]]\n",
      "\n",
      "Block 28:\n",
      "[[0.28301745 0.23708261 0.49486842]\n",
      " [0.47394978 0.98490612 0.3748304 ]\n",
      " [0.57674958 0.21221706 0.06199861]]\n",
      "\n",
      "Block 29:\n",
      "[[0.23708261 0.49486842 0.82460651]\n",
      " [0.98490612 0.3748304  0.03563726]\n",
      " [0.21221706 0.06199861 0.88289799]]\n",
      "\n",
      "Block 30:\n",
      "[[0.49486842 0.82460651 0.51104284]\n",
      " [0.3748304  0.03563726 0.09594861]\n",
      " [0.06199861 0.88289799 0.64114068]]\n",
      "\n",
      "Block 31:\n",
      "[[0.82460651 0.51104284 0.23642923]\n",
      " [0.03563726 0.09594861 0.8371435 ]\n",
      " [0.88289799 0.64114068 0.12353638]]\n",
      "\n",
      "Block 32:\n",
      "[[0.51104284 0.23642923 0.86557043]\n",
      " [0.09594861 0.8371435  0.89412221]\n",
      " [0.64114068 0.12353638 0.21613785]]\n",
      "\n",
      "Block 33:\n",
      "[[0.09731063 0.87235303 0.49564422]\n",
      " [0.37591812 0.18228854 0.20558448]\n",
      " [0.52047096 0.58738421 0.21330329]]\n",
      "\n",
      "Block 34:\n",
      "[[0.87235303 0.49564422 0.47394978]\n",
      " [0.18228854 0.20558448 0.57674958]\n",
      " [0.58738421 0.21330329 0.85822607]]\n",
      "\n",
      "Block 35:\n",
      "[[0.49564422 0.47394978 0.98490612]\n",
      " [0.20558448 0.57674958 0.21221706]\n",
      " [0.21330329 0.85822607 0.7267566 ]]\n",
      "\n",
      "Block 36:\n",
      "[[0.47394978 0.98490612 0.3748304 ]\n",
      " [0.57674958 0.21221706 0.06199861]\n",
      " [0.85822607 0.7267566  0.07307837]]\n",
      "\n",
      "Block 37:\n",
      "[[0.98490612 0.3748304  0.03563726]\n",
      " [0.21221706 0.06199861 0.88289799]\n",
      " [0.7267566  0.07307837 0.92003029]]\n",
      "\n",
      "Block 38:\n",
      "[[0.3748304  0.03563726 0.09594861]\n",
      " [0.06199861 0.88289799 0.64114068]\n",
      " [0.07307837 0.92003029 0.27302796]]\n",
      "\n",
      "Block 39:\n",
      "[[0.03563726 0.09594861 0.8371435 ]\n",
      " [0.88289799 0.64114068 0.12353638]\n",
      " [0.92003029 0.27302796 0.04893145]]\n",
      "\n",
      "Block 40:\n",
      "[[0.09594861 0.8371435  0.89412221]\n",
      " [0.64114068 0.12353638 0.21613785]\n",
      " [0.27302796 0.04893145 0.94670972]]\n",
      "\n",
      "Block 41:\n",
      "[[0.37591812 0.18228854 0.20558448]\n",
      " [0.52047096 0.58738421 0.21330329]\n",
      " [0.21325141 0.3880593  0.82475422]]\n",
      "\n",
      "Block 42:\n",
      "[[0.18228854 0.20558448 0.57674958]\n",
      " [0.58738421 0.21330329 0.85822607]\n",
      " [0.3880593  0.82475422 0.82718735]]\n",
      "\n",
      "Block 43:\n",
      "[[0.20558448 0.57674958 0.21221706]\n",
      " [0.21330329 0.85822607 0.7267566 ]\n",
      " [0.82475422 0.82718735 0.9989492 ]]\n",
      "\n",
      "Block 44:\n",
      "[[0.57674958 0.21221706 0.06199861]\n",
      " [0.85822607 0.7267566  0.07307837]\n",
      " [0.82718735 0.9989492  0.02633451]]\n",
      "\n",
      "Block 45:\n",
      "[[0.21221706 0.06199861 0.88289799]\n",
      " [0.7267566  0.07307837 0.92003029]\n",
      " [0.9989492  0.02633451 0.68920067]]\n",
      "\n",
      "Block 46:\n",
      "[[0.06199861 0.88289799 0.64114068]\n",
      " [0.07307837 0.92003029 0.27302796]\n",
      " [0.02633451 0.68920067 0.21140928]]\n",
      "\n",
      "Block 47:\n",
      "[[0.88289799 0.64114068 0.12353638]\n",
      " [0.92003029 0.27302796 0.04893145]\n",
      " [0.68920067 0.21140928 0.62382985]]\n",
      "\n",
      "Block 48:\n",
      "[[0.64114068 0.12353638 0.21613785]\n",
      " [0.27302796 0.04893145 0.94670972]\n",
      " [0.21140928 0.62382985 0.30689698]]\n",
      "\n",
      "Block 49:\n",
      "[[0.52047096 0.58738421 0.21330329]\n",
      " [0.21325141 0.3880593  0.82475422]\n",
      " [0.13988586 0.70519333 0.71883256]]\n",
      "\n",
      "Block 50:\n",
      "[[0.58738421 0.21330329 0.85822607]\n",
      " [0.3880593  0.82475422 0.82718735]\n",
      " [0.70519333 0.71883256 0.1067147 ]]\n",
      "\n",
      "Block 51:\n",
      "[[0.21330329 0.85822607 0.7267566 ]\n",
      " [0.82475422 0.82718735 0.9989492 ]\n",
      " [0.71883256 0.1067147  0.89912474]]\n",
      "\n",
      "Block 52:\n",
      "[[0.85822607 0.7267566  0.07307837]\n",
      " [0.82718735 0.9989492  0.02633451]\n",
      " [0.1067147  0.89912474 0.15162163]]\n",
      "\n",
      "Block 53:\n",
      "[[0.7267566  0.07307837 0.92003029]\n",
      " [0.9989492  0.02633451 0.68920067]\n",
      " [0.89912474 0.15162163 0.25713604]]\n",
      "\n",
      "Block 54:\n",
      "[[0.07307837 0.92003029 0.27302796]\n",
      " [0.02633451 0.68920067 0.21140928]\n",
      " [0.15162163 0.25713604 0.19676897]]\n",
      "\n",
      "Block 55:\n",
      "[[0.92003029 0.27302796 0.04893145]\n",
      " [0.68920067 0.21140928 0.62382985]\n",
      " [0.25713604 0.19676897 0.02153191]]\n",
      "\n",
      "Block 56:\n",
      "[[0.27302796 0.04893145 0.94670972]\n",
      " [0.21140928 0.62382985 0.30689698]\n",
      " [0.19676897 0.02153191 0.01869365]]\n",
      "\n",
      "Block 57:\n",
      "[[0.21325141 0.3880593  0.82475422]\n",
      " [0.13988586 0.70519333 0.71883256]\n",
      " [0.51716934 0.89133183 0.21884152]]\n",
      "\n",
      "Block 58:\n",
      "[[0.3880593  0.82475422 0.82718735]\n",
      " [0.70519333 0.71883256 0.1067147 ]\n",
      " [0.89133183 0.21884152 0.40686634]]\n",
      "\n",
      "Block 59:\n",
      "[[0.82475422 0.82718735 0.9989492 ]\n",
      " [0.71883256 0.1067147  0.89912474]\n",
      " [0.21884152 0.40686634 0.73325228]]\n",
      "\n",
      "Block 60:\n",
      "[[0.82718735 0.9989492  0.02633451]\n",
      " [0.1067147  0.89912474 0.15162163]\n",
      " [0.40686634 0.73325228 0.66912825]]\n",
      "\n",
      "Block 61:\n",
      "[[0.9989492  0.02633451 0.68920067]\n",
      " [0.89912474 0.15162163 0.25713604]\n",
      " [0.73325228 0.66912825 0.15333655]]\n",
      "\n",
      "Block 62:\n",
      "[[0.02633451 0.68920067 0.21140928]\n",
      " [0.15162163 0.25713604 0.19676897]\n",
      " [0.66912825 0.15333655 0.89147717]]\n",
      "\n",
      "Block 63:\n",
      "[[0.68920067 0.21140928 0.62382985]\n",
      " [0.25713604 0.19676897 0.02153191]\n",
      " [0.15333655 0.89147717 0.75305524]]\n",
      "\n",
      "Block 64:\n",
      "[[0.21140928 0.62382985 0.30689698]\n",
      " [0.19676897 0.02153191 0.01869365]\n",
      " [0.89147717 0.75305524 0.55822348]]\n",
      "\n"
     ]
    }
   ],
   "source": [
    "import numpy as np\n",
    "\n",
    "# Create a random 10x10 matrix for demonstration\n",
    "matrix = np.random.rand(10, 10)\n",
    "\n",
    "# Define the block size\n",
    "block_size = (3, 3)\n",
    "\n",
    "# Initialize an empty list to store the extracted blocks\n",
    "blocks = []\n",
    "\n",
    "# Iterate through the matrix to extract blocks\n",
    "for i in range(10 - block_size[0] + 1):\n",
    "    for j in range(10 - block_size[1] + 1):\n",
    "        block = matrix[i:i + block_size[0], j:j + block_size[1]]\n",
    "        blocks.append(block)\n",
    "\n",
    "# Convert the list of blocks to a NumPy array\n",
    "block_array = np.array(blocks)\n",
    "\n",
    "# Print the extracted blocks\n",
    "for i, block in enumerate(block_array):\n",
    "    print(f\"Block {i + 1}:\\n{block}\\n\")\n"
   ]
  },
  {
   "cell_type": "markdown",
   "id": "1d345224",
   "metadata": {},
   "source": [
    "### 85. Create a 2D array subclass such that Z[i,j] == Z[j,i] (★★★)\n"
   ]
  },
  {
   "cell_type": "code",
   "execution_count": 147,
   "id": "b576a1be",
   "metadata": {},
   "outputs": [
    {
     "name": "stdout",
     "output_type": "stream",
     "text": [
      "Original Array:\n",
      "[[1 2 3]\n",
      " [2 4 5]\n",
      " [3 5 6]]\n",
      "Symmetric Array:\n",
      "[[1 2 3]\n",
      " [2 4 5]\n",
      " [3 5 6]]\n",
      "Modified Symmetric Array:\n",
      "[[1 2 9]\n",
      " [2 4 5]\n",
      " [9 5 6]]\n"
     ]
    }
   ],
   "source": [
    "import numpy as np\n",
    "\n",
    "class SymmetricArray(np.ndarray):\n",
    "    def __new__(cls, input_array):\n",
    "        # Create a view of the input array\n",
    "        obj = np.asarray(input_array).view(cls)\n",
    "        return obj\n",
    "\n",
    "    def __getitem__(self, indices):\n",
    "        # Ensure that Z[i, j] is equal to Z[j, i]\n",
    "        i, j = indices\n",
    "        return super(SymmetricArray, self).__getitem__((i, j))\n",
    "\n",
    "    def __setitem__(self, indices, value):\n",
    "        # Ensure that Z[i, j] is equal to Z[j, i] when setting values\n",
    "        i, j = indices\n",
    "        super(SymmetricArray, self).__setitem__((i, j), value)\n",
    "        super(SymmetricArray, self).__setitem__((j, i), value)\n",
    "\n",
    "# Create a regular NumPy array\n",
    "original_array = np.array([[1, 2, 3],\n",
    "                          [2, 4, 5],\n",
    "                          [3, 5, 6]])\n",
    "\n",
    "# Create a symmetric array using the custom subclass\n",
    "symmetric_array = SymmetricArray(original_array)\n",
    "\n",
    "# Access and modify elements\n",
    "print(\"Original Array:\")\n",
    "print(original_array)\n",
    "print(\"Symmetric Array:\")\n",
    "print(symmetric_array)\n",
    "\n",
    "symmetric_array[0, 2] = 9\n",
    "print(\"Modified Symmetric Array:\")\n",
    "print(symmetric_array)\n"
   ]
  },
  {
   "cell_type": "markdown",
   "id": "0dd16085",
   "metadata": {},
   "source": [
    "### 86. Consider a set of p matrices wich shape (n,n) and a set of p vectors with shape (n,1). How to compute the sum of of the p matrix products at once? (result has shape (n,1)) (★★★)"
   ]
  },
  {
   "cell_type": "code",
   "execution_count": 148,
   "id": "7479361c",
   "metadata": {},
   "outputs": [
    {
     "name": "stdout",
     "output_type": "stream",
     "text": [
      "[[200.]\n",
      " [200.]\n",
      " [200.]\n",
      " [200.]\n",
      " [200.]\n",
      " [200.]\n",
      " [200.]\n",
      " [200.]\n",
      " [200.]\n",
      " [200.]\n",
      " [200.]\n",
      " [200.]\n",
      " [200.]\n",
      " [200.]\n",
      " [200.]\n",
      " [200.]\n",
      " [200.]\n",
      " [200.]\n",
      " [200.]\n",
      " [200.]]\n"
     ]
    }
   ],
   "source": [
    "Q, n = 10, 20\n",
    "R = np.ones((Q,n,n))\n",
    "S = np.ones((Q,n,1))\n",
    "T = np.tensordot(R, S, axes=[[0, 2], [0, 1]])\n",
    "print(T)"
   ]
  },
  {
   "cell_type": "markdown",
   "id": "04fdf793",
   "metadata": {},
   "source": [
    "### 87. Consider a 16x16 array, how to get the block-sum (block size is 4x4)? (★★★)"
   ]
  },
  {
   "cell_type": "code",
   "execution_count": 149,
   "id": "04c28b6c",
   "metadata": {},
   "outputs": [
    {
     "name": "stdout",
     "output_type": "stream",
     "text": [
      "Block-Sums:\n",
      "[[ 6.77995284  6.81442368  8.83340927 10.2901112 ]\n",
      " [ 9.19672976  9.01442582  8.93221942  7.54244202]\n",
      " [ 9.33548625  7.63025325  7.75195876  8.35885334]\n",
      " [ 8.03487594  7.42608166  8.37169893  7.7173131 ]]\n"
     ]
    }
   ],
   "source": [
    "import numpy as np\n",
    "\n",
    "# Create a random 16x16 array for demonstration\n",
    "array = np.random.rand(16, 16)\n",
    "\n",
    "# Define the block size\n",
    "block_size = 4\n",
    "\n",
    "# Calculate the number of blocks in each dimension\n",
    "num_blocks = array.shape[0] // block_size\n",
    "\n",
    "# Initialize an empty array to store the block-sums\n",
    "block_sums = np.empty((num_blocks, num_blocks))\n",
    "\n",
    "# Iterate through the blocks and calculate the block-sums\n",
    "for i in range(num_blocks):\n",
    "    for j in range(num_blocks):\n",
    "        block = array[i * block_size:(i + 1) * block_size, j * block_size:(j + 1) * block_size]\n",
    "        block_sums[i, j] = np.sum(block)\n",
    "\n",
    "# Print the block-sums\n",
    "print(\"Block-Sums:\")\n",
    "print(block_sums)\n"
   ]
  },
  {
   "cell_type": "markdown",
   "id": "0bbcfd84",
   "metadata": {},
   "source": [
    "### 88. How to implement the Game of Life using numpy arrays? (★★★)\n"
   ]
  },
  {
   "cell_type": "code",
   "execution_count": 150,
   "id": "5afd9a1f",
   "metadata": {},
   "outputs": [
    {
     "data": {
      "image/png": "[encoded data removed]",
      "text/plain": [
       "<Figure size 640x480 with 1 Axes>"
      ]
     },
     "metadata": {},
     "output_type": "display_data"
    }
   ],
   "source": [
    "import numpy as np\n",
    "import matplotlib.pyplot as plt\n",
    "import matplotlib.animation as animation\n",
    "\n",
    "def update(grid):\n",
    "    # Copy the grid to calculate the next generation\n",
    "    new_grid = grid.copy()\n",
    "    rows, cols = grid.shape\n",
    "\n",
    "    for i in range(rows):\n",
    "        for j in range(cols):\n",
    "            # Count the live neighbors\n",
    "            neighbor_sum = np.sum(grid[i - 1:i + 2, j - 1:j + 2]) - grid[i, j]\n",
    "\n",
    "            # Apply the Game of Life rules\n",
    "            if grid[i, j] == 1:  # Cell is alive\n",
    "                if neighbor_sum < 2 or neighbor_sum > 3:\n",
    "                    new_grid[i, j] = 0\n",
    "            else:  # Cell is dead\n",
    "                if neighbor_sum == 3:\n",
    "                    new_grid[i, j] = 1\n",
    "\n",
    "    return new_grid\n",
    "\n",
    "# Initialize a random grid\n",
    "grid = np.random.choice([0, 1], size=(50, 50))\n",
    "\n",
    "fig, ax = plt.subplots()\n",
    "im = ax.imshow(grid, cmap='binary')\n",
    "\n",
    "def animate(frame):\n",
    "    global grid\n",
    "    grid = update(grid)\n",
    "    im.set_data(grid)\n",
    "    return im,\n",
    "\n",
    "ani = animation.FuncAnimation(fig, animate, frames=100, blit=True)\n",
    "plt.show()\n"
   ]
  },
  {
   "cell_type": "markdown",
   "id": "4d8c8b07",
   "metadata": {},
   "source": [
    "### 89. How to get the n largest values of an array (★★★)"
   ]
  },
  {
   "cell_type": "code",
   "execution_count": 151,
   "id": "499aaa3d",
   "metadata": {},
   "outputs": [
    {
     "name": "stdout",
     "output_type": "stream",
     "text": [
      "Original Array: [4 9 1 7 3 8 5 2 6]\n",
      "3 Largest Values: [9 8 7]\n"
     ]
    }
   ],
   "source": [
    "import numpy as np\n",
    "\n",
    "# Create a NumPy array for demonstration\n",
    "arr = np.array([4, 9, 1, 7, 3, 8, 5, 2, 6])\n",
    "\n",
    "# Specify the number of largest values to retrieve\n",
    "n = 3\n",
    "\n",
    "# Use numpy.partition to partially sort the array\n",
    "partitioned_indices = np.argpartition(-arr, n)  # Use negative values for largest elements\n",
    "\n",
    "# Get the indices of the n largest values\n",
    "n_largest_indices = partitioned_indices[:n]\n",
    "\n",
    "# Get the n largest values from the original array\n",
    "n_largest_values = arr[n_largest_indices]\n",
    "\n",
    "print(\"Original Array:\", arr)\n",
    "print(f\"{n} Largest Values:\", n_largest_values)\n"
   ]
  },
  {
   "cell_type": "markdown",
   "id": "222eae37",
   "metadata": {},
   "source": [
    "### 90. Given an arbitrary number of vectors, build the cartesian product (every combinations of every item) (★★★)"
   ]
  },
  {
   "cell_type": "code",
   "execution_count": 101,
   "id": "f7fe2e11",
   "metadata": {},
   "outputs": [
    {
     "name": "stdout",
     "output_type": "stream",
     "text": [
      "[[1 4 6]\n",
      " [1 4 7]\n",
      " [1 5 6]\n",
      " [1 5 7]\n",
      " [2 4 6]\n",
      " [2 4 7]\n",
      " [2 5 6]\n",
      " [2 5 7]\n",
      " [3 4 6]\n",
      " [3 4 7]\n",
      " [3 5 6]\n",
      " [3 5 7]]\n"
     ]
    }
   ],
   "source": [
    "def cartesian(arrays):\n",
    "    arrays = [np.asarray(a) for a in arrays]\n",
    "    shape = (len(x) for x in arrays)\n",
    "\n",
    "    ix = np.indices(shape, dtype=int)\n",
    "    ix = ix.reshape(len(arrays), -1).T\n",
    "\n",
    "    for n, arr in enumerate(arrays):\n",
    "        ix[:, n] = arrays[n][ix[:, n]]\n",
    "\n",
    "    return ix\n",
    "\n",
    "print (cartesian(([1, 2, 3], [4, 5], [6, 7])))"
   ]
  },
  {
   "cell_type": "markdown",
   "id": "2d528d18",
   "metadata": {},
   "source": [
    "### 91. How to create a record array from a regular array? (★★★)"
   ]
  },
  {
   "cell_type": "code",
   "execution_count": 164,
   "id": "29d5f5e4",
   "metadata": {},
   "outputs": [
    {
     "name": "stdout",
     "output_type": "stream",
     "text": [
      "[(b'Hello', 2.5, 3) (b'World', 3.6, 2)]\n"
     ]
    }
   ],
   "source": [
    "Z = np.array([(\"Hello\", 2.5, 3),\n",
    "              (\"World\", 3.6, 2)])\n",
    "R = np.core.records.fromarrays(Z.T, \n",
    "                               names='col1, col2, col3',\n",
    "                               formats = 'S8, f8, i8')\n",
    "print(R)"
   ]
  },
  {
   "cell_type": "markdown",
   "id": "29a90ee9",
   "metadata": {},
   "source": [
    "### 92. Consider a large vector Z, compute Z to the power of 3 using 3 different methods (★★★)"
   ]
  },
  {
   "cell_type": "code",
   "execution_count": 165,
   "id": "6576d3c9",
   "metadata": {},
   "outputs": [
    {
     "name": "stdout",
     "output_type": "stream",
     "text": [
      "Method 1 Result (Sample): [2.74610538e-03 7.68300033e-01 7.94421973e-01 1.46643316e-03\n",
      " 4.08494257e-04 4.01428255e-02 3.09265668e-01 3.73131807e-06\n",
      " 8.22782209e-01 2.89399741e-02]\n"
     ]
    }
   ],
   "source": [
    "import numpy as np\n",
    "\n",
    "# Create a large vector Z (replace with your own data)\n",
    "Z = np.random.rand(1000000)  # Example vector with 1 million elements\n",
    "\n",
    "# Method 1: Using NumPy's power function\n",
    "result1 = np.power(Z, 3)\n",
    "\n",
    "# Method 2: Using the ** operator\n",
    "result2 = Z ** 3\n",
    "\n",
    "# Method 3: Using NumPy's multiply function\n",
    "result3 = np.multiply(np.multiply(Z, Z), Z)\n",
    "\n",
    "# Verify if all methods produce the same result\n",
    "assert np.allclose(result1, result2) and np.allclose(result2, result3)\n",
    "\n",
    "# Print a portion of the result for verification\n",
    "print(\"Method 1 Result (Sample):\", result1[:10])\n",
    "\n",
    "\n"
   ]
  },
  {
   "cell_type": "markdown",
   "id": "f268aa88",
   "metadata": {},
   "source": [
    "### 93. Consider two arrays A and B of shape (8,3) and (2,2). How to find rows of A that contain elements of each row of B regardless of the order of the elements in B? (★★★)"
   ]
  },
  {
   "cell_type": "code",
   "execution_count": 166,
   "id": "aeb213fa",
   "metadata": {
    "scrolled": true
   },
   "outputs": [
    {
     "name": "stdout",
     "output_type": "stream",
     "text": [
      "Array A:\n",
      "[[1 2 3]\n",
      " [4 5 6]\n",
      " [7 8 9]\n",
      " [3 2 1]\n",
      " [9 8 7]\n",
      " [6 5 4]\n",
      " [2 1 3]\n",
      " [0 0 0]]\n",
      "\n",
      "Array B:\n",
      "[[1 2]\n",
      " [7 8]]\n",
      "\n",
      "Rows of A that contain elements of each row of B:\n",
      "[]\n"
     ]
    }
   ],
   "source": [
    "import numpy as np\n",
    "\n",
    "# Create two example arrays A and B\n",
    "A = np.array([[1, 2, 3],\n",
    "              [4, 5, 6],\n",
    "              [7, 8, 9],\n",
    "              [3, 2, 1],\n",
    "              [9, 8, 7],\n",
    "              [6, 5, 4],\n",
    "              [2, 1, 3],\n",
    "              [0, 0, 0]])\n",
    "\n",
    "B = np.array([[1, 2],\n",
    "              [7, 8]])\n",
    "\n",
    "# Find the sorted unique elements in B\n",
    "sorted_unique_B = np.sort(B, axis=1)\n",
    "sorted_unique_B = np.unique(sorted_unique_B, axis=0)\n",
    "\n",
    "# Find rows in A that contain elements of each row in sorted_unique_B\n",
    "matching_rows = np.all(np.isin(A, sorted_unique_B), axis=1)\n",
    "\n",
    "# Extract and print the matching rows from A\n",
    "result = A[matching_rows]\n",
    "\n",
    "print(\"Array A:\")\n",
    "print(A)\n",
    "print(\"\\nArray B:\")\n",
    "print(B)\n",
    "print(\"\\nRows of A that contain elements of each row of B:\")\n",
    "print(result)\n"
   ]
  },
  {
   "cell_type": "markdown",
   "id": "82468b43",
   "metadata": {},
   "source": [
    "### 94. Considering a 10x3 matrix, extract rows with unequal values (e.g. [2,2,3]) (★★★)\n"
   ]
  },
  {
   "cell_type": "code",
   "execution_count": 167,
   "id": "59b1cc35",
   "metadata": {},
   "outputs": [
    {
     "name": "stdout",
     "output_type": "stream",
     "text": [
      "Original Matrix:\n",
      "[[2 2 2]\n",
      " [1 2 3]\n",
      " [3 3 3]\n",
      " [4 4 4]\n",
      " [1 1 1]\n",
      " [2 2 2]\n",
      " [5 6 5]\n",
      " [7 8 9]\n",
      " [0 1 2]\n",
      " [3 3 3]]\n",
      "\n",
      "Rows with Unequal Values:\n",
      "[[1 2 3]\n",
      " [5 6 5]\n",
      " [7 8 9]\n",
      " [0 1 2]]\n"
     ]
    }
   ],
   "source": [
    "import numpy as np\n",
    "\n",
    "# Create a 10x3 matrix (replace with your own data)\n",
    "matrix = np.array([[2, 2, 2],\n",
    "                  [1, 2, 3],\n",
    "                  [3, 3, 3],\n",
    "                  [4, 4, 4],\n",
    "                  [1, 1, 1],\n",
    "                  [2, 2, 2],\n",
    "                  [5, 6, 5],\n",
    "                  [7, 8, 9],\n",
    "                  [0, 1, 2],\n",
    "                  [3, 3, 3]])\n",
    "\n",
    "# Check if each element in a row is not equal to the first element\n",
    "unequal_rows = ~np.all(matrix == matrix[:, 0][:, np.newaxis], axis=1)\n",
    "\n",
    "# Extract rows with unequal values\n",
    "result = matrix[unequal_rows]\n",
    "\n",
    "print(\"Original Matrix:\")\n",
    "print(matrix)\n",
    "print(\"\\nRows with Unequal Values:\")\n",
    "print(result)\n",
    "\n",
    "  \n"
   ]
  },
  {
   "cell_type": "markdown",
   "id": "d1bdddf9",
   "metadata": {},
   "source": [
    "### 95. Convert a vector of ints into a matrix binary representation (★★★)"
   ]
  },
  {
   "cell_type": "code",
   "execution_count": 169,
   "id": "8ed31e76",
   "metadata": {
    "scrolled": true
   },
   "outputs": [
    {
     "name": "stdout",
     "output_type": "stream",
     "text": [
      "[[0 0 0 0 0 0 0 0]\n",
      " [0 0 0 0 0 0 0 1]\n",
      " [0 0 0 0 0 0 1 0]\n",
      " [0 0 0 0 0 0 1 1]\n",
      " [0 0 0 0 1 1 1 1]\n",
      " [0 0 0 1 0 0 0 0]\n",
      " [0 0 1 0 0 0 0 0]\n",
      " [0 1 0 0 0 0 0 0]\n",
      " [1 0 0 0 0 0 0 0]]\n",
      "[[0 0 0 0 0 0 0 0]\n",
      " [0 0 0 0 0 0 0 1]\n",
      " [0 0 0 0 0 0 1 0]\n",
      " [0 0 0 0 0 0 1 1]\n",
      " [0 0 0 0 1 1 1 1]\n",
      " [0 0 0 1 0 0 0 0]\n",
      " [0 0 1 0 0 0 0 0]\n",
      " [0 1 0 0 0 0 0 0]\n",
      " [1 0 0 0 0 0 0 0]]\n"
     ]
    }
   ],
   "source": [
    "I = np.array([0, 1, 2, 3, 15, 16, 32, 64, 128])\n",
    "B = ((I.reshape(-1,1) & (2**np.arange(8))) != 0).astype(int)\n",
    "print(B[:,::-1])\n",
    "\n",
    "# Author: Daniel T. McDonald\n",
    "\n",
    "I = np.array([0, 1, 2, 3, 15, 16, 32, 64, 128], dtype=np.uint8)\n",
    "print(np.unpackbits(I[:, np.newaxis], axis=1))"
   ]
  },
  {
   "cell_type": "markdown",
   "id": "1b36ec7c",
   "metadata": {},
   "source": [
    "### 96. Given a two dimensional array, how to extract unique rows? (★★★)"
   ]
  },
  {
   "cell_type": "code",
   "execution_count": 170,
   "id": "41c100e1",
   "metadata": {},
   "outputs": [
    {
     "name": "stdout",
     "output_type": "stream",
     "text": [
      "Original 2D Array:\n",
      "[[1 2 3]\n",
      " [4 5 6]\n",
      " [1 2 3]\n",
      " [7 8 9]\n",
      " [4 5 6]]\n",
      "\n",
      "Unique Rows:\n",
      "[[1 2 3]\n",
      " [4 5 6]\n",
      " [7 8 9]]\n"
     ]
    }
   ],
   "source": [
    "import numpy as np\n",
    "\n",
    "# Create a two-dimensional array (replace with your own data)\n",
    "array_2d = np.array([[1, 2, 3],\n",
    "                    [4, 5, 6],\n",
    "                    [1, 2, 3],\n",
    "                    [7, 8, 9],\n",
    "                    [4, 5, 6]])\n",
    "\n",
    "# Use numpy.unique with the axis parameter to get unique rows\n",
    "unique_rows = np.unique(array_2d, axis=0)\n",
    "\n",
    "print(\"Original 2D Array:\")\n",
    "print(array_2d)\n",
    "print(\"\\nUnique Rows:\")\n",
    "print(unique_rows)\n"
   ]
  },
  {
   "cell_type": "markdown",
   "id": "0ac7b363",
   "metadata": {},
   "source": [
    "### 97. Considering 2 vectors A & B, write the einsum equivalent of inner, outer, sum, and mul function (★★★)"
   ]
  },
  {
   "cell_type": "code",
   "execution_count": 171,
   "id": "d4ea4d81",
   "metadata": {},
   "outputs": [
    {
     "data": {
      "text/plain": [
       "array([[0.0313039 , 0.28224819, 0.31629659, 0.27214441, 0.04247131,\n",
       "        0.12578389, 0.01977339, 0.30019119, 0.0672    , 0.13631293],\n",
       "       [0.04245511, 0.38279185, 0.42896911, 0.36908885, 0.05760062,\n",
       "        0.17059116, 0.02681715, 0.40712657, 0.09113827, 0.1848709 ],\n",
       "       [0.09084556, 0.81909904, 0.91790928, 0.78977734, 0.12325397,\n",
       "        0.36503143, 0.05738342, 0.87117055, 0.19501792, 0.39558725],\n",
       "       [0.08437092, 0.76072117, 0.85248913, 0.73348926, 0.11446956,\n",
       "        0.33901533, 0.05329366, 0.8090815 , 0.18111883, 0.36739342],\n",
       "       [0.02203407, 0.19866774, 0.22263359, 0.19155593, 0.02989454,\n",
       "        0.08853626, 0.01391802, 0.21129738, 0.04730047, 0.0959474 ],\n",
       "       [0.01725018, 0.1555344 , 0.17429696, 0.14996666, 0.02340405,\n",
       "        0.0693139 , 0.01089624, 0.16542199, 0.03703093, 0.07511598],\n",
       "       [0.002554  , 0.02302785, 0.02580577, 0.02220351, 0.00346512,\n",
       "        0.01026236, 0.00161326, 0.02449177, 0.00548266, 0.0111214 ],\n",
       "       [0.02133208, 0.19233836, 0.21554068, 0.18545312, 0.02894212,\n",
       "        0.08571557, 0.0134746 , 0.20456563, 0.04579352, 0.0928906 ],\n",
       "       [0.0384854 , 0.34699938, 0.3888589 , 0.33457767, 0.05221475,\n",
       "        0.15464025, 0.02430965, 0.36905871, 0.0826165 , 0.16758478],\n",
       "       [0.02332374, 0.21029594, 0.23566453, 0.20276787, 0.03164429,\n",
       "        0.09371837, 0.01473265, 0.2236648 , 0.05006901, 0.10156329]])"
      ]
     },
     "execution_count": 171,
     "metadata": {},
     "output_type": "execute_result"
    }
   ],
   "source": [
    "A = np.random.uniform(0,1,10)\n",
    "B = np.random.uniform(0,1,10)\n",
    "\n",
    "np.einsum('i->', A)       # np.sum(A)\n",
    "np.einsum('i,i->i', A, B) # A * B\n",
    "np.einsum('i,i', A, B)    # np.inner(A, B)\n",
    "np.einsum('i,j->ij', A, B)    # np.outer(A, B)"
   ]
  },
  {
   "cell_type": "markdown",
   "id": "b0c8a8b4",
   "metadata": {},
   "source": [
    "### 98. Considering a path described by two vectors (X,Y), how to sample it using equidistant samples (★★★)?"
   ]
  },
  {
   "cell_type": "code",
   "execution_count": 172,
   "id": "99f28b67",
   "metadata": {},
   "outputs": [
    {
     "name": "stdout",
     "output_type": "stream",
     "text": [
      "Sampled Path:\n",
      "[[ 0.          0.        ]\n",
      " [ 0.3593909   0.7187818 ]\n",
      " [ 0.7187818   1.43756361]\n",
      " [ 1.15634541  2.0781727 ]\n",
      " [ 1.87512721  2.43756361]\n",
      " [ 2.59390901  2.79695451]\n",
      " [ 3.33165869  3.1105529 ]\n",
      " [ 4.09404192  3.36468064]\n",
      " [ 4.85642515  3.61880838]\n",
      " [ 5.61880838  3.87293613]\n",
      " [ 6.38119162  3.87293613]\n",
      " [ 7.14357485  3.61880838]\n",
      " [ 7.90595808  3.36468064]\n",
      " [ 8.66834131  3.1105529 ]\n",
      " [ 9.40609099  2.79695451]\n",
      " [10.12487279  2.43756361]\n",
      " [10.84365459  2.0781727 ]\n",
      " [11.2812182   1.43756361]\n",
      " [11.6406091   0.7187818 ]\n",
      " [12.          0.        ]]\n"
     ]
    }
   ],
   "source": [
    "import numpy as np\n",
    "\n",
    "# Create two vectors X and Y describing the path\n",
    "X = np.array([0, 1, 3, 6, 9, 11, 12])\n",
    "Y = np.array([0, 2, 3, 4, 3, 2, 0])\n",
    "\n",
    "# Calculate the total path length\n",
    "path_length = np.cumsum(np.sqrt(np.diff(X) ** 2 + np.diff(Y) ** 2))\n",
    "path_length = np.insert(path_length, 0, 0)  # Insert a zero at the beginning\n",
    "\n",
    "# Define the number of equidistant samples\n",
    "num_samples = 20\n",
    "\n",
    "# Linearly interpolate the path at equidistant intervals\n",
    "sampled_indices = np.linspace(0, path_length[-1], num_samples)\n",
    "sampled_X = np.interp(sampled_indices, path_length, X)\n",
    "sampled_Y = np.interp(sampled_indices, path_length, Y)\n",
    "\n",
    "# Print the sampled path\n",
    "sampled_path = np.column_stack((sampled_X, sampled_Y))\n",
    "print(\"Sampled Path:\")\n",
    "print(sampled_path)\n"
   ]
  },
  {
   "cell_type": "markdown",
   "id": "1413ccd8",
   "metadata": {},
   "source": [
    "### 99. Given an integer n and a 2D array X, select from X the rows which can be interpreted as draws from a multinomial distribution with n degrees, i.e., the rows which only contain integers and which sum to n. (★★★)"
   ]
  },
  {
   "cell_type": "code",
   "execution_count": 174,
   "id": "fd2dde72",
   "metadata": {},
   "outputs": [
    {
     "name": "stdout",
     "output_type": "stream",
     "text": [
      "[[2. 0. 1. 1.]]\n"
     ]
    }
   ],
   "source": [
    "X = np.asarray([[1.0, 0.0, 3.0, 8.0],\n",
    "                [2.0, 0.0, 1.0, 1.0],\n",
    "                [1.5, 2.5, 1.0, 0.0]])\n",
    "n = 4\n",
    "M = np.logical_and.reduce(np.mod(X, 1) == 0, axis=-1)\n",
    "M &= (X.sum(axis=-1) == n)\n",
    "print(X[M])"
   ]
  },
  {
   "cell_type": "markdown",
   "id": "e64486fb",
   "metadata": {},
   "source": [
    "### 100. Compute bootstrapped 95% confidence intervals for the mean of a 1D array X (i.e., resample the elements of an array with replacement N times, compute the mean of each sample, and then compute percentiles over the means). (★★★)"
   ]
  },
  {
   "cell_type": "code",
   "execution_count": 175,
   "id": "80b7e20c",
   "metadata": {
    "scrolled": true
   },
   "outputs": [
    {
     "name": "stdout",
     "output_type": "stream",
     "text": [
      "Original 1D Array X:\n",
      "[ 1  2  3  4  5  6  7  8  9 10]\n",
      "\n",
      "95% Confidence Interval for the Mean (Bootstrapped):\n",
      "[3.8 7.3]\n"
     ]
    }
   ],
   "source": [
    "import numpy as np\n",
    "\n",
    "# Example 1D array X (replace with your own data)\n",
    "X = np.array([1, 2, 3, 4, 5, 6, 7, 8, 9, 10])\n",
    "\n",
    "# Number of bootstraps\n",
    "num_bootstraps = 1000\n",
    "\n",
    "# Number of samples in each bootstrap (same as the original dataset)\n",
    "sample_size = len(X)\n",
    "\n",
    "# Initialize an array to store bootstrapped means\n",
    "bootstrap_means = np.empty(num_bootstraps)\n",
    "\n",
    "# Perform bootstrapping\n",
    "for i in range(num_bootstraps):\n",
    "    # Resample the array with replacement\n",
    "    resampled_data = np.random.choice(X, size=sample_size, replace=True)\n",
    "    # Calculate the mean of the resampled data\n",
    "    bootstrap_means[i] = np.mean(resampled_data)\n",
    "\n",
    "# Calculate the 2.5th and 97.5th percentiles to get the 95% confidence interval\n",
    "confidence_interval = np.percentile(bootstrap_means, [2.5, 97.5])\n",
    "\n",
    "print(\"Original 1D Array X:\")\n",
    "print(X)\n",
    "print(\"\\n95% Confidence Interval for the Mean (Bootstrapped):\")\n",
    "print(confidence_interval)\n"
   ]
  },
  {
   "cell_type": "code",
   "execution_count": null,
   "id": "b0355d2e",
   "metadata": {},
   "outputs": [],
   "source": []
  },
  {
   "cell_type": "code",
   "execution_count": null,
   "id": "71d28f21",
   "metadata": {},
   "outputs": [],
   "source": []
  }
 ],
 "metadata": {
  "kernelspec": {
   "display_name": "Python 3 (ipykernel)",
   "language": "python",
   "name": "python3"
  },
  "language_info": {
   "codemirror_mode": {
    "name": "ipython",
    "version": 3
   },
   "file_extension": ".py",
   "mimetype": "text/x-python",
   "name": "python",
   "nbconvert_exporter": "python",
   "pygments_lexer": "ipython3",
   "version": "3.11.4"
  }
 },
 "nbformat": 4,
 "nbformat_minor": 5
}
